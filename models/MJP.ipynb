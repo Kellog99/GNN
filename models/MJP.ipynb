{
 "cells": [
  {
   "cell_type": "code",
   "execution_count": 1,
   "id": "8b009d12-fe78-4716-8473-da0b50a2b049",
   "metadata": {},
   "outputs": [],
   "source": [
    "import os\n",
    "import random\n",
    "import networkx as nx\n",
    "import matplotlib.pyplot as plt\n",
    "import numpy as np\n",
    "import plotly.express as px\n",
    "import torch\n",
    "import torch.nn.functional as F"
   ]
  },
  {
   "cell_type": "code",
   "execution_count": 2,
   "id": "a7c98298-d187-43d2-a253-512663547a0c",
   "metadata": {},
   "outputs": [
    {
     "ename": "KeyboardInterrupt",
     "evalue": "",
     "output_type": "error",
     "traceback": [
      "\u001b[0;31m---------------------------------------------------------------------------\u001b[0m",
      "\u001b[0;31mKeyboardInterrupt\u001b[0m                         Traceback (most recent call last)",
      "Cell \u001b[0;32mIn[2], line 32\u001b[0m\n\u001b[1;32m     30\u001b[0m change \u001b[38;5;241m=\u001b[39m \u001b[38;5;28;01mTrue\u001b[39;00m\n\u001b[1;32m     31\u001b[0m \u001b[38;5;28;01mwhile\u001b[39;00m (evolution[\u001b[38;5;241m-\u001b[39m\u001b[38;5;241m1\u001b[39m][\u001b[38;5;241m0\u001b[39m,\u001b[38;5;241m-\u001b[39m\u001b[38;5;241m1\u001b[39m] \u001b[38;5;241m!=\u001b[39m torch\u001b[38;5;241m.\u001b[39msum(evolution[\u001b[38;5;241m-\u001b[39m\u001b[38;5;241m1\u001b[39m])\u001b[38;5;241m.\u001b[39mitem()) \u001b[38;5;241m&\u001b[39m cont:\n\u001b[0;32m---> 32\u001b[0m     x \u001b[38;5;241m=\u001b[39m \u001b[43mstoch_step\u001b[49m\u001b[43m(\u001b[49m\u001b[43mx\u001b[49m\u001b[43m,\u001b[49m\u001b[43m \u001b[49m\n\u001b[1;32m     33\u001b[0m \u001b[43m                   \u001b[49m\u001b[43madj\u001b[49m\u001b[43m,\u001b[49m\u001b[43m \u001b[49m\n\u001b[1;32m     34\u001b[0m \u001b[43m                   \u001b[49m\u001b[43mc\u001b[49m\u001b[43m \u001b[49m\u001b[38;5;241;43m=\u001b[39;49m\u001b[43m \u001b[49m\u001b[38;5;241;43m1e2\u001b[39;49m\u001b[43m)\u001b[49m\n\u001b[1;32m     35\u001b[0m     evolution\u001b[38;5;241m.\u001b[39mappend(x\u001b[38;5;241m.\u001b[39mclone())\n\u001b[1;32m     36\u001b[0m     step \u001b[38;5;241m+\u001b[39m\u001b[38;5;241m=\u001b[39m \u001b[38;5;241m1\u001b[39m\n",
      "Cell \u001b[0;32mIn[2], line 13\u001b[0m, in \u001b[0;36mstoch_step\u001b[0;34m(x, adj, c)\u001b[0m\n\u001b[1;32m     11\u001b[0m \u001b[38;5;28;01mdef\u001b[39;00m \u001b[38;5;21mstoch_step\u001b[39m(x, adj, c \u001b[38;5;241m=\u001b[39m \u001b[38;5;241m1e-3\u001b[39m):\n\u001b[1;32m     12\u001b[0m     \u001b[38;5;66;03m#m = torch.cdist(x.transpose(-2,-1).float(), x.transpose(-2,-1).float())/x.shape[1]**0.5\u001b[39;00m\n\u001b[0;32m---> 13\u001b[0m     k \u001b[38;5;241m=\u001b[39m torch\u001b[38;5;241m.\u001b[39mtensor([\u001b[38;5;28mrange\u001b[39m(\u001b[38;5;241m1\u001b[39m, x\u001b[38;5;241m.\u001b[39mshape[\u001b[38;5;241m-\u001b[39m\u001b[38;5;241m1\u001b[39m]\u001b[38;5;241m+\u001b[39m\u001b[38;5;241m1\u001b[39m)])\u001b[38;5;241m.\u001b[39mtranspose(\u001b[38;5;241m-\u001b[39m\u001b[38;5;241m2\u001b[39m,\u001b[38;5;241m-\u001b[39m\u001b[38;5;241m1\u001b[39m)\u001b[38;5;241m*\u001b[39m\u001b[43mtorch\u001b[49m\u001b[38;5;241;43m.\u001b[39;49m\u001b[43mtensor\u001b[49m\u001b[43m(\u001b[49m\u001b[43m[\u001b[49m\u001b[38;5;241;43m1\u001b[39;49m\u001b[38;5;241;43m/\u001b[39;49m\u001b[43mx\u001b[49m\u001b[38;5;241;43m*\u001b[39;49m\u001b[38;5;241;43m*\u001b[39;49m\u001b[38;5;241;43m2\u001b[39;49m\u001b[43m \u001b[49m\u001b[38;5;28;43;01mfor\u001b[39;49;00m\u001b[43m \u001b[49m\u001b[43mx\u001b[49m\u001b[43m \u001b[49m\u001b[38;5;129;43;01min\u001b[39;49;00m\u001b[43m \u001b[49m\u001b[38;5;28;43mrange\u001b[39;49m\u001b[43m(\u001b[49m\u001b[38;5;241;43m1\u001b[39;49m\u001b[43m,\u001b[49m\u001b[43mx\u001b[49m\u001b[38;5;241;43m.\u001b[39;49m\u001b[43mshape\u001b[49m\u001b[43m[\u001b[49m\u001b[38;5;241;43m-\u001b[39;49m\u001b[38;5;241;43m1\u001b[39;49m\u001b[43m]\u001b[49m\u001b[38;5;241;43m+\u001b[39;49m\u001b[38;5;241;43m1\u001b[39;49m\u001b[43m)\u001b[49m\u001b[43m]\u001b[49m\u001b[43m)\u001b[49m\n\u001b[1;32m     14\u001b[0m     m \u001b[38;5;241m=\u001b[39m \u001b[38;5;241m-\u001b[39mc\u001b[38;5;241m*\u001b[39m(x\u001b[38;5;241m.\u001b[39mfloat()\u001b[38;5;241m-\u001b[39mx\u001b[38;5;241m.\u001b[39mtranspose(\u001b[38;5;241m-\u001b[39m\u001b[38;5;241m2\u001b[39m,\u001b[38;5;241m-\u001b[39m\u001b[38;5;241m1\u001b[39m)\u001b[38;5;241m.\u001b[39mfloat())\u001b[38;5;241m*\u001b[39mk\u001b[38;5;241m/\u001b[39mx\u001b[38;5;241m.\u001b[39mshape[\u001b[38;5;241m1\u001b[39m]\u001b[38;5;241m*\u001b[39m\u001b[38;5;241m*\u001b[39m\u001b[38;5;241m0.5\u001b[39m\n\u001b[1;32m     15\u001b[0m     m \u001b[38;5;241m=\u001b[39m F\u001b[38;5;241m.\u001b[39msoftmax(m\u001b[38;5;241m.\u001b[39mfloat()\u001b[38;5;241m.\u001b[39mmasked_fill(adj \u001b[38;5;241m==\u001b[39m \u001b[38;5;241m0.\u001b[39m, \u001b[38;5;28mfloat\u001b[39m(\u001b[38;5;124m\"\u001b[39m\u001b[38;5;124m-infinity\u001b[39m\u001b[38;5;124m\"\u001b[39m)), \u001b[38;5;241m1\u001b[39m)\n",
      "\u001b[0;31mKeyboardInterrupt\u001b[0m: "
     ]
    }
   ],
   "source": [
    "torch.manual_seed(1234)\n",
    "node = 100\n",
    "x = torch.zeros(1,node+1)\n",
    "x[0,0] = 100\n",
    "adj = torch.sign(F.relu(torch.tril(torch.triu(torch.bernoulli(torch.tensor(0.8).repeat(x.shape[1],x.shape[1])), -3), 3)-torch.eye(x.shape[1])))+torch.eye(x.shape[1])\n",
    "adj[-1,:] = torch.zeros_like(adj[-1,:])\n",
    "adj[-1,-1] =1 \n",
    "#adj = torch.tril(torch.triu(torch.ones(x.shape[1],x.shape[1])),3)\n",
    "x\n",
    "\n",
    "def stoch_step(x, adj, c = 1e-3):\n",
    "    #m = torch.cdist(x.transpose(-2,-1).float(), x.transpose(-2,-1).float())/x.shape[1]**0.5\n",
    "    k = torch.tensor([range(1, x.shape[-1]+1)]).transpose(-2,-1)*torch.tensor([1/x**2 for x in range(1,x.shape[-1]+1)])\n",
    "    m = -c*(x.float()-x.transpose(-2,-1).float())*k/x.shape[1]**0.5\n",
    "    m = F.softmax(m.float().masked_fill(adj == 0., float(\"-infinity\")), 1)\n",
    "    index, freq = m[x[0]>0.,:].multinomial(1).reshape(-1).unique(return_counts = True)\n",
    "    \n",
    "    x[0,x[0]>0.] -= 1\n",
    "    x[0,index] += freq\n",
    "\n",
    "    # this means that every 180 second I expect a new person at the entrance\n",
    "    if np.random.rand()< 1/180:\n",
    "        x[0,0]+=1\n",
    "    return x\n",
    "\n",
    "persons = torch.sum(x).item()\n",
    "evolution = [x.clone()]\n",
    "cont = True\n",
    "step = 1\n",
    "change = True\n",
    "while (evolution[-1][0,-1] != torch.sum(evolution[-1]).item()) & cont:\n",
    "    x = stoch_step(x, \n",
    "                   adj, \n",
    "                   c = 1e2)\n",
    "    evolution.append(x.clone())\n",
    "    step += 1\n",
    "    \n",
    "    if change & (step > 3600):\n",
    "        adj = torch.triu(adj-torch.eye(x.shape[1]))\n",
    "        adj[-1,-1] =1 \n",
    "        change = False\n",
    "    \n",
    "    if step >10000:\n",
    "        cont = False\n",
    "evolution = torch.vstack(evolution)\n",
    "d = {}\n",
    "for i in range(x.shape[1]):\n",
    "    d[f\"node {i}\"] = evolution[:,i].numpy()\n",
    "\n",
    "nodes = [f\"node {i}\" for i in range(0, node, 10)]\n",
    "nodes.append(f\"node {node}\")\n",
    "px.line(d,\n",
    "        y = nodes,\n",
    "        title = \"People flow\", \n",
    "        height = 600, \n",
    "        width = 1200).update_layout(xaxis_title = \"step\", yaxis_title =  \"people\")"
   ]
  },
  {
   "cell_type": "code",
   "execution_count": null,
   "id": "dade72d5-f0c4-49a4-8abe-b9497e757832",
   "metadata": {},
   "outputs": [],
   "source": [
    "os.system(\"gnome-terminal -e 'bash -c \\\"cd /home/andrea/Scrivania/Tesi/leonardo; jupyter-lab; exec bash\\\"'\")\n",
    "os.system(\"gnome-terminal -e 'bash -c \\\"watch -n 1 sensors; exec bash\\\"'\")\n",
    "os.system(\"gnome-terminal -e 'bash -c \\\"htop; exec bash\\\"'\")\n",
    "os.system(\"gnome-terminal -e 'bash -c \\\"nvtop; exec bash\\\"'\")"
   ]
  },
  {
   "cell_type": "code",
   "execution_count": null,
   "id": "8adf5a05-6ef9-4f2c-abe4-a0c243c7259e",
   "metadata": {},
   "outputs": [],
   "source": []
  },
  {
   "cell_type": "code",
   "execution_count": null,
   "id": "c3333b9f-ad7d-4026-b820-7ca7dff9517f",
   "metadata": {},
   "outputs": [],
   "source": []
  }
 ],
 "metadata": {
  "kernelspec": {
   "display_name": "Python 3 (ipykernel)",
   "language": "python",
   "name": "python3"
  },
  "language_info": {
   "codemirror_mode": {
    "name": "ipython",
    "version": 3
   },
   "file_extension": ".py",
   "mimetype": "text/x-python",
   "name": "python",
   "nbconvert_exporter": "python",
   "pygments_lexer": "ipython3",
   "version": "3.11.5"
  }
 },
 "nbformat": 4,
 "nbformat_minor": 5
}
