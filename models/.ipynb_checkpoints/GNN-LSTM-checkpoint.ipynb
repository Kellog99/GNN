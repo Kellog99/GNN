{
 "cells": [
  {
   "cell_type": "code",
   "execution_count": 1,
   "id": "880f767c-063e-41ab-b717-159c314557f6",
   "metadata": {},
   "outputs": [],
   "source": [
    "import os\n",
    "import random\n",
    "import matplotlib.pyplot as plt\n",
    "import numpy as np\n",
    "import plotly.express as px\n",
    "import torch\n",
    "import torch.nn as nn\n",
    "import torch.nn.functional as F\n",
    "import pandas as pd\n",
    "from tqdm import tqdm\n",
    "import torch.optim as optim\n",
    "import yaml\n",
    "import pickle\n",
    "from torch.utils.data import Dataset, DataLoader\n",
    "from data import covid_dataset\n",
    "import pdb"
   ]
  },
  {
   "cell_type": "markdown",
   "id": "89286644-478c-45ea-b4c4-51357958de33",
   "metadata": {},
   "source": [
    "Carico il configuratore che tiene traccia di tutte le informazioni generali "
   ]
  },
  {
   "cell_type": "code",
   "execution_count": 2,
   "id": "70ea09f7-d49a-4aff-bcd2-e1bf7e5c97a2",
   "metadata": {},
   "outputs": [],
   "source": [
    "with open(\"/home/andrea/Scrivania/Tesi/leonardo/config.yaml\", 'r') as f:\n",
    "    config = yaml.safe_load(f)"
   ]
  },
  {
   "cell_type": "code",
   "execution_count": 3,
   "id": "d5c10aa6-2587-4efd-80c2-fdf9442bbb8e",
   "metadata": {},
   "outputs": [],
   "source": [
    "def get_dataset(config: yaml):\n",
    "\n",
    "    df = pd.read_csv(os.path.join(config['paths']['data'],\"aggregate/covid.csv\"), index_col=0)\n",
    "    y = pd.read_csv(os.path.join(config['paths']['data'],\"aggregate/target.csv\"), index_col=0)\n",
    "    df['data'] = pd.to_datetime(df['data'], format='%Y-%m-%d')\n",
    "    y['data'] = pd.to_datetime(y['data'], format='%Y-%m-%d')    \n",
    "    return df, y\n",
    "    \n",
    "df, y = get_dataset(config)\n",
    "with open(os.path.join(config['paths']['adj'],\"adj_totale.pkl\"), \"rb\") as f:\n",
    "    adj = pickle.load(f)"
   ]
  },
  {
   "cell_type": "code",
   "execution_count": 4,
   "id": "cf7d157b-cf41-4236-99c3-335cceca7d44",
   "metadata": {},
   "outputs": [],
   "source": [
    "past_step = config['setting']['past_step']\n",
    "future_step = config['setting']['future_step']\n",
    "batch_size= 256#config['setting']['batch_size']\n",
    "\n",
    "if config['dataset']['aggregate']:\n",
    "    dataset = torch.load(os.path.join(config['paths']['data'],f\"aggregate/dataset{past_step}_{future_step}.pt\"))\n",
    "    len_train = int(len(dataset)*0.75)\n",
    "    len_val = len(dataset)-len_train\n",
    "    df_train, df_val = torch.utils.data.random_split(dataset=dataset, lengths = [len_train, len_val])\n",
    "    dl_train = DataLoader(dataset=df_train, batch_size=batch_size, shuffle=True)\n",
    "    dl_val = DataLoader(dataset=df_val, batch_size=batch_size, shuffle=True)\n",
    "    batch, y = next(iter(dl_train))\n",
    "    print(batch.shape)\n",
    "    print(y.shape)\n",
    "\n",
    "else:\n",
    "    dl_train = {}\n",
    "    dl_val = {}\n",
    "    for regione in df.codice_regione.unique():\n",
    "        dataset = torch.load(os.path.join(config['paths']['data'],f\"not_aggregate/dataset{regione}_{past_step}_{future_step}.pt\"))\n",
    "        len_train = int(len(dataset)*0.75)\n",
    "        len_val = len(dataset)-len_train\n",
    "        df_train, df_val = torch.utils.data.random_split(dataset=dataset, lengths = [len_train, len_val])\n",
    "        dl_train[regione] = DataLoader(dataset=df_train, batch_size=batch_size, shuffle=True)\n",
    "        dl_val[regione] = DataLoader(dataset=df_val, batch_size=batch_size, shuffle=True)\n",
    "        batch, y = next(iter(dl_train[regione]))"
   ]
  },
  {
   "cell_type": "code",
   "execution_count": 12,
   "id": "23b5eaa1-a59d-41a7-8960-cab807a39903",
   "metadata": {},
   "outputs": [
    {
     "data": {
      "text/plain": [
       "torch.Size([256, 4, 5])"
      ]
     },
     "execution_count": 12,
     "metadata": {},
     "output_type": "execute_result"
    }
   ],
   "source": [
    "class pre_processing(torch.nn.Module):\n",
    "    def __init__(self,\n",
    "                 in_feat:int, \n",
    "                 out_feat:int, \n",
    "                 categorical:list,\n",
    "                 dim_categorical:int, \n",
    "                 concat:bool, \n",
    "                 dropout:float, \n",
    "                 embedding: bool):\n",
    "        \n",
    "        super(pre_processing, self).__init__()\n",
    "        self.in_feat = in_feat\n",
    "        self.concat = concat\n",
    "        self.embedding = embedding\n",
    "        self.embedding = nn.ModuleList([nn.Embedding(categorical[i], dim_categorical) for i in range(len(categorical))])\n",
    "        out = in_feat + (dim_categorical-1)*len(categorical) if concat else in_feat + dim_categorical - len(categorical)\n",
    "        self.linear = nn.Sequential(nn.Dropout(dropout),\n",
    "                                    nn.Linear(in_features = out, out_features = 128),\n",
    "                                    nn.Sigmoid(), \n",
    "                                    nn.Dropout(dropout),\n",
    "                                    nn.Linear(in_features = 128, out_features = 128),\n",
    "                                    nn.Sigmoid(),\n",
    "                                    nn.Linear(in_features = 128, out_features = out_feat))\n",
    "        \n",
    "        \n",
    "    def forward(self, x):\n",
    "        if self.embedding:\n",
    "            out = []\n",
    "            # Con l'unsqueeze creo una nuova dimensione ed è come se mi salvassi per ogni features di ogni nodo di ogni batch tutti gli embedding\n",
    "            # Questo solo se devo sommare tutti gli embedding\n",
    "            for i in range(len(self.embedding)):\n",
    "                if self.concat:\n",
    "                    cat_tmp = x[:, :, -len(self.embedding)+i].int()\n",
    "                else:\n",
    "                    cat_tmp = x[:, :,-len(self.embedding)+i].int().unsqueeze(-1)\n",
    "                out.append(self.embedding[i](cat_tmp))\n",
    "                \n",
    "            out = torch.cat(out,-1 if self.concat else -2)\n",
    "            out = out if self.concat else torch.sum(out, -2)\n",
    "            out = torch.cat((x[:,:,:-len(self.embedding)], out), -1)\n",
    "  \n",
    "        out = self.linear(out.float())\n",
    "        \n",
    "        return out.float()\n",
    "\n",
    "    \n",
    "\n",
    "class my_gcnn(torch.nn.Module):\n",
    "\n",
    "    def __init__(self, \n",
    "                 in_channels: int, \n",
    "                 out_channels: int,\n",
    "                 past:int, \n",
    "                 relu: bool = True):\n",
    "        super(my_gcnn, self).__init__()\n",
    "\n",
    "        self.in_channels = in_channels\n",
    "        self.out_channels = out_channels\n",
    "        self.past = past \n",
    "        self.lin = nn.Linear(in_channels, \n",
    "                             out_channels, \n",
    "                             bias = False)\n",
    "        self.emb = nn.Linear(in_channels, \n",
    "                             256, \n",
    "                             bias = False)\n",
    "        self.relu = nn.ReLU()\n",
    "        if relu:\n",
    "            self.act = nn.ReLU()\n",
    "        else:\n",
    "            self.act = nn.Identity()\n",
    "        \n",
    "\n",
    "    def forward(self,\n",
    "                x0: tuple) -> torch.tensor:\n",
    "        \n",
    "        x, A = x0   \n",
    "        x_emb = self.emb(x)\n",
    "        pi = torch.einsum('bdjk,bdik->bdij', x_emb, x_emb)\n",
    "        # Define the value you want to fill in the masked positions\n",
    "        fill_value = -float('infinity')\n",
    "        # Apply the mask to fill values in the input tensor\n",
    "        pi = F.softmax(pi.masked_fill(A == 0., fill_value), -1)\n",
    "        x = torch.einsum('bpik,bpkj->bpij', pi, x)\n",
    "        x = self.lin(x)\n",
    "        x = self.act(x)\n",
    "        \n",
    "        return (x, A)\n",
    "\n",
    "class LSTMCell(nn.Module):\n",
    "    def __init__(self, input_size, hidden_size):\n",
    "        super(LSTMCell, self).__init__()\n",
    "\n",
    "        self.input_size = input_size\n",
    "        self.hidden_size = hidden_size\n",
    "\n",
    "        # LSTM weights and biases\n",
    "        self.W_i = nn.Linear(input_size + hidden_size, hidden_size)\n",
    "        self.W_f = nn.Linear(input_size + hidden_size, hidden_size)\n",
    "        self.W_o = nn.Linear(input_size + hidden_size, hidden_size)\n",
    "        self.W_g = nn.Linear(input_size + hidden_size, hidden_size)\n",
    "\n",
    "    def forward(self, x, hidden):\n",
    "        h_prev, c_prev = hidden\n",
    "        \n",
    "        # Concatenate input and previous hidden state\n",
    "        combined = torch.cat((x, h_prev), dim=-1)\n",
    "\n",
    "        # Compute the input, forget, output, and cell gates\n",
    "        i = torch.sigmoid(self.W_i(combined))\n",
    "        f = torch.sigmoid(self.W_f(combined))\n",
    "        o = torch.sigmoid(self.W_o(combined))\n",
    "        g = torch.tanh(self.W_g(combined))\n",
    "\n",
    "        # Update the cell state and hidden state\n",
    "        c = f * c_prev + i * g\n",
    "        h = o * torch.tanh(c)\n",
    "\n",
    "        return h, c\n",
    "        \n",
    "        \n",
    "class GLSTM(torch.nn.Module):\n",
    "    def __init__(self, \n",
    "                 in_feat:int, \n",
    "                 past: int, \n",
    "                 future: int,\n",
    "                 categorical:list,\n",
    "                 out_preprocess:int = 128, \n",
    "                 dropout: float = 0.1, \n",
    "                 embedding:bool = True, \n",
    "                 dim_categorical:int = 64, \n",
    "                 concat:bool = True,\n",
    "                 num_layer_gnn:int = 1,\n",
    "                 hidden_gnn:int = 64,\n",
    "                 hidden_lstm: int = 128, \n",
    "                 hidden_propagation:int = 256):\n",
    "        \n",
    "        super(GLSTM, self).__init__()\n",
    "        \n",
    "        self.out_gnn = 1#nfeat_out_gnn        \n",
    "        self.in_feat = in_feat         # numero di features di ogni nodo prima del primo GAT        \n",
    "        self.past = past \n",
    "        self.future = future\n",
    "        self.embedding = embedding\n",
    "        self.hidden_gnn = hidden_gnn\n",
    "        self.hidden_lstm = hidden_lstm\n",
    "        ########## PREPROCESSING PART #############        \n",
    "        # preprossessing dell'input\n",
    "        self.out_preprocess = out_preprocess\n",
    "        self.pre_processing = pre_processing(in_feat = in_feat, \n",
    "                                             out_feat = out_preprocess, \n",
    "                                             categorical = categorical,\n",
    "                                             embedding = embedding, \n",
    "                                             dropout = dropout, \n",
    "                                             dim_categorical = dim_categorical, \n",
    "                                             concat = False)\n",
    "        \n",
    "        ########## FIRST GNN PART #############\n",
    "        # LA CGNN mi permette di vedere spazialmente la situazione circostante\n",
    "        # più layer di CGNN più spazialmente distante arriva l'informazione\n",
    "        # B x P x N x F\n",
    "    \n",
    "        layers = []\n",
    "        \n",
    "        for i in range(num_layer_gnn):\n",
    "            in_channels = self.out_preprocess if i == 0 else hidden_gnn\n",
    "            #out_channels = self.out_gnn if i == (num_layer_gnn - 1) else hidden_gnn\n",
    "            #relu = True if i != (num_layer_gnn - 1) else False\n",
    "            layers.append(my_gcnn(in_channels = in_channels, \n",
    "                                  out_channels = hidden_gnn, \n",
    "                                  past = past,\n",
    "                                  relu = True))            \n",
    "        self.gnn = nn.Sequential(*layers)\n",
    "\n",
    "        self.lstm = LSTMCell(input_size = hidden_gnn, \n",
    "                             hidden_size = hidden_lstm)\n",
    "        self.lstm_future = LSTMCell(input_size = hidden_lstm, \n",
    "                                    hidden_size = hidden_lstm)\n",
    "        \n",
    "        self.decoding = nn.Sequential(nn.Linear(in_features = hidden_lstm, \n",
    "                                                out_features = hidden_propagation), \n",
    "                                      nn.Sigmoid(),\n",
    "                                      nn.Linear(in_features = hidden_propagation,\n",
    "                                                out_features = 1))\n",
    "               \n",
    "    def forward(self, x):\n",
    "        # pre-processing dei dati\n",
    "        x = self.pre_processing(x)\n",
    "        nodes = x.shape[1]//self.past\n",
    "        x = x.view(-1, self.past, nodes, self.out_preprocess)\n",
    "        \n",
    "        ########## GNN processing ######################\n",
    "        adj = torch.torch.ones_like(torch.eye(nodes), device = x.device.type)\n",
    "        x, _ = self.gnn((x, adj.float()))\n",
    "        \n",
    "        batch_size, seq_len, nodes, features = x.size()\n",
    "\n",
    "        # Initialize hidden and cell states\n",
    "        h, c = [torch.zeros(batch_size, nodes, self.hidden_lstm).to(x.device)] * 2\n",
    "        for t in range(seq_len):\n",
    "            h, c = self.lstm(x[:, t], (h, c))\n",
    "        \n",
    "        h, c = [torch.zeros(batch_size, nodes, self.hidden_lstm).to(x.device)] * 2\n",
    "        out = []\n",
    "        for t in range(self.future):\n",
    "            h, c = self.lstm_future(h, (h, c))\n",
    "            out.append(h.unsqueeze(1))\n",
    "        out = torch.cat(out, 1)\n",
    "  \n",
    "        x = self.decoding(out).flatten(-2)\n",
    "        return  x#.transpose(-2,-1)\n",
    "model = GLSTM(in_feat = batch.float().shape[-1], \n",
    "              past = past_step,\n",
    "              future = future_step,\n",
    "              categorical = config['model']['categorical'],\n",
    "              embedding = config['model']['embedding'])\n",
    "model(batch).shape"
   ]
  },
  {
   "cell_type": "code",
   "execution_count": 6,
   "id": "7af7b368-eb3d-4c38-8dc1-40e7caeba1d1",
   "metadata": {},
   "outputs": [],
   "source": [
    "def step(model, \n",
    "         dataloader,\n",
    "         optimizer,\n",
    "         criterion,\n",
    "         device,\n",
    "         training: bool = False):\n",
    "\n",
    "    if training:\n",
    "        model.train()\n",
    "    else:\n",
    "        model.eval()\n",
    "    desc = \"training\" if training else \"validation\"\n",
    "\n",
    "    loss_epoch = 0.0\n",
    "    \n",
    "    for x, y in iter(dataloader):\n",
    "        x = x.to(device).float()\n",
    "        yh = model(x)\n",
    "        overall = criterion(yh.sum(-1).float(), y.sum(-1).to(device).float())\n",
    "        loss = criterion(yh.float(), y.to(device).float()) + overall\n",
    "\n",
    "        # Backward and optimize\n",
    "        if training:\n",
    "            loss.backward()\n",
    "            optimizer.step()\n",
    "            \n",
    "            # blocking the gradient summation \n",
    "            optimizer.zero_grad()\n",
    "\n",
    "\n",
    "        loss_epoch += loss.item()/len(dataloader)\n",
    "\n",
    "    return loss_epoch\n",
    "\n",
    "\n",
    "def training(model, \n",
    "             train_loader, \n",
    "             val_loader, \n",
    "             num_epochs, \n",
    "             criterion,\n",
    "             device,\n",
    "             optimizer):\n",
    "    loss_train = []\n",
    "    loss_val = []\n",
    "    be = np.inf\n",
    "    bm = model\n",
    "    \n",
    "    for epoch in tqdm(range(num_epochs)):\n",
    "            \n",
    "        # Calculate average loss for the epoch\n",
    "        loss = step(model = model, \n",
    "                         dataloader = train_loader, \n",
    "                         optimizer = optimizer, \n",
    "                         device = device,\n",
    "                         criterion = criterion,\n",
    "                         training = True)\n",
    "        \n",
    "        loss_train.append(loss)\n",
    "        \n",
    "        loss = step(model = model, \n",
    "                         dataloader = val_loader, \n",
    "                         optimizer = optimizer, \n",
    "                         device = device,\n",
    "                         criterion = criterion,\n",
    "                         training = False)\n",
    "        \n",
    "        loss_val.append(loss)\n",
    "        \n",
    "        if (loss_val[-1]<be) & (epoch/num_epochs>0.15):\n",
    "            be = loss_val[-1]\n",
    "            bm = model\n",
    "        if (epoch+1)%10 == 0:\n",
    "            print(f\"loss train epoch {epoch+1} == {loss_train[-1]}\")\n",
    "            print(f\"loss val epoch {epoch+1} == {loss_val[-1]}\")\n",
    "    return bm, loss_train, loss_val\n",
    "\n",
    "def training_not_aggregate(model, \n",
    "                           dl_train:dict, \n",
    "                           dl_val:dict, \n",
    "                           num_epochs:int, \n",
    "                           criterion,\n",
    "                           device,\n",
    "                           optimizer):\n",
    "    loss_train = []\n",
    "    loss_val = []\n",
    "    be = np.inf\n",
    "    bm = model\n",
    "    \n",
    "    for epoch in tqdm(range(num_epochs)):\n",
    "        loss_train.append(0)\n",
    "        loss_val.append(0)\n",
    "        \n",
    "        for key in dl_val.keys():   \n",
    "            # Calculate average loss for the epoch\n",
    "            loss = step(model = model, \n",
    "                        dataloader = dl_train[key], \n",
    "                        optimizer = optimizer, \n",
    "                        device = device,\n",
    "                        criterion = criterion,\n",
    "                        training = True)\n",
    "            \n",
    "            loss_train[-1]+= loss\n",
    "            \n",
    "            loss = step(model = model, \n",
    "                             dataloader = dl_val[key], \n",
    "                             optimizer = optimizer, \n",
    "                             device = device,\n",
    "                             criterion = criterion,\n",
    "                             training = False)\n",
    "            \n",
    "            loss_val[-1]+= loss\n",
    "            \n",
    "        loss_train[-1] = loss_train[-1]/len(dl_val.keys())\n",
    "        loss_val[-1] = loss_val[-1]/len(dl_val.keys())\n",
    "        if (loss_val[-1]<be) & (epoch/num_epochs>0.15):\n",
    "            be = loss_val[-1]\n",
    "            bm = model\n",
    "        if (epoch+1)%10 == 0:\n",
    "            print(f\"loss train epoch {epoch+1} == {loss_train[-1]}\")\n",
    "            print(f\"loss val epoch {epoch+1} == {loss_val[-1]}\")\n",
    "    return bm, loss_train, loss_val\n"
   ]
  },
  {
   "cell_type": "code",
   "execution_count": 7,
   "id": "2cdbdb0e-0cad-4c0e-bd37-48c30a80fc41",
   "metadata": {},
   "outputs": [],
   "source": [
    "device = torch.device(\"cuda\" if torch.cuda.is_available() else \"cpu\")\n",
    "#device = torch.device(\"cpu\")\n",
    "adjs = torch.from_numpy(adj)#.float()"
   ]
  },
  {
   "cell_type": "code",
   "execution_count": 13,
   "id": "ac8ebd3f-905f-4f17-8a1f-ca2e30fb1300",
   "metadata": {},
   "outputs": [
    {
     "name": "stderr",
     "output_type": "stream",
     "text": [
      " 10%|████▏                                     | 10/100 [01:10<10:29,  6.99s/it]"
     ]
    },
    {
     "name": "stdout",
     "output_type": "stream",
     "text": [
      "loss train epoch 10 == 1078.5561465263368\n",
      "loss val epoch 10 == 1105.1576457977294\n"
     ]
    },
    {
     "name": "stderr",
     "output_type": "stream",
     "text": [
      " 20%|████████▍                                 | 20/100 [02:20<09:21,  7.02s/it]"
     ]
    },
    {
     "name": "stdout",
     "output_type": "stream",
     "text": [
      "loss train epoch 20 == 1083.6900067329407\n",
      "loss val epoch 20 == 1129.2919790267945\n"
     ]
    },
    {
     "name": "stderr",
     "output_type": "stream",
     "text": [
      " 30%|████████████▌                             | 30/100 [03:30<08:11,  7.02s/it]"
     ]
    },
    {
     "name": "stdout",
     "output_type": "stream",
     "text": [
      "loss train epoch 30 == 1082.742531299591\n",
      "loss val epoch 30 == 1108.4186574935914\n"
     ]
    },
    {
     "name": "stderr",
     "output_type": "stream",
     "text": [
      " 40%|████████████████▊                         | 40/100 [04:41<07:04,  7.07s/it]"
     ]
    },
    {
     "name": "stdout",
     "output_type": "stream",
     "text": [
      "loss train epoch 40 == 1075.1669862747192\n",
      "loss val epoch 40 == 1127.552571105957\n"
     ]
    },
    {
     "name": "stderr",
     "output_type": "stream",
     "text": [
      " 50%|█████████████████████                     | 50/100 [05:51<05:51,  7.04s/it]"
     ]
    },
    {
     "name": "stdout",
     "output_type": "stream",
     "text": [
      "loss train epoch 50 == 1075.6203889846802\n",
      "loss val epoch 50 == 1105.7783969879151\n"
     ]
    },
    {
     "name": "stderr",
     "output_type": "stream",
     "text": [
      " 60%|█████████████████████████▏                | 60/100 [07:02<04:42,  7.06s/it]"
     ]
    },
    {
     "name": "stdout",
     "output_type": "stream",
     "text": [
      "loss train epoch 60 == 1079.741419696808\n",
      "loss val epoch 60 == 1086.8803018569947\n"
     ]
    },
    {
     "name": "stderr",
     "output_type": "stream",
     "text": [
      " 70%|█████████████████████████████▍            | 70/100 [08:13<03:31,  7.05s/it]"
     ]
    },
    {
     "name": "stdout",
     "output_type": "stream",
     "text": [
      "loss train epoch 70 == 1078.5392647743224\n",
      "loss val epoch 70 == 1091.1412761688232\n"
     ]
    },
    {
     "name": "stderr",
     "output_type": "stream",
     "text": [
      " 80%|█████████████████████████████████▌        | 80/100 [09:23<02:20,  7.05s/it]"
     ]
    },
    {
     "name": "stdout",
     "output_type": "stream",
     "text": [
      "loss train epoch 80 == 1080.625149822235\n",
      "loss val epoch 80 == 1143.6134756088256\n"
     ]
    },
    {
     "name": "stderr",
     "output_type": "stream",
     "text": [
      " 90%|█████████████████████████████████████▊    | 90/100 [10:34<01:10,  7.05s/it]"
     ]
    },
    {
     "name": "stdout",
     "output_type": "stream",
     "text": [
      "loss train epoch 90 == 1080.755602645874\n",
      "loss val epoch 90 == 1098.548701286316\n"
     ]
    },
    {
     "name": "stderr",
     "output_type": "stream",
     "text": [
      "100%|█████████████████████████████████████████| 100/100 [11:44<00:00,  7.05s/it]"
     ]
    },
    {
     "name": "stdout",
     "output_type": "stream",
     "text": [
      "loss train epoch 100 == 1078.9490572929383\n",
      "loss val epoch 100 == 1097.494748878479\n"
     ]
    },
    {
     "name": "stderr",
     "output_type": "stream",
     "text": [
      "\n"
     ]
    }
   ],
   "source": [
    "model = GLSTM(in_feat = batch.float().shape[-1], \n",
    "              past = past_step,\n",
    "              future = future_step,\n",
    "              categorical = config['model']['categorical'],\n",
    "              embedding = config['model']['embedding']).to(device)\n",
    "        \n",
    "optimizer = optim.Adam(model.parameters(), \n",
    "                       lr = 1e-3, \n",
    "                       weight_decay=3e-4)\n",
    "if config['dataset']['aggregate']:\n",
    "    model, loss_training, loss_validation = training(model, \n",
    "                                                 train_loader = dl_train, \n",
    "                                                 val_loader = dl_val, \n",
    "                                                 num_epochs = 100, \n",
    "                                                 criterion = nn.L1Loss(reduction=\"mean\"),\n",
    "                                                 optimizer = optimizer, \n",
    "                                                 device = device)\n",
    "else:\n",
    "    model, loss_training, loss_validation = training_not_aggregate(model, \n",
    "                                                                   dl_train = dl_train, \n",
    "                                                                   dl_val = dl_val, \n",
    "                                                                   num_epochs = 100, \n",
    "                                                                   criterion = nn.L1Loss(reduction=\"mean\"),\n",
    "                                                                   optimizer = optimizer, \n",
    "                                                                   device = device)"
   ]
  },
  {
   "cell_type": "code",
   "execution_count": 10,
   "id": "42db3198-91b0-4565-8454-130e4914a7ee",
   "metadata": {},
   "outputs": [],
   "source": [
    "def plot(model, \n",
    "         config,\n",
    "         loss_training, \n",
    "         loss_validation, \n",
    "         name,\n",
    "         dl_train = dl_train,\n",
    "         dl_val = dl_val, \n",
    "         show = False):\n",
    "    fig = px.line({\"epochs\": range(1,len(loss_training)+1), \n",
    "                                   \"train\": loss_training, \n",
    "                                   \"validation\": loss_validation}, \n",
    "                                  x = \"epochs\", \n",
    "                                  y = [\"train\", \"validation\"], \n",
    "                                  title= f\"training loss for {name}\")\n",
    "    fig.add_vline(x = np.argsort(loss_validation)[0]+1)\n",
    "    fig.add_hline(y = np.min(loss_validation))\n",
    "    fig.write_html(os.path.join(config['paths']['fig'], f\"loss_gnn_{name}.html\"))\n",
    "    if show:\n",
    "        fig.show()\n",
    "    if config['dataset']['aggregate']:\n",
    "        batch_train, y_train = next(iter(dl_train))\n",
    "        batch_val, y_val = next(iter(dl_val))\n",
    "        yh_train = model(batch_train.float().to(device))\n",
    "        yh_val = model(batch_val.float().to(device))\n",
    "    else:\n",
    "        yh_train = []\n",
    "        yh_val = []\n",
    "        y_train = []\n",
    "        y_val = []\n",
    "        model = model.to(torch.device('cpu'))\n",
    "        for key in dl_train.keys():\n",
    "            batch_train, yt = next(iter(dl_train[key]))\n",
    "            batch_val, yv = next(iter(dl_val[key]))\n",
    "            yh_train.append(model(batch_train.float().to(torch.device('cpu'))))\n",
    "            yh_val.append(model(batch_val.float().to(torch.device('cpu'))))\n",
    "            y_train.append(yt)\n",
    "            y_val.append(yv)\n",
    "        yh_train = torch.cat(yh_train, -1)\n",
    "        yh_val = torch.cat(yh_val, -1)\n",
    "        y_train = torch.cat(y_train, -1)\n",
    "        y_val = torch.cat(y_val, -1)\n",
    "    fig, ax = plt.subplots(nrows = y.shape[1], \n",
    "                           ncols = 2, \n",
    "                           constrained_layout = True,\n",
    "                           figsize = (20,10))\n",
    "    for day in range(y.shape[1]):\n",
    "        ax[day, 0].plot(yh_train[0,day].detach().cpu().numpy(), label =\"estimate\")\n",
    "        ax[day, 0].plot(y_train[0,day].numpy(), label =\"real\")\n",
    "    \n",
    "        ax[day, 1].plot(yh_val[0,day].detach().cpu().numpy(), label =\"estimate\")\n",
    "        ax[day, 1].plot(y_val[0,day].numpy(), label =\"real\")\n",
    "        ax[day, 0].legend()\n",
    "        ax[day, 1].legend()\n",
    "    \n",
    "        ax[day, 0].title.set_text(f\"day {day +1} train\")\n",
    "        ax[day, 1].title.set_text(f\"day {day +1} validation\")\n",
    "    fig.suptitle(' ComQparison between estimation and reality ', fontsize=20) \n",
    "    \n",
    "    path = os.path.join(config['paths']['fig'], f\"{name}.png\")\n",
    "    plt.savefig(path)\n",
    "    if show:\n",
    "        plt.show()\n",
    "    plt.close(fig)\n"
   ]
  },
  {
   "cell_type": "code",
   "execution_count": 14,
   "id": "30c4f5d1-6c33-4266-9905-7587bccadfe3",
   "metadata": {},
   "outputs": [
    {
     "data": {
      "application/vnd.plotly.v1+json": {
       "config": {
        "plotlyServerURL": "https://plot.ly"
       },
       "data": [
        {
         "hovertemplate": "variable=train<br>epochs=%{x}<br>value=%{y}<extra></extra>",
         "legendgroup": "train",
         "line": {
          "color": "#636efa",
          "dash": "solid"
         },
         "marker": {
          "symbol": "circle"
         },
         "mode": "lines",
         "name": "train",
         "orientation": "v",
         "showlegend": true,
         "type": "scatter",
         "x": [
          1,
          2,
          3,
          4,
          5,
          6,
          7,
          8,
          9,
          10,
          11,
          12,
          13,
          14,
          15,
          16,
          17,
          18,
          19,
          20,
          21,
          22,
          23,
          24,
          25,
          26,
          27,
          28,
          29,
          30,
          31,
          32,
          33,
          34,
          35,
          36,
          37,
          38,
          39,
          40,
          41,
          42,
          43,
          44,
          45,
          46,
          47,
          48,
          49,
          50,
          51,
          52,
          53,
          54,
          55,
          56,
          57,
          58,
          59,
          60,
          61,
          62,
          63,
          64,
          65,
          66,
          67,
          68,
          69,
          70,
          71,
          72,
          73,
          74,
          75,
          76,
          77,
          78,
          79,
          80,
          81,
          82,
          83,
          84,
          85,
          86,
          87,
          88,
          89,
          90,
          91,
          92,
          93,
          94,
          95,
          96,
          97,
          98,
          99,
          100
         ],
         "xaxis": "x",
         "y": [
          1151.8138808250428,
          1120.7007211208343,
          1098.4263063430785,
          1084.9136375427247,
          1082.7942026138305,
          1076.6561316490174,
          1073.4697198867798,
          1073.7414763450622,
          1077.2448119163514,
          1078.5561465263368,
          1076.5412312507628,
          1078.6809468269348,
          1077.074221420288,
          1076.1194633483888,
          1075.3580233573914,
          1077.3713070869446,
          1073.853817176819,
          1077.457401752472,
          1078.1994125366211,
          1083.6900067329407,
          1076.9627326011657,
          1081.4568756103515,
          1078.7326754570008,
          1076.7665852546693,
          1076.4944544792174,
          1075.4886403083801,
          1078.2222352027893,
          1078.4128829956055,
          1079.6898202896118,
          1082.742531299591,
          1076.8744990348816,
          1074.2968499183655,
          1080.86290435791,
          1077.0995988845825,
          1078.9050570487975,
          1080.1496557235719,
          1076.6527729034424,
          1079.2703748703002,
          1079.7201733589172,
          1075.1669862747192,
          1077.9740615844726,
          1075.3408337593078,
          1079.3625202178955,
          1075.7068311691285,
          1075.520746421814,
          1075.3365288734435,
          1077.2227918624878,
          1082.6769867897033,
          1075.4740445137024,
          1075.6203889846802,
          1079.9910529136657,
          1075.2070523262023,
          1075.9053789138793,
          1081.744542503357,
          1079.2178352355957,
          1078.1503081321716,
          1077.360779953003,
          1080.7216819763185,
          1081.2368129730226,
          1079.741419696808,
          1080.944118309021,
          1077.6260299682617,
          1075.2341032028198,
          1083.2764741897583,
          1077.902562713623,
          1075.9524793624878,
          1075.571002960205,
          1077.0276779174806,
          1078.7719880104064,
          1078.5392647743224,
          1078.7142050743103,
          1075.665476703644,
          1078.9888945579528,
          1079.2413391113282,
          1075.703604030609,
          1072.5775448799134,
          1080.4718254089355,
          1077.0433812141418,
          1076.8178452491761,
          1080.625149822235,
          1079.3523946762084,
          1075.6796169281006,
          1080.0707841873168,
          1077.345049381256,
          1081.063392162323,
          1079.4294412612915,
          1078.8081760406494,
          1079.2717579841615,
          1079.4265672683716,
          1080.755602645874,
          1080.2071315765381,
          1075.8870783805846,
          1084.4897511482238,
          1079.5607847213746,
          1078.581651210785,
          1079.5376770019532,
          1080.719784450531,
          1087.284815120697,
          1079.551541042328,
          1078.9490572929383
         ],
         "yaxis": "y"
        },
        {
         "hovertemplate": "variable=validation<br>epochs=%{x}<br>value=%{y}<extra></extra>",
         "legendgroup": "validation",
         "line": {
          "color": "#EF553B",
          "dash": "solid"
         },
         "marker": {
          "symbol": "circle"
         },
         "mode": "lines",
         "name": "validation",
         "orientation": "v",
         "showlegend": true,
         "type": "scatter",
         "x": [
          1,
          2,
          3,
          4,
          5,
          6,
          7,
          8,
          9,
          10,
          11,
          12,
          13,
          14,
          15,
          16,
          17,
          18,
          19,
          20,
          21,
          22,
          23,
          24,
          25,
          26,
          27,
          28,
          29,
          30,
          31,
          32,
          33,
          34,
          35,
          36,
          37,
          38,
          39,
          40,
          41,
          42,
          43,
          44,
          45,
          46,
          47,
          48,
          49,
          50,
          51,
          52,
          53,
          54,
          55,
          56,
          57,
          58,
          59,
          60,
          61,
          62,
          63,
          64,
          65,
          66,
          67,
          68,
          69,
          70,
          71,
          72,
          73,
          74,
          75,
          76,
          77,
          78,
          79,
          80,
          81,
          82,
          83,
          84,
          85,
          86,
          87,
          88,
          89,
          90,
          91,
          92,
          93,
          94,
          95,
          96,
          97,
          98,
          99,
          100
         ],
         "xaxis": "x",
         "y": [
          1207.1294973373413,
          1148.9356758117676,
          1185.8944818496705,
          1160.6348138809203,
          1125.3680183410645,
          1099.7897089004516,
          1113.332212638855,
          1115.031735610962,
          1089.2678955078125,
          1105.1576457977294,
          1086.8426445007324,
          1104.3886341094972,
          1160.1690410614015,
          1111.7181875228882,
          1130.7692768096924,
          1131.7148178100585,
          1091.739621925354,
          1124.9253355026244,
          1140.3569955825806,
          1129.2919790267945,
          1118.4977834701538,
          1120.2909311294557,
          1088.2673820495606,
          1110.0629404067993,
          1155.0934114456177,
          1120.976611328125,
          1135.4131734848022,
          1150.0815454483031,
          1075.5033958435058,
          1108.4186574935914,
          1130.5000192642212,
          1115.0337728500367,
          1126.2812484741212,
          1121.4690473556518,
          1141.2601795196533,
          1127.1137022018434,
          1119.6095821380616,
          1111.279626083374,
          1121.8774477005004,
          1127.552571105957,
          1129.359562110901,
          1091.9686206817628,
          1085.7769327163696,
          1127.3698949813843,
          1131.8381916046142,
          1127.5114435195924,
          1126.8366537094116,
          1157.0194105148316,
          1111.5728189468384,
          1105.7783969879151,
          1109.5833059310912,
          1100.639714050293,
          1089.2452779769897,
          1141.0450592041016,
          1108.5642992019652,
          1135.0001703262328,
          1090.4102996826173,
          1121.0376625061035,
          1129.671682357788,
          1086.8803018569947,
          1137.2711196899413,
          1149.5961065292358,
          1101.4939460754395,
          1135.854009246826,
          1152.5782466888427,
          1116.6740953445435,
          1118.0830795288086,
          1084.8975681304933,
          1157.8290367126465,
          1091.1412761688232,
          1144.8845796585083,
          1145.8769123077393,
          1122.404595375061,
          1132.3167825698852,
          1134.5093059539795,
          1150.4877382278441,
          1136.1796894073486,
          1157.80777053833,
          1122.8221570968628,
          1143.6134756088256,
          1113.6577589035035,
          1089.9976245880127,
          1105.6222541809082,
          1126.2001033782958,
          1129.6287910461426,
          1131.7907766342164,
          1129.8740602493285,
          1099.575262451172,
          1167.7007041931151,
          1098.548701286316,
          1105.338931274414,
          1117.4628490448,
          1110.6764249801636,
          1092.047932624817,
          1133.5650709152221,
          1162.3440326690675,
          1111.6124921798705,
          1119.9279724121093,
          1118.3938617706299,
          1097.494748878479
         ],
         "yaxis": "y"
        }
       ],
       "layout": {
        "autosize": true,
        "legend": {
         "title": {
          "text": "variable"
         },
         "tracegroupgap": 0
        },
        "shapes": [
         {
          "type": "line",
          "x0": 29,
          "x1": 29,
          "xref": "x",
          "y0": 0,
          "y1": 1,
          "yref": "y domain"
         },
         {
          "type": "line",
          "x0": 0,
          "x1": 1,
          "xref": "x domain",
          "y0": 1075.5033958435058,
          "y1": 1075.5033958435058,
          "yref": "y"
         }
        ],
        "template": {
         "data": {
          "bar": [
           {
            "error_x": {
             "color": "#2a3f5f"
            },
            "error_y": {
             "color": "#2a3f5f"
            },
            "marker": {
             "line": {
              "color": "#E5ECF6",
              "width": 0.5
             },
             "pattern": {
              "fillmode": "overlay",
              "size": 10,
              "solidity": 0.2
             }
            },
            "type": "bar"
           }
          ],
          "barpolar": [
           {
            "marker": {
             "line": {
              "color": "#E5ECF6",
              "width": 0.5
             },
             "pattern": {
              "fillmode": "overlay",
              "size": 10,
              "solidity": 0.2
             }
            },
            "type": "barpolar"
           }
          ],
          "carpet": [
           {
            "aaxis": {
             "endlinecolor": "#2a3f5f",
             "gridcolor": "white",
             "linecolor": "white",
             "minorgridcolor": "white",
             "startlinecolor": "#2a3f5f"
            },
            "baxis": {
             "endlinecolor": "#2a3f5f",
             "gridcolor": "white",
             "linecolor": "white",
             "minorgridcolor": "white",
             "startlinecolor": "#2a3f5f"
            },
            "type": "carpet"
           }
          ],
          "choropleth": [
           {
            "colorbar": {
             "outlinewidth": 0,
             "ticks": ""
            },
            "type": "choropleth"
           }
          ],
          "contour": [
           {
            "colorbar": {
             "outlinewidth": 0,
             "ticks": ""
            },
            "colorscale": [
             [
              0,
              "#0d0887"
             ],
             [
              0.1111111111111111,
              "#46039f"
             ],
             [
              0.2222222222222222,
              "#7201a8"
             ],
             [
              0.3333333333333333,
              "#9c179e"
             ],
             [
              0.4444444444444444,
              "#bd3786"
             ],
             [
              0.5555555555555556,
              "#d8576b"
             ],
             [
              0.6666666666666666,
              "#ed7953"
             ],
             [
              0.7777777777777778,
              "#fb9f3a"
             ],
             [
              0.8888888888888888,
              "#fdca26"
             ],
             [
              1,
              "#f0f921"
             ]
            ],
            "type": "contour"
           }
          ],
          "contourcarpet": [
           {
            "colorbar": {
             "outlinewidth": 0,
             "ticks": ""
            },
            "type": "contourcarpet"
           }
          ],
          "heatmap": [
           {
            "colorbar": {
             "outlinewidth": 0,
             "ticks": ""
            },
            "colorscale": [
             [
              0,
              "#0d0887"
             ],
             [
              0.1111111111111111,
              "#46039f"
             ],
             [
              0.2222222222222222,
              "#7201a8"
             ],
             [
              0.3333333333333333,
              "#9c179e"
             ],
             [
              0.4444444444444444,
              "#bd3786"
             ],
             [
              0.5555555555555556,
              "#d8576b"
             ],
             [
              0.6666666666666666,
              "#ed7953"
             ],
             [
              0.7777777777777778,
              "#fb9f3a"
             ],
             [
              0.8888888888888888,
              "#fdca26"
             ],
             [
              1,
              "#f0f921"
             ]
            ],
            "type": "heatmap"
           }
          ],
          "heatmapgl": [
           {
            "colorbar": {
             "outlinewidth": 0,
             "ticks": ""
            },
            "colorscale": [
             [
              0,
              "#0d0887"
             ],
             [
              0.1111111111111111,
              "#46039f"
             ],
             [
              0.2222222222222222,
              "#7201a8"
             ],
             [
              0.3333333333333333,
              "#9c179e"
             ],
             [
              0.4444444444444444,
              "#bd3786"
             ],
             [
              0.5555555555555556,
              "#d8576b"
             ],
             [
              0.6666666666666666,
              "#ed7953"
             ],
             [
              0.7777777777777778,
              "#fb9f3a"
             ],
             [
              0.8888888888888888,
              "#fdca26"
             ],
             [
              1,
              "#f0f921"
             ]
            ],
            "type": "heatmapgl"
           }
          ],
          "histogram": [
           {
            "marker": {
             "pattern": {
              "fillmode": "overlay",
              "size": 10,
              "solidity": 0.2
             }
            },
            "type": "histogram"
           }
          ],
          "histogram2d": [
           {
            "colorbar": {
             "outlinewidth": 0,
             "ticks": ""
            },
            "colorscale": [
             [
              0,
              "#0d0887"
             ],
             [
              0.1111111111111111,
              "#46039f"
             ],
             [
              0.2222222222222222,
              "#7201a8"
             ],
             [
              0.3333333333333333,
              "#9c179e"
             ],
             [
              0.4444444444444444,
              "#bd3786"
             ],
             [
              0.5555555555555556,
              "#d8576b"
             ],
             [
              0.6666666666666666,
              "#ed7953"
             ],
             [
              0.7777777777777778,
              "#fb9f3a"
             ],
             [
              0.8888888888888888,
              "#fdca26"
             ],
             [
              1,
              "#f0f921"
             ]
            ],
            "type": "histogram2d"
           }
          ],
          "histogram2dcontour": [
           {
            "colorbar": {
             "outlinewidth": 0,
             "ticks": ""
            },
            "colorscale": [
             [
              0,
              "#0d0887"
             ],
             [
              0.1111111111111111,
              "#46039f"
             ],
             [
              0.2222222222222222,
              "#7201a8"
             ],
             [
              0.3333333333333333,
              "#9c179e"
             ],
             [
              0.4444444444444444,
              "#bd3786"
             ],
             [
              0.5555555555555556,
              "#d8576b"
             ],
             [
              0.6666666666666666,
              "#ed7953"
             ],
             [
              0.7777777777777778,
              "#fb9f3a"
             ],
             [
              0.8888888888888888,
              "#fdca26"
             ],
             [
              1,
              "#f0f921"
             ]
            ],
            "type": "histogram2dcontour"
           }
          ],
          "mesh3d": [
           {
            "colorbar": {
             "outlinewidth": 0,
             "ticks": ""
            },
            "type": "mesh3d"
           }
          ],
          "parcoords": [
           {
            "line": {
             "colorbar": {
              "outlinewidth": 0,
              "ticks": ""
             }
            },
            "type": "parcoords"
           }
          ],
          "pie": [
           {
            "automargin": true,
            "type": "pie"
           }
          ],
          "scatter": [
           {
            "fillpattern": {
             "fillmode": "overlay",
             "size": 10,
             "solidity": 0.2
            },
            "type": "scatter"
           }
          ],
          "scatter3d": [
           {
            "line": {
             "colorbar": {
              "outlinewidth": 0,
              "ticks": ""
             }
            },
            "marker": {
             "colorbar": {
              "outlinewidth": 0,
              "ticks": ""
             }
            },
            "type": "scatter3d"
           }
          ],
          "scattercarpet": [
           {
            "marker": {
             "colorbar": {
              "outlinewidth": 0,
              "ticks": ""
             }
            },
            "type": "scattercarpet"
           }
          ],
          "scattergeo": [
           {
            "marker": {
             "colorbar": {
              "outlinewidth": 0,
              "ticks": ""
             }
            },
            "type": "scattergeo"
           }
          ],
          "scattergl": [
           {
            "marker": {
             "colorbar": {
              "outlinewidth": 0,
              "ticks": ""
             }
            },
            "type": "scattergl"
           }
          ],
          "scattermapbox": [
           {
            "marker": {
             "colorbar": {
              "outlinewidth": 0,
              "ticks": ""
             }
            },
            "type": "scattermapbox"
           }
          ],
          "scatterpolar": [
           {
            "marker": {
             "colorbar": {
              "outlinewidth": 0,
              "ticks": ""
             }
            },
            "type": "scatterpolar"
           }
          ],
          "scatterpolargl": [
           {
            "marker": {
             "colorbar": {
              "outlinewidth": 0,
              "ticks": ""
             }
            },
            "type": "scatterpolargl"
           }
          ],
          "scatterternary": [
           {
            "marker": {
             "colorbar": {
              "outlinewidth": 0,
              "ticks": ""
             }
            },
            "type": "scatterternary"
           }
          ],
          "surface": [
           {
            "colorbar": {
             "outlinewidth": 0,
             "ticks": ""
            },
            "colorscale": [
             [
              0,
              "#0d0887"
             ],
             [
              0.1111111111111111,
              "#46039f"
             ],
             [
              0.2222222222222222,
              "#7201a8"
             ],
             [
              0.3333333333333333,
              "#9c179e"
             ],
             [
              0.4444444444444444,
              "#bd3786"
             ],
             [
              0.5555555555555556,
              "#d8576b"
             ],
             [
              0.6666666666666666,
              "#ed7953"
             ],
             [
              0.7777777777777778,
              "#fb9f3a"
             ],
             [
              0.8888888888888888,
              "#fdca26"
             ],
             [
              1,
              "#f0f921"
             ]
            ],
            "type": "surface"
           }
          ],
          "table": [
           {
            "cells": {
             "fill": {
              "color": "#EBF0F8"
             },
             "line": {
              "color": "white"
             }
            },
            "header": {
             "fill": {
              "color": "#C8D4E3"
             },
             "line": {
              "color": "white"
             }
            },
            "type": "table"
           }
          ]
         },
         "layout": {
          "annotationdefaults": {
           "arrowcolor": "#2a3f5f",
           "arrowhead": 0,
           "arrowwidth": 1
          },
          "autotypenumbers": "strict",
          "coloraxis": {
           "colorbar": {
            "outlinewidth": 0,
            "ticks": ""
           }
          },
          "colorscale": {
           "diverging": [
            [
             0,
             "#8e0152"
            ],
            [
             0.1,
             "#c51b7d"
            ],
            [
             0.2,
             "#de77ae"
            ],
            [
             0.3,
             "#f1b6da"
            ],
            [
             0.4,
             "#fde0ef"
            ],
            [
             0.5,
             "#f7f7f7"
            ],
            [
             0.6,
             "#e6f5d0"
            ],
            [
             0.7,
             "#b8e186"
            ],
            [
             0.8,
             "#7fbc41"
            ],
            [
             0.9,
             "#4d9221"
            ],
            [
             1,
             "#276419"
            ]
           ],
           "sequential": [
            [
             0,
             "#0d0887"
            ],
            [
             0.1111111111111111,
             "#46039f"
            ],
            [
             0.2222222222222222,
             "#7201a8"
            ],
            [
             0.3333333333333333,
             "#9c179e"
            ],
            [
             0.4444444444444444,
             "#bd3786"
            ],
            [
             0.5555555555555556,
             "#d8576b"
            ],
            [
             0.6666666666666666,
             "#ed7953"
            ],
            [
             0.7777777777777778,
             "#fb9f3a"
            ],
            [
             0.8888888888888888,
             "#fdca26"
            ],
            [
             1,
             "#f0f921"
            ]
           ],
           "sequentialminus": [
            [
             0,
             "#0d0887"
            ],
            [
             0.1111111111111111,
             "#46039f"
            ],
            [
             0.2222222222222222,
             "#7201a8"
            ],
            [
             0.3333333333333333,
             "#9c179e"
            ],
            [
             0.4444444444444444,
             "#bd3786"
            ],
            [
             0.5555555555555556,
             "#d8576b"
            ],
            [
             0.6666666666666666,
             "#ed7953"
            ],
            [
             0.7777777777777778,
             "#fb9f3a"
            ],
            [
             0.8888888888888888,
             "#fdca26"
            ],
            [
             1,
             "#f0f921"
            ]
           ]
          },
          "colorway": [
           "#636efa",
           "#EF553B",
           "#00cc96",
           "#ab63fa",
           "#FFA15A",
           "#19d3f3",
           "#FF6692",
           "#B6E880",
           "#FF97FF",
           "#FECB52"
          ],
          "font": {
           "color": "#2a3f5f"
          },
          "geo": {
           "bgcolor": "white",
           "lakecolor": "white",
           "landcolor": "#E5ECF6",
           "showlakes": true,
           "showland": true,
           "subunitcolor": "white"
          },
          "hoverlabel": {
           "align": "left"
          },
          "hovermode": "closest",
          "mapbox": {
           "style": "light"
          },
          "paper_bgcolor": "white",
          "plot_bgcolor": "#E5ECF6",
          "polar": {
           "angularaxis": {
            "gridcolor": "white",
            "linecolor": "white",
            "ticks": ""
           },
           "bgcolor": "#E5ECF6",
           "radialaxis": {
            "gridcolor": "white",
            "linecolor": "white",
            "ticks": ""
           }
          },
          "scene": {
           "xaxis": {
            "backgroundcolor": "#E5ECF6",
            "gridcolor": "white",
            "gridwidth": 2,
            "linecolor": "white",
            "showbackground": true,
            "ticks": "",
            "zerolinecolor": "white"
           },
           "yaxis": {
            "backgroundcolor": "#E5ECF6",
            "gridcolor": "white",
            "gridwidth": 2,
            "linecolor": "white",
            "showbackground": true,
            "ticks": "",
            "zerolinecolor": "white"
           },
           "zaxis": {
            "backgroundcolor": "#E5ECF6",
            "gridcolor": "white",
            "gridwidth": 2,
            "linecolor": "white",
            "showbackground": true,
            "ticks": "",
            "zerolinecolor": "white"
           }
          },
          "shapedefaults": {
           "line": {
            "color": "#2a3f5f"
           }
          },
          "ternary": {
           "aaxis": {
            "gridcolor": "white",
            "linecolor": "white",
            "ticks": ""
           },
           "baxis": {
            "gridcolor": "white",
            "linecolor": "white",
            "ticks": ""
           },
           "bgcolor": "#E5ECF6",
           "caxis": {
            "gridcolor": "white",
            "linecolor": "white",
            "ticks": ""
           }
          },
          "title": {
           "x": 0.05
          },
          "xaxis": {
           "automargin": true,
           "gridcolor": "white",
           "linecolor": "white",
           "ticks": "",
           "title": {
            "standoff": 15
           },
           "zerolinecolor": "white",
           "zerolinewidth": 2
          },
          "yaxis": {
           "automargin": true,
           "gridcolor": "white",
           "linecolor": "white",
           "ticks": "",
           "title": {
            "standoff": 15
           },
           "zerolinecolor": "white",
           "zerolinewidth": 2
          }
         }
        },
        "title": {
         "text": "training loss for GLSTM"
        },
        "xaxis": {
         "anchor": "y",
         "autorange": true,
         "domain": [
          0,
          1
         ],
         "range": [
          1,
          100
         ],
         "title": {
          "text": "epochs"
         },
         "type": "linear"
        },
        "yaxis": {
         "anchor": "x",
         "autorange": true,
         "domain": [
          0,
          1
         ],
         "range": [
          1065.1024364100563,
          1214.6046058071984
         ],
         "title": {
          "text": "value"
         },
         "type": "linear"
        }
       }
      },
      "image/png": "[encoded data removed]",
      "text/html": [
       "<div>                            <div id=\"9a679bda-4e07-4bf4-ae91-12b174a7a51a\" class=\"plotly-graph-div\" style=\"height:525px; width:100%;\"></div>            <script type=\"text/javascript\">                require([\"plotly\"], function(Plotly) {                    window.PLOTLYENV=window.PLOTLYENV || {};                                    if (document.getElementById(\"9a679bda-4e07-4bf4-ae91-12b174a7a51a\")) {                    Plotly.newPlot(                        \"9a679bda-4e07-4bf4-ae91-12b174a7a51a\",                        [{\"hovertemplate\":\"variable=train\\u003cbr\\u003eepochs=%{x}\\u003cbr\\u003evalue=%{y}\\u003cextra\\u003e\\u003c\\u002fextra\\u003e\",\"legendgroup\":\"train\",\"line\":{\"color\":\"#636efa\",\"dash\":\"solid\"},\"marker\":{\"symbol\":\"circle\"},\"mode\":\"lines\",\"name\":\"train\",\"orientation\":\"v\",\"showlegend\":true,\"x\":[1,2,3,4,5,6,7,8,9,10,11,12,13,14,15,16,17,18,19,20,21,22,23,24,25,26,27,28,29,30,31,32,33,34,35,36,37,38,39,40,41,42,43,44,45,46,47,48,49,50,51,52,53,54,55,56,57,58,59,60,61,62,63,64,65,66,67,68,69,70,71,72,73,74,75,76,77,78,79,80,81,82,83,84,85,86,87,88,89,90,91,92,93,94,95,96,97,98,99,100],\"xaxis\":\"x\",\"y\":[1151.8138808250428,1120.7007211208343,1098.4263063430785,1084.9136375427247,1082.7942026138305,1076.6561316490174,1073.4697198867798,1073.7414763450622,1077.2448119163514,1078.5561465263368,1076.5412312507628,1078.6809468269348,1077.074221420288,1076.1194633483888,1075.3580233573914,1077.3713070869446,1073.853817176819,1077.457401752472,1078.1994125366211,1083.6900067329407,1076.9627326011657,1081.4568756103515,1078.7326754570008,1076.7665852546693,1076.4944544792174,1075.4886403083801,1078.2222352027893,1078.4128829956055,1079.6898202896118,1082.742531299591,1076.8744990348816,1074.2968499183655,1080.86290435791,1077.0995988845825,1078.9050570487975,1080.1496557235719,1076.6527729034424,1079.2703748703002,1079.7201733589172,1075.1669862747192,1077.9740615844726,1075.3408337593078,1079.3625202178955,1075.7068311691285,1075.520746421814,1075.3365288734435,1077.2227918624878,1082.6769867897033,1075.4740445137024,1075.6203889846802,1079.9910529136657,1075.2070523262023,1075.9053789138793,1081.744542503357,1079.2178352355957,1078.1503081321716,1077.360779953003,1080.7216819763185,1081.2368129730226,1079.741419696808,1080.944118309021,1077.6260299682617,1075.2341032028198,1083.2764741897583,1077.902562713623,1075.9524793624878,1075.571002960205,1077.0276779174806,1078.7719880104064,1078.5392647743224,1078.7142050743103,1075.665476703644,1078.9888945579528,1079.2413391113282,1075.703604030609,1072.5775448799134,1080.4718254089355,1077.0433812141418,1076.8178452491761,1080.625149822235,1079.3523946762084,1075.6796169281006,1080.0707841873168,1077.345049381256,1081.063392162323,1079.4294412612915,1078.8081760406494,1079.2717579841615,1079.4265672683716,1080.755602645874,1080.2071315765381,1075.8870783805846,1084.4897511482238,1079.5607847213746,1078.581651210785,1079.5376770019532,1080.719784450531,1087.284815120697,1079.551541042328,1078.9490572929383],\"yaxis\":\"y\",\"type\":\"scatter\"},{\"hovertemplate\":\"variable=validation\\u003cbr\\u003eepochs=%{x}\\u003cbr\\u003evalue=%{y}\\u003cextra\\u003e\\u003c\\u002fextra\\u003e\",\"legendgroup\":\"validation\",\"line\":{\"color\":\"#EF553B\",\"dash\":\"solid\"},\"marker\":{\"symbol\":\"circle\"},\"mode\":\"lines\",\"name\":\"validation\",\"orientation\":\"v\",\"showlegend\":true,\"x\":[1,2,3,4,5,6,7,8,9,10,11,12,13,14,15,16,17,18,19,20,21,22,23,24,25,26,27,28,29,30,31,32,33,34,35,36,37,38,39,40,41,42,43,44,45,46,47,48,49,50,51,52,53,54,55,56,57,58,59,60,61,62,63,64,65,66,67,68,69,70,71,72,73,74,75,76,77,78,79,80,81,82,83,84,85,86,87,88,89,90,91,92,93,94,95,96,97,98,99,100],\"xaxis\":\"x\",\"y\":[1207.1294973373413,1148.9356758117676,1185.8944818496705,1160.6348138809203,1125.3680183410645,1099.7897089004516,1113.332212638855,1115.031735610962,1089.2678955078125,1105.1576457977294,1086.8426445007324,1104.3886341094972,1160.1690410614015,1111.7181875228882,1130.7692768096924,1131.7148178100585,1091.739621925354,1124.9253355026244,1140.3569955825806,1129.2919790267945,1118.4977834701538,1120.2909311294557,1088.2673820495606,1110.0629404067993,1155.0934114456177,1120.976611328125,1135.4131734848022,1150.0815454483031,1075.5033958435058,1108.4186574935914,1130.5000192642212,1115.0337728500367,1126.2812484741212,1121.4690473556518,1141.2601795196533,1127.1137022018434,1119.6095821380616,1111.279626083374,1121.8774477005004,1127.552571105957,1129.359562110901,1091.9686206817628,1085.7769327163696,1127.3698949813843,1131.8381916046142,1127.5114435195924,1126.8366537094116,1157.0194105148316,1111.5728189468384,1105.7783969879151,1109.5833059310912,1100.639714050293,1089.2452779769897,1141.0450592041016,1108.5642992019652,1135.0001703262328,1090.4102996826173,1121.0376625061035,1129.671682357788,1086.8803018569947,1137.2711196899413,1149.5961065292358,1101.4939460754395,1135.854009246826,1152.5782466888427,1116.6740953445435,1118.0830795288086,1084.8975681304933,1157.8290367126465,1091.1412761688232,1144.8845796585083,1145.8769123077393,1122.404595375061,1132.3167825698852,1134.5093059539795,1150.4877382278441,1136.1796894073486,1157.80777053833,1122.8221570968628,1143.6134756088256,1113.6577589035035,1089.9976245880127,1105.6222541809082,1126.2001033782958,1129.6287910461426,1131.7907766342164,1129.8740602493285,1099.575262451172,1167.7007041931151,1098.548701286316,1105.338931274414,1117.4628490448,1110.6764249801636,1092.047932624817,1133.5650709152221,1162.3440326690675,1111.6124921798705,1119.9279724121093,1118.3938617706299,1097.494748878479],\"yaxis\":\"y\",\"type\":\"scatter\"}],                        {\"template\":{\"data\":{\"histogram2dcontour\":[{\"type\":\"histogram2dcontour\",\"colorbar\":{\"outlinewidth\":0,\"ticks\":\"\"},\"colorscale\":[[0.0,\"#0d0887\"],[0.1111111111111111,\"#46039f\"],[0.2222222222222222,\"#7201a8\"],[0.3333333333333333,\"#9c179e\"],[0.4444444444444444,\"#bd3786\"],[0.5555555555555556,\"#d8576b\"],[0.6666666666666666,\"#ed7953\"],[0.7777777777777778,\"#fb9f3a\"],[0.8888888888888888,\"#fdca26\"],[1.0,\"#f0f921\"]]}],\"choropleth\":[{\"type\":\"choropleth\",\"colorbar\":{\"outlinewidth\":0,\"ticks\":\"\"}}],\"histogram2d\":[{\"type\":\"histogram2d\",\"colorbar\":{\"outlinewidth\":0,\"ticks\":\"\"},\"colorscale\":[[0.0,\"#0d0887\"],[0.1111111111111111,\"#46039f\"],[0.2222222222222222,\"#7201a8\"],[0.3333333333333333,\"#9c179e\"],[0.4444444444444444,\"#bd3786\"],[0.5555555555555556,\"#d8576b\"],[0.6666666666666666,\"#ed7953\"],[0.7777777777777778,\"#fb9f3a\"],[0.8888888888888888,\"#fdca26\"],[1.0,\"#f0f921\"]]}],\"heatmap\":[{\"type\":\"heatmap\",\"colorbar\":{\"outlinewidth\":0,\"ticks\":\"\"},\"colorscale\":[[0.0,\"#0d0887\"],[0.1111111111111111,\"#46039f\"],[0.2222222222222222,\"#7201a8\"],[0.3333333333333333,\"#9c179e\"],[0.4444444444444444,\"#bd3786\"],[0.5555555555555556,\"#d8576b\"],[0.6666666666666666,\"#ed7953\"],[0.7777777777777778,\"#fb9f3a\"],[0.8888888888888888,\"#fdca26\"],[1.0,\"#f0f921\"]]}],\"heatmapgl\":[{\"type\":\"heatmapgl\",\"colorbar\":{\"outlinewidth\":0,\"ticks\":\"\"},\"colorscale\":[[0.0,\"#0d0887\"],[0.1111111111111111,\"#46039f\"],[0.2222222222222222,\"#7201a8\"],[0.3333333333333333,\"#9c179e\"],[0.4444444444444444,\"#bd3786\"],[0.5555555555555556,\"#d8576b\"],[0.6666666666666666,\"#ed7953\"],[0.7777777777777778,\"#fb9f3a\"],[0.8888888888888888,\"#fdca26\"],[1.0,\"#f0f921\"]]}],\"contourcarpet\":[{\"type\":\"contourcarpet\",\"colorbar\":{\"outlinewidth\":0,\"ticks\":\"\"}}],\"contour\":[{\"type\":\"contour\",\"colorbar\":{\"outlinewidth\":0,\"ticks\":\"\"},\"colorscale\":[[0.0,\"#0d0887\"],[0.1111111111111111,\"#46039f\"],[0.2222222222222222,\"#7201a8\"],[0.3333333333333333,\"#9c179e\"],[0.4444444444444444,\"#bd3786\"],[0.5555555555555556,\"#d8576b\"],[0.6666666666666666,\"#ed7953\"],[0.7777777777777778,\"#fb9f3a\"],[0.8888888888888888,\"#fdca26\"],[1.0,\"#f0f921\"]]}],\"surface\":[{\"type\":\"surface\",\"colorbar\":{\"outlinewidth\":0,\"ticks\":\"\"},\"colorscale\":[[0.0,\"#0d0887\"],[0.1111111111111111,\"#46039f\"],[0.2222222222222222,\"#7201a8\"],[0.3333333333333333,\"#9c179e\"],[0.4444444444444444,\"#bd3786\"],[0.5555555555555556,\"#d8576b\"],[0.6666666666666666,\"#ed7953\"],[0.7777777777777778,\"#fb9f3a\"],[0.8888888888888888,\"#fdca26\"],[1.0,\"#f0f921\"]]}],\"mesh3d\":[{\"type\":\"mesh3d\",\"colorbar\":{\"outlinewidth\":0,\"ticks\":\"\"}}],\"scatter\":[{\"fillpattern\":{\"fillmode\":\"overlay\",\"size\":10,\"solidity\":0.2},\"type\":\"scatter\"}],\"parcoords\":[{\"type\":\"parcoords\",\"line\":{\"colorbar\":{\"outlinewidth\":0,\"ticks\":\"\"}}}],\"scatterpolargl\":[{\"type\":\"scatterpolargl\",\"marker\":{\"colorbar\":{\"outlinewidth\":0,\"ticks\":\"\"}}}],\"bar\":[{\"error_x\":{\"color\":\"#2a3f5f\"},\"error_y\":{\"color\":\"#2a3f5f\"},\"marker\":{\"line\":{\"color\":\"#E5ECF6\",\"width\":0.5},\"pattern\":{\"fillmode\":\"overlay\",\"size\":10,\"solidity\":0.2}},\"type\":\"bar\"}],\"scattergeo\":[{\"type\":\"scattergeo\",\"marker\":{\"colorbar\":{\"outlinewidth\":0,\"ticks\":\"\"}}}],\"scatterpolar\":[{\"type\":\"scatterpolar\",\"marker\":{\"colorbar\":{\"outlinewidth\":0,\"ticks\":\"\"}}}],\"histogram\":[{\"marker\":{\"pattern\":{\"fillmode\":\"overlay\",\"size\":10,\"solidity\":0.2}},\"type\":\"histogram\"}],\"scattergl\":[{\"type\":\"scattergl\",\"marker\":{\"colorbar\":{\"outlinewidth\":0,\"ticks\":\"\"}}}],\"scatter3d\":[{\"type\":\"scatter3d\",\"line\":{\"colorbar\":{\"outlinewidth\":0,\"ticks\":\"\"}},\"marker\":{\"colorbar\":{\"outlinewidth\":0,\"ticks\":\"\"}}}],\"scattermapbox\":[{\"type\":\"scattermapbox\",\"marker\":{\"colorbar\":{\"outlinewidth\":0,\"ticks\":\"\"}}}],\"scatterternary\":[{\"type\":\"scatterternary\",\"marker\":{\"colorbar\":{\"outlinewidth\":0,\"ticks\":\"\"}}}],\"scattercarpet\":[{\"type\":\"scattercarpet\",\"marker\":{\"colorbar\":{\"outlinewidth\":0,\"ticks\":\"\"}}}],\"carpet\":[{\"aaxis\":{\"endlinecolor\":\"#2a3f5f\",\"gridcolor\":\"white\",\"linecolor\":\"white\",\"minorgridcolor\":\"white\",\"startlinecolor\":\"#2a3f5f\"},\"baxis\":{\"endlinecolor\":\"#2a3f5f\",\"gridcolor\":\"white\",\"linecolor\":\"white\",\"minorgridcolor\":\"white\",\"startlinecolor\":\"#2a3f5f\"},\"type\":\"carpet\"}],\"table\":[{\"cells\":{\"fill\":{\"color\":\"#EBF0F8\"},\"line\":{\"color\":\"white\"}},\"header\":{\"fill\":{\"color\":\"#C8D4E3\"},\"line\":{\"color\":\"white\"}},\"type\":\"table\"}],\"barpolar\":[{\"marker\":{\"line\":{\"color\":\"#E5ECF6\",\"width\":0.5},\"pattern\":{\"fillmode\":\"overlay\",\"size\":10,\"solidity\":0.2}},\"type\":\"barpolar\"}],\"pie\":[{\"automargin\":true,\"type\":\"pie\"}]},\"layout\":{\"autotypenumbers\":\"strict\",\"colorway\":[\"#636efa\",\"#EF553B\",\"#00cc96\",\"#ab63fa\",\"#FFA15A\",\"#19d3f3\",\"#FF6692\",\"#B6E880\",\"#FF97FF\",\"#FECB52\"],\"font\":{\"color\":\"#2a3f5f\"},\"hovermode\":\"closest\",\"hoverlabel\":{\"align\":\"left\"},\"paper_bgcolor\":\"white\",\"plot_bgcolor\":\"#E5ECF6\",\"polar\":{\"bgcolor\":\"#E5ECF6\",\"angularaxis\":{\"gridcolor\":\"white\",\"linecolor\":\"white\",\"ticks\":\"\"},\"radialaxis\":{\"gridcolor\":\"white\",\"linecolor\":\"white\",\"ticks\":\"\"}},\"ternary\":{\"bgcolor\":\"#E5ECF6\",\"aaxis\":{\"gridcolor\":\"white\",\"linecolor\":\"white\",\"ticks\":\"\"},\"baxis\":{\"gridcolor\":\"white\",\"linecolor\":\"white\",\"ticks\":\"\"},\"caxis\":{\"gridcolor\":\"white\",\"linecolor\":\"white\",\"ticks\":\"\"}},\"coloraxis\":{\"colorbar\":{\"outlinewidth\":0,\"ticks\":\"\"}},\"colorscale\":{\"sequential\":[[0.0,\"#0d0887\"],[0.1111111111111111,\"#46039f\"],[0.2222222222222222,\"#7201a8\"],[0.3333333333333333,\"#9c179e\"],[0.4444444444444444,\"#bd3786\"],[0.5555555555555556,\"#d8576b\"],[0.6666666666666666,\"#ed7953\"],[0.7777777777777778,\"#fb9f3a\"],[0.8888888888888888,\"#fdca26\"],[1.0,\"#f0f921\"]],\"sequentialminus\":[[0.0,\"#0d0887\"],[0.1111111111111111,\"#46039f\"],[0.2222222222222222,\"#7201a8\"],[0.3333333333333333,\"#9c179e\"],[0.4444444444444444,\"#bd3786\"],[0.5555555555555556,\"#d8576b\"],[0.6666666666666666,\"#ed7953\"],[0.7777777777777778,\"#fb9f3a\"],[0.8888888888888888,\"#fdca26\"],[1.0,\"#f0f921\"]],\"diverging\":[[0,\"#8e0152\"],[0.1,\"#c51b7d\"],[0.2,\"#de77ae\"],[0.3,\"#f1b6da\"],[0.4,\"#fde0ef\"],[0.5,\"#f7f7f7\"],[0.6,\"#e6f5d0\"],[0.7,\"#b8e186\"],[0.8,\"#7fbc41\"],[0.9,\"#4d9221\"],[1,\"#276419\"]]},\"xaxis\":{\"gridcolor\":\"white\",\"linecolor\":\"white\",\"ticks\":\"\",\"title\":{\"standoff\":15},\"zerolinecolor\":\"white\",\"automargin\":true,\"zerolinewidth\":2},\"yaxis\":{\"gridcolor\":\"white\",\"linecolor\":\"white\",\"ticks\":\"\",\"title\":{\"standoff\":15},\"zerolinecolor\":\"white\",\"automargin\":true,\"zerolinewidth\":2},\"scene\":{\"xaxis\":{\"backgroundcolor\":\"#E5ECF6\",\"gridcolor\":\"white\",\"linecolor\":\"white\",\"showbackground\":true,\"ticks\":\"\",\"zerolinecolor\":\"white\",\"gridwidth\":2},\"yaxis\":{\"backgroundcolor\":\"#E5ECF6\",\"gridcolor\":\"white\",\"linecolor\":\"white\",\"showbackground\":true,\"ticks\":\"\",\"zerolinecolor\":\"white\",\"gridwidth\":2},\"zaxis\":{\"backgroundcolor\":\"#E5ECF6\",\"gridcolor\":\"white\",\"linecolor\":\"white\",\"showbackground\":true,\"ticks\":\"\",\"zerolinecolor\":\"white\",\"gridwidth\":2}},\"shapedefaults\":{\"line\":{\"color\":\"#2a3f5f\"}},\"annotationdefaults\":{\"arrowcolor\":\"#2a3f5f\",\"arrowhead\":0,\"arrowwidth\":1},\"geo\":{\"bgcolor\":\"white\",\"landcolor\":\"#E5ECF6\",\"subunitcolor\":\"white\",\"showland\":true,\"showlakes\":true,\"lakecolor\":\"white\"},\"title\":{\"x\":0.05},\"mapbox\":{\"style\":\"light\"}}},\"xaxis\":{\"anchor\":\"y\",\"domain\":[0.0,1.0],\"title\":{\"text\":\"epochs\"}},\"yaxis\":{\"anchor\":\"x\",\"domain\":[0.0,1.0],\"title\":{\"text\":\"value\"}},\"legend\":{\"title\":{\"text\":\"variable\"},\"tracegroupgap\":0},\"title\":{\"text\":\"training loss for GLSTM\"},\"shapes\":[{\"type\":\"line\",\"x0\":29,\"x1\":29,\"xref\":\"x\",\"y0\":0,\"y1\":1,\"yref\":\"y domain\"},{\"type\":\"line\",\"x0\":0,\"x1\":1,\"xref\":\"x domain\",\"y0\":1075.5033958435058,\"y1\":1075.5033958435058,\"yref\":\"y\"}]},                        {\"responsive\": true}                    ).then(function(){\n",
       "                            \n",
       "var gd = document.getElementById('9a679bda-4e07-4bf4-ae91-12b174a7a51a');\n",
       "var x = new MutationObserver(function (mutations, observer) {{\n",
       "        var display = window.getComputedStyle(gd).display;\n",
       "        if (!display || display === 'none') {{\n",
       "            console.log([gd, 'removed!']);\n",
       "            Plotly.purge(gd);\n",
       "            observer.disconnect();\n",
       "        }}\n",
       "}});\n",
       "\n",
       "// Listen for the removal of the full notebook cells\n",
       "var notebookContainer = gd.closest('#notebook-container');\n",
       "if (notebookContainer) {{\n",
       "    x.observe(notebookContainer, {childList: true});\n",
       "}}\n",
       "\n",
       "// Listen for the clearing of the current output cell\n",
       "var outputEl = gd.closest('.output');\n",
       "if (outputEl) {{\n",
       "    x.observe(outputEl, {childList: true});\n",
       "}}\n",
       "\n",
       "                        })                };                });            </script>        </div>"
      ]
     },
     "metadata": {},
     "output_type": "display_data"
    },
    {
     "data": {
      "image/png": "[encoded data removed]",
      "text/plain": [
       "<Figure size 2000x1000 with 8 Axes>"
      ]
     },
     "metadata": {},
     "output_type": "display_data"
    }
   ],
   "source": [
    "plot(model,\n",
    "     config,\n",
    "     loss_training, \n",
    "     loss_validation, \n",
    "     \"GLSTM\", \n",
    "     show = True)"
   ]
  },
  {
   "cell_type": "code",
   "execution_count": 33,
   "id": "8a28b25a-6f13-49f3-a078-a13a1ba194ef",
   "metadata": {},
   "outputs": [
    {
     "name": "stdout",
     "output_type": "stream",
     "text": [
      "cuda\n",
      "model_7_4_0.05_64_4_64_False\n"
     ]
    },
    {
     "name": "stderr",
     "output_type": "stream",
     "text": [
      "  1%|▍                                          | 1/100 [00:05<08:37,  5.22s/it]"
     ]
    },
    {
     "name": "stdout",
     "output_type": "stream",
     "text": [
      "> \u001b[0;32m/tmp/ipykernel_18785/3268927096.py\u001b[0m(34)\u001b[0;36mstep\u001b[0;34m()\u001b[0m\n",
      "\u001b[0;32m     32 \u001b[0;31m                \u001b[0mpdb\u001b[0m\u001b[0;34m.\u001b[0m\u001b[0mset_trace\u001b[0m\u001b[0;34m(\u001b[0m\u001b[0;34m)\u001b[0m\u001b[0;34m\u001b[0m\u001b[0;34m\u001b[0m\u001b[0m\n",
      "\u001b[0m\u001b[0;32m     33 \u001b[0;31m\u001b[0;34m\u001b[0m\u001b[0m\n",
      "\u001b[0m\u001b[0;32m---> 34 \u001b[0;31m        \u001b[0mloss_epoch\u001b[0m \u001b[0;34m+=\u001b[0m \u001b[0mloss\u001b[0m\u001b[0;34m.\u001b[0m\u001b[0mitem\u001b[0m\u001b[0;34m(\u001b[0m\u001b[0;34m)\u001b[0m\u001b[0;34m/\u001b[0m\u001b[0mlen\u001b[0m\u001b[0;34m(\u001b[0m\u001b[0mdataloader\u001b[0m\u001b[0;34m)\u001b[0m\u001b[0;34m\u001b[0m\u001b[0;34m\u001b[0m\u001b[0m\n",
      "\u001b[0m\u001b[0;32m     35 \u001b[0;31m\u001b[0;34m\u001b[0m\u001b[0m\n",
      "\u001b[0m\u001b[0;32m     36 \u001b[0;31m    \u001b[0;32mreturn\u001b[0m \u001b[0mloss_epoch\u001b[0m\u001b[0;34m\u001b[0m\u001b[0;34m\u001b[0m\u001b[0m\n",
      "\u001b[0m\n",
      "--KeyboardInterrupt--\n",
      "\n",
      "KeyboardInterrupt: Interrupted by user\n"
     ]
    },
    {
     "name": "stdin",
     "output_type": "stream",
     "text": [
      "ipdb>  q\n"
     ]
    },
    {
     "name": "stderr",
     "output_type": "stream",
     "text": [
      "  4%|█▋                                         | 4/100 [00:20<08:18,  5.20s/it]"
     ]
    },
    {
     "name": "stdout",
     "output_type": "stream",
     "text": [
      "> \u001b[0;32m/tmp/ipykernel_18785/3268927096.py\u001b[0m(34)\u001b[0;36mstep\u001b[0;34m()\u001b[0m\n",
      "\u001b[0;32m     32 \u001b[0;31m                \u001b[0mpdb\u001b[0m\u001b[0;34m.\u001b[0m\u001b[0mset_trace\u001b[0m\u001b[0;34m(\u001b[0m\u001b[0;34m)\u001b[0m\u001b[0;34m\u001b[0m\u001b[0;34m\u001b[0m\u001b[0m\n",
      "\u001b[0m\u001b[0;32m     33 \u001b[0;31m\u001b[0;34m\u001b[0m\u001b[0m\n",
      "\u001b[0m\u001b[0;32m---> 34 \u001b[0;31m        \u001b[0mloss_epoch\u001b[0m \u001b[0;34m+=\u001b[0m \u001b[0mloss\u001b[0m\u001b[0;34m.\u001b[0m\u001b[0mitem\u001b[0m\u001b[0;34m(\u001b[0m\u001b[0;34m)\u001b[0m\u001b[0;34m/\u001b[0m\u001b[0mlen\u001b[0m\u001b[0;34m(\u001b[0m\u001b[0mdataloader\u001b[0m\u001b[0;34m)\u001b[0m\u001b[0;34m\u001b[0m\u001b[0;34m\u001b[0m\u001b[0m\n",
      "\u001b[0m\u001b[0;32m     35 \u001b[0;31m\u001b[0;34m\u001b[0m\u001b[0m\n",
      "\u001b[0m\u001b[0;32m     36 \u001b[0;31m    \u001b[0;32mreturn\u001b[0m \u001b[0mloss_epoch\u001b[0m\u001b[0;34m\u001b[0m\u001b[0;34m\u001b[0m\u001b[0m\n",
      "\u001b[0m\n",
      "--KeyboardInterrupt--\n",
      "\n",
      "KeyboardInterrupt: Interrupted by user\n",
      "> \u001b[0;32m/tmp/ipykernel_18785/3268927096.py\u001b[0m(34)\u001b[0;36mstep\u001b[0;34m()\u001b[0m\n",
      "\u001b[0;32m     32 \u001b[0;31m                \u001b[0mpdb\u001b[0m\u001b[0;34m.\u001b[0m\u001b[0mset_trace\u001b[0m\u001b[0;34m(\u001b[0m\u001b[0;34m)\u001b[0m\u001b[0;34m\u001b[0m\u001b[0;34m\u001b[0m\u001b[0m\n",
      "\u001b[0m\u001b[0;32m     33 \u001b[0;31m\u001b[0;34m\u001b[0m\u001b[0m\n",
      "\u001b[0m\u001b[0;32m---> 34 \u001b[0;31m        \u001b[0mloss_epoch\u001b[0m \u001b[0;34m+=\u001b[0m \u001b[0mloss\u001b[0m\u001b[0;34m.\u001b[0m\u001b[0mitem\u001b[0m\u001b[0;34m(\u001b[0m\u001b[0;34m)\u001b[0m\u001b[0;34m/\u001b[0m\u001b[0mlen\u001b[0m\u001b[0;34m(\u001b[0m\u001b[0mdataloader\u001b[0m\u001b[0;34m)\u001b[0m\u001b[0;34m\u001b[0m\u001b[0;34m\u001b[0m\u001b[0m\n",
      "\u001b[0m\u001b[0;32m     35 \u001b[0;31m\u001b[0;34m\u001b[0m\u001b[0m\n",
      "\u001b[0m\u001b[0;32m     36 \u001b[0;31m    \u001b[0;32mreturn\u001b[0m \u001b[0mloss_epoch\u001b[0m\u001b[0;34m\u001b[0m\u001b[0;34m\u001b[0m\u001b[0m\n",
      "\u001b[0m\n",
      "--KeyboardInterrupt--\n",
      "\n",
      "KeyboardInterrupt: Interrupted by user\n"
     ]
    },
    {
     "name": "stderr",
     "output_type": "stream",
     "text": [
      "  5%|██▏                                        | 5/100 [00:26<08:24,  5.31s/it]"
     ]
    },
    {
     "name": "stdin",
     "output_type": "stream",
     "text": [
      "ipdb>  q\n",
      "ipdb>  q\n"
     ]
    },
    {
     "name": "stderr",
     "output_type": "stream",
     "text": [
      "  7%|███                                        | 7/100 [00:36<08:05,  5.22s/it]"
     ]
    },
    {
     "name": "stdout",
     "output_type": "stream",
     "text": [
      "> \u001b[0;32m/tmp/ipykernel_18785/3268927096.py\u001b[0m(34)\u001b[0;36mstep\u001b[0;34m()\u001b[0m\n",
      "\u001b[0;32m     32 \u001b[0;31m                \u001b[0mpdb\u001b[0m\u001b[0;34m.\u001b[0m\u001b[0mset_trace\u001b[0m\u001b[0;34m(\u001b[0m\u001b[0;34m)\u001b[0m\u001b[0;34m\u001b[0m\u001b[0;34m\u001b[0m\u001b[0m\n",
      "\u001b[0m\u001b[0;32m     33 \u001b[0;31m\u001b[0;34m\u001b[0m\u001b[0m\n",
      "\u001b[0m\u001b[0;32m---> 34 \u001b[0;31m        \u001b[0mloss_epoch\u001b[0m \u001b[0;34m+=\u001b[0m \u001b[0mloss\u001b[0m\u001b[0;34m.\u001b[0m\u001b[0mitem\u001b[0m\u001b[0;34m(\u001b[0m\u001b[0;34m)\u001b[0m\u001b[0;34m/\u001b[0m\u001b[0mlen\u001b[0m\u001b[0;34m(\u001b[0m\u001b[0mdataloader\u001b[0m\u001b[0;34m)\u001b[0m\u001b[0;34m\u001b[0m\u001b[0;34m\u001b[0m\u001b[0m\n",
      "\u001b[0m\u001b[0;32m     35 \u001b[0;31m\u001b[0;34m\u001b[0m\u001b[0m\n",
      "\u001b[0m\u001b[0;32m     36 \u001b[0;31m    \u001b[0;32mreturn\u001b[0m \u001b[0mloss_epoch\u001b[0m\u001b[0;34m\u001b[0m\u001b[0;34m\u001b[0m\u001b[0m\n",
      "\u001b[0m\n",
      "--KeyboardInterrupt--\n",
      "\n",
      "KeyboardInterrupt: Interrupted by user\n",
      "> \u001b[0;32m/tmp/ipykernel_18785/3268927096.py\u001b[0m(34)\u001b[0;36mstep\u001b[0;34m()\u001b[0m\n",
      "\u001b[0;32m     32 \u001b[0;31m                \u001b[0mpdb\u001b[0m\u001b[0;34m.\u001b[0m\u001b[0mset_trace\u001b[0m\u001b[0;34m(\u001b[0m\u001b[0;34m)\u001b[0m\u001b[0;34m\u001b[0m\u001b[0;34m\u001b[0m\u001b[0m\n",
      "\u001b[0m\u001b[0;32m     33 \u001b[0;31m\u001b[0;34m\u001b[0m\u001b[0m\n",
      "\u001b[0m\u001b[0;32m---> 34 \u001b[0;31m        \u001b[0mloss_epoch\u001b[0m \u001b[0;34m+=\u001b[0m \u001b[0mloss\u001b[0m\u001b[0;34m.\u001b[0m\u001b[0mitem\u001b[0m\u001b[0;34m(\u001b[0m\u001b[0;34m)\u001b[0m\u001b[0;34m/\u001b[0m\u001b[0mlen\u001b[0m\u001b[0;34m(\u001b[0m\u001b[0mdataloader\u001b[0m\u001b[0;34m)\u001b[0m\u001b[0;34m\u001b[0m\u001b[0;34m\u001b[0m\u001b[0m\n",
      "\u001b[0m\u001b[0;32m     35 \u001b[0;31m\u001b[0;34m\u001b[0m\u001b[0m\n",
      "\u001b[0m\u001b[0;32m     36 \u001b[0;31m    \u001b[0;32mreturn\u001b[0m \u001b[0mloss_epoch\u001b[0m\u001b[0;34m\u001b[0m\u001b[0;34m\u001b[0m\u001b[0m\n",
      "\u001b[0m\n"
     ]
    },
    {
     "name": "stderr",
     "output_type": "stream",
     "text": [
      "  7%|███                                        | 7/100 [00:39<08:41,  5.61s/it]"
     ]
    },
    {
     "name": "stdout",
     "output_type": "stream",
     "text": [
      "--KeyboardInterrupt--\n",
      "\n",
      "KeyboardInterrupt: Interrupted by user\n"
     ]
    },
    {
     "name": "stderr",
     "output_type": "stream",
     "text": [
      "\n",
      "\n",
      "KeyboardInterrupt\n",
      "\n"
     ]
    }
   ],
   "source": [
    "grid_search = False\n",
    "if grid_search:\n",
    "    path = os.path.join(config['paths']['models'], \"score.csv\")\n",
    "    if os.path.exists(path):\n",
    "        ord = pd.read_csv(path, index_col=0)\n",
    "        tmp = ord.to_dict('index')\n",
    "        score = {}\n",
    "        for k in tmp.keys():\n",
    "            score[tmp[k]['name']] = tmp[k]['score']\n",
    "    else:\n",
    "        score = {}\n",
    "    keys = config['grid_search'].keys()\n",
    "    def dfs(i:int, t:tuple, keys:list, config, comb:list):\n",
    "        if i == len(keys):\n",
    "            comb.append(t)\n",
    "        if i < len(keys):\n",
    "            if keys[i] == 'embedding':\n",
    "                comb.append(t+(False, ))\n",
    "                dfs(i+1, t+(True, ), keys, config, comb)\n",
    "            else:\n",
    "                for element in config['model'][keys[i]]:\n",
    "                    dfs(i+1, t+(element, ), keys, config, comb)\n",
    "    combs = []\n",
    "    dfs(0,(), keys, config, combs) \n",
    "    print(device)\n",
    "    for comb in combs:\n",
    "        name = f\"model_{config['setting']['past_step']}_{config['setting']['future_step']}_\"\n",
    "        for f in comb[:-1]:\n",
    "            name += f\"{f}_\"\n",
    "        name += f\"{comb[-1]}\"\n",
    "        if name not in list(score.keys()):\n",
    "            model = GNN(in_feat = batch.float().shape[-1], \n",
    "                        past = past_step,\n",
    "                        future = future_step,\n",
    "                        categorical = categorical,\n",
    "                        dropout = comb[0],\n",
    "                        out_preprocess = comb[1],\n",
    "                        num_layer_gnn = comb[2],\n",
    "                        hidden_propagation = comb[3],\n",
    "                        embedding = comb[4], \n",
    "                        concat = comb[5] if comb[4] else True,\n",
    "                        dim_categorical = comb[6] if comb[4] else 128,\n",
    "                        nodes = len(codice_reg_prov),\n",
    "                        adj = L).to(device)\n",
    "                    \n",
    "            optimizer = optim.Adam(model.parameters(), lr = 3e-4)\n",
    "            print(name)\n",
    "            model, loss_training, loss_validation = training(model, \n",
    "                                                             train_loader = dl_train, \n",
    "                                                             val_loader = dl_val, \n",
    "                                                             num_epochs = 100, \n",
    "                                                             criterion = nn.L1Loss(reduction=\"mean\"),\n",
    "                                                             optimizer = optimizer, \n",
    "                                                             device = device)\n",
    "            score[name] = np.min(loss_validation)\n",
    "            plot(model, \n",
    "                 config,\n",
    "                 loss_training, \n",
    "                 loss_validation, \n",
    "                 name)\n",
    "    ord = pd.DataFrame(score.items(), columns = [\"name\", \"score\"])\n",
    "    ord.sort_values(by = \"score\").reset_index(drop= True)\n",
    "    ord.to_csv(os.path.join(config['paths']['models'], \"score.csv\"))"
   ]
  },
  {
   "cell_type": "code",
   "execution_count": 27,
   "id": "4f018570-8b5a-486a-a505-a12b6a137667",
   "metadata": {},
   "outputs": [
    {
     "data": {
      "text/plain": [
       "{'model_7_4_0.05_64_1_64_False': 7566.323402258726,\n",
       " 'model_7_4_0.05_64_1_64_True_True_64': 7715.371034721528,\n",
       " 'model_7_4_0.05_64_1_64_True_True_128': 7381.785455742253,\n",
       " 'model_7_4_0.05_64_1_64_True_True_256': 7355.535830614255,\n",
       " 'model_7_4_0.05_64_1_64_True_False_64': 7693.268957652019,\n",
       " 'model_7_4_0.05_64_1_64_True_False_128': 7492.274179224591,\n",
       " 'model_7_4_0.05_64_1_64_True_False_256': 7721.414075123559,\n",
       " 'model_7_4_0.05_64_1_128_False': 7501.29077593335,\n",
       " 'model_7_4_0.05_64_1_128_True_True_64': 7334.49775712598,\n",
       " 'model_7_4_0.05_64_1_128_True_True_128': 7578.625473793401,\n",
       " 'model_7_4_0.05_64_1_128_True_True_256': 7066.229749902859,\n",
       " 'model_7_4_0.05_64_1_128_True_False_64': 7915.111999368747,\n",
       " 'model_7_4_0.05_64_1_128_True_False_128': 7833.699646777254,\n",
       " 'model_7_4_0.05_64_1_128_True_False_256': 7722.144301173918,\n",
       " 'model_7_4_0.05_64_1_256_False': 7707.946167887784,\n",
       " 'model_7_4_0.05_64_1_256_True_True_64': 7622.914552821974,\n",
       " 'model_7_4_0.05_64_1_256_True_True_128': 7550.638421331554,\n",
       " 'model_7_4_0.05_64_1_256_True_True_256': 6869.992965533718,\n",
       " 'model_7_4_0.05_64_1_256_True_False_64': 8618.56801757463,\n",
       " 'model_7_4_0.05_64_1_256_True_False_128': 7362.508891749511,\n",
       " 'model_7_4_0.05_64_1_256_True_False_256': 7567.5772416220125,\n",
       " 'model_7_4_0.05_64_2_64_False': 7711.873904395857,\n",
       " 'model_7_4_0.05_64_2_64_True_True_64': 7356.533357294573,\n",
       " 'model_7_4_0.05_64_2_64_True_True_128': 7457.93260780195,\n",
       " 'model_7_4_0.05_64_2_64_True_True_256': 7153.340548420611,\n",
       " 'model_7_4_0.05_64_2_64_True_False_64': 7275.464262770152,\n",
       " 'model_7_4_0.05_64_2_64_True_False_128': 7393.7920177155775,\n",
       " 'model_7_4_0.05_64_2_64_True_False_256': 6998.85275086365,\n",
       " 'model_7_4_0.05_64_2_128_False': 7842.281166286386,\n",
       " 'model_7_4_0.05_64_2_128_True_True_64': 8250.163409894081,\n",
       " 'model_7_4_0.05_64_2_128_True_True_128': 8083.233594809899,\n",
       " 'model_7_4_0.05_64_2_128_True_True_256': 7751.958990304975,\n",
       " 'model_7_4_0.05_64_2_128_True_False_64': 8150.209210200857,\n",
       " 'model_7_4_0.05_64_2_128_True_False_128': 7561.0212235752115,\n",
       " 'model_7_4_0.05_64_2_128_True_False_256': 7296.798388027968,\n",
       " 'model_7_4_0.05_64_2_256_False': 7260.765336200885,\n",
       " 'model_7_4_0.05_64_2_256_True_True_64': 7411.771519590313,\n",
       " 'model_7_4_0.05_64_2_256_True_True_128': 7536.040270751394,\n",
       " 'model_7_4_0.05_64_2_256_True_True_256': 7313.380239622085,\n",
       " 'model_7_4_0.05_64_2_256_True_False_64': 8581.664863987851,\n",
       " 'model_7_4_0.05_64_2_256_True_False_128': 8108.7718622350385,\n",
       " 'model_7_4_0.05_64_2_256_True_False_256': 7279.993680906056}"
      ]
     },
     "execution_count": 27,
     "metadata": {},
     "output_type": "execute_result"
    }
   ],
   "source": [
    "d"
   ]
  }
 ],
 "metadata": {
  "kernelspec": {
   "display_name": "Python 3 (ipykernel)",
   "language": "python",
   "name": "python3"
  },
  "language_info": {
   "codemirror_mode": {
    "name": "ipython",
    "version": 3
   },
   "file_extension": ".py",
   "mimetype": "text/x-python",
   "name": "python",
   "nbconvert_exporter": "python",
   "pygments_lexer": "ipython3",
   "version": "3.11.5"
  }
 },
 "nbformat": 4,
 "nbformat_minor": 5
}
