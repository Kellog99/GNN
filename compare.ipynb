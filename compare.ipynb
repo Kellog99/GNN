{
 "cells": [
  {
   "cell_type": "code",
   "execution_count": 1,
   "id": "d5c30df0-e279-4ed8-a4f1-00e566164a7a",
   "metadata": {},
   "outputs": [],
   "source": [
    "import os\n",
    "import matplotlib.pyplot as plt\n",
    "import numpy as np\n",
    "import plotly.express as px\n",
    "import torch\n",
    "import torch.nn as nn\n",
    "import torch.nn.functional as F\n",
    "import pandas as pd\n",
    "import torch.optim as optim\n",
    "import yaml\n",
    "import pickle\n",
    "import pdb\n",
    "from torch.utils.data import DataLoader\n",
    "from data import dataset\n",
    "from trainer import Trainer\n",
    "from tqdm import tqdm\n",
    "import importlib.util as imp\n"
   ]
  },
  {
   "cell_type": "code",
   "execution_count": 2,
   "id": "3f530bca-3119-4eba-bf3d-cf89f116c7b8",
   "metadata": {},
   "outputs": [],
   "source": [
    "with open(\"/home/andrea/Scrivania/Tesi/leonardo/config_env.yaml\", 'r') as f:\n",
    "    config_env = yaml.safe_load(f)"
   ]
  },
  {
   "cell_type": "code",
   "execution_count": 3,
   "id": "3ed80316-965f-4936-9731-fc6df979eaea",
   "metadata": {},
   "outputs": [
    {
     "name": "stdout",
     "output_type": "stream",
     "text": [
      "<class 'model.py.GLSTM'>\n",
      "<class 'model.py.GLSTMseq2seq'>\n",
      "<class 'model.py.GCN_LSTM'>\n",
      "<class 'model.py.GAT_LSTMseq2seq'>\n",
      "<class 'model.py.GAT_LSTM'>\n"
     ]
    }
   ],
   "source": [
    "###### nameofthemodel_paststep_futurestep.pt #####\n",
    "past_step = config_env['setting']['past_step']\n",
    "future_step = config_env['setting']['future_step']\n",
    "for name in os.listdir(config_env['paths']['list_models']):\n",
    "    tmp = f\"{name}_{past_step}_{future_step}.pt\"\n",
    "    PATH = os.path.join(config_env['paths']['models'], tmp)\n",
    "    if os.path.exists(PATH):\n",
    "        ############### CARICO LA RELATIVA CLASSE ######################\n",
    "        file_path = os.path.join(config_env['paths']['list_models'], name, 'model.py')\n",
    "        # Create a module spec\n",
    "        spec = imp.spec_from_file_location('model.py', file_path)\n",
    "        # Import the module\n",
    "        module = imp.module_from_spec(spec)\n",
    "        spec.loader.exec_module(module)\n",
    "\n",
    "        ############### INSTANZIO LA CLASSE ######################\n",
    "        model = getattr(module, name)\n",
    "        \n",
    "        print(model)\n",
    "    "
   ]
  },
  {
   "cell_type": "code",
   "execution_count": 14,
   "id": "29aa74e6-587f-444b-966a-8722a49958ba",
   "metadata": {},
   "outputs": [],
   "source": [
    "from importlib import import_module"
   ]
  },
  {
   "cell_type": "code",
   "execution_count": null,
   "id": "7fb9596c-7f57-491e-a7f4-95617badff8a",
   "metadata": {},
   "outputs": [],
   "source": [
    "mod = import_module(p)\n",
    "met = getattr(mod, m)"
   ]
  },
  {
   "cell_type": "code",
   "execution_count": 4,
   "id": "2bbb065a-2072-412a-82dd-3b272a7c6bb0",
   "metadata": {},
   "outputs": [
    {
     "data": {
      "text/plain": [
       "{'data': '/home/andrea/Scrivania/Tesi/leonardo/data/dataset',\n",
       " 'adj': '/home/andrea/Scrivania/Tesi/leonardo/data/adj',\n",
       " 'models': '/home/andrea/Scrivania/Tesi/leonardo/best_models',\n",
       " 'config': '/home/andrea/Scrivania/Tesi/leonardo/config',\n",
       " 'list_models': '/home/andrea/Scrivania/Tesi/leonardo/models',\n",
       " 'fig': '/home/andrea/Scrivania/Tesi/leonardo/figures'}"
      ]
     },
     "execution_count": 4,
     "metadata": {},
     "output_type": "execute_result"
    }
   ],
   "source": [
    "config_env['paths']"
   ]
  },
  {
   "cell_type": "code",
   "execution_count": 39,
   "id": "7db8c936-af49-4308-904c-4a43f5470a62",
   "metadata": {},
   "outputs": [
    {
     "data": {
      "text/html": [
       "<div>\n",
       "<style scoped>\n",
       "    .dataframe tbody tr th:only-of-type {\n",
       "        vertical-align: middle;\n",
       "    }\n",
       "\n",
       "    .dataframe tbody tr th {\n",
       "        vertical-align: top;\n",
       "    }\n",
       "\n",
       "    .dataframe thead th {\n",
       "        text-align: right;\n",
       "    }\n",
       "</style>\n",
       "<table border=\"1\" class=\"dataframe\">\n",
       "  <thead>\n",
       "    <tr style=\"text-align: right;\">\n",
       "      <th></th>\n",
       "      <th>model</th>\n",
       "      <th>score</th>\n",
       "    </tr>\n",
       "  </thead>\n",
       "  <tbody>\n",
       "    <tr>\n",
       "      <th>0</th>\n",
       "      <td>GAT_LSTM</td>\n",
       "      <td>211.629820</td>\n",
       "    </tr>\n",
       "    <tr>\n",
       "      <th>1</th>\n",
       "      <td>GAT_LSTMseq2seq</td>\n",
       "      <td>214.409387</td>\n",
       "    </tr>\n",
       "    <tr>\n",
       "      <th>2</th>\n",
       "      <td>GCN_LSTM</td>\n",
       "      <td>214.497960</td>\n",
       "    </tr>\n",
       "    <tr>\n",
       "      <th>3</th>\n",
       "      <td>GLSTMseq2seq</td>\n",
       "      <td>215.430654</td>\n",
       "    </tr>\n",
       "    <tr>\n",
       "      <th>4</th>\n",
       "      <td>GLSTM</td>\n",
       "      <td>219.088553</td>\n",
       "    </tr>\n",
       "  </tbody>\n",
       "</table>\n",
       "</div>"
      ],
      "text/plain": [
       "             model       score\n",
       "0         GAT_LSTM  211.629820\n",
       "1  GAT_LSTMseq2seq  214.409387\n",
       "2         GCN_LSTM  214.497960\n",
       "3     GLSTMseq2seq  215.430654\n",
       "4            GLSTM  219.088553"
      ]
     },
     "execution_count": 39,
     "metadata": {},
     "output_type": "execute_result"
    }
   ],
   "source": [
    "tmp = {'GLSTM': 219.0885526595577, 'GLSTMseq2seq': 215.43065409506522, 'GCN_LSTM': 214.49795981376403, 'GAT_LSTMseq2seq': 214.40938666559035, 'GAT_LSTM': 211.62982005457724}\n",
    "tmp = pd.DataFrame(tmp.items(), columns = ['model', 'score']).sort_values(by = 'score').reset_index(drop = True)\n",
    "tmp.head()"
   ]
  },
  {
   "cell_type": "code",
   "execution_count": 42,
   "id": "79c6cfab-7713-4b1e-bcce-375ae682f038",
   "metadata": {},
   "outputs": [],
   "source": [
    "tmp['past_step']= past_step\n",
    "tmp['future_step']= future_step"
   ]
  },
  {
   "cell_type": "code",
   "execution_count": 43,
   "id": "4e20365b-9e34-4a5f-a4a5-d771d4428d54",
   "metadata": {},
   "outputs": [
    {
     "data": {
      "text/html": [
       "<div>\n",
       "<style scoped>\n",
       "    .dataframe tbody tr th:only-of-type {\n",
       "        vertical-align: middle;\n",
       "    }\n",
       "\n",
       "    .dataframe tbody tr th {\n",
       "        vertical-align: top;\n",
       "    }\n",
       "\n",
       "    .dataframe thead th {\n",
       "        text-align: right;\n",
       "    }\n",
       "</style>\n",
       "<table border=\"1\" class=\"dataframe\">\n",
       "  <thead>\n",
       "    <tr style=\"text-align: right;\">\n",
       "      <th></th>\n",
       "      <th>model</th>\n",
       "      <th>score</th>\n",
       "      <th>past_step</th>\n",
       "      <th>future_step</th>\n",
       "    </tr>\n",
       "  </thead>\n",
       "  <tbody>\n",
       "    <tr>\n",
       "      <th>0</th>\n",
       "      <td>GAT_LSTM</td>\n",
       "      <td>211.629820</td>\n",
       "      <td>30</td>\n",
       "      <td>50</td>\n",
       "    </tr>\n",
       "    <tr>\n",
       "      <th>1</th>\n",
       "      <td>GAT_LSTMseq2seq</td>\n",
       "      <td>214.409387</td>\n",
       "      <td>30</td>\n",
       "      <td>50</td>\n",
       "    </tr>\n",
       "    <tr>\n",
       "      <th>2</th>\n",
       "      <td>GCN_LSTM</td>\n",
       "      <td>214.497960</td>\n",
       "      <td>30</td>\n",
       "      <td>50</td>\n",
       "    </tr>\n",
       "    <tr>\n",
       "      <th>3</th>\n",
       "      <td>GLSTMseq2seq</td>\n",
       "      <td>215.430654</td>\n",
       "      <td>30</td>\n",
       "      <td>50</td>\n",
       "    </tr>\n",
       "    <tr>\n",
       "      <th>4</th>\n",
       "      <td>GLSTM</td>\n",
       "      <td>219.088553</td>\n",
       "      <td>30</td>\n",
       "      <td>50</td>\n",
       "    </tr>\n",
       "  </tbody>\n",
       "</table>\n",
       "</div>"
      ],
      "text/plain": [
       "             model       score  past_step  future_step\n",
       "0         GAT_LSTM  211.629820         30           50\n",
       "1  GAT_LSTMseq2seq  214.409387         30           50\n",
       "2         GCN_LSTM  214.497960         30           50\n",
       "3     GLSTMseq2seq  215.430654         30           50\n",
       "4            GLSTM  219.088553         30           50"
      ]
     },
     "execution_count": 43,
     "metadata": {},
     "output_type": "execute_result"
    }
   ],
   "source": [
    "tmp"
   ]
  },
  {
   "cell_type": "code",
   "execution_count": null,
   "id": "00dd19ca-6035-4877-b1ad-dac6c14871ea",
   "metadata": {},
   "outputs": [],
   "source": []
  },
  {
   "cell_type": "code",
   "execution_count": null,
   "id": "3eadbbee-bb56-49e1-abc2-512a4d02351e",
   "metadata": {},
   "outputs": [],
   "source": []
  },
  {
   "cell_type": "code",
   "execution_count": null,
   "id": "d4c79ae5-fec0-4f05-86ed-7a40a319be30",
   "metadata": {},
   "outputs": [],
   "source": []
  },
  {
   "cell_type": "code",
   "execution_count": null,
   "id": "bf17d598-7608-4176-bacc-6c4f4c95de39",
   "metadata": {},
   "outputs": [],
   "source": []
  },
  {
   "cell_type": "code",
   "execution_count": 3,
   "id": "42b26c31-ff25-4a26-bede-a8d5c765323f",
   "metadata": {},
   "outputs": [
    {
     "data": {
      "text/html": [
       "<div>\n",
       "<style scoped>\n",
       "    .dataframe tbody tr th:only-of-type {\n",
       "        vertical-align: middle;\n",
       "    }\n",
       "\n",
       "    .dataframe tbody tr th {\n",
       "        vertical-align: top;\n",
       "    }\n",
       "\n",
       "    .dataframe thead th {\n",
       "        text-align: right;\n",
       "    }\n",
       "</style>\n",
       "<table border=\"1\" class=\"dataframe\">\n",
       "  <thead>\n",
       "    <tr style=\"text-align: right;\">\n",
       "      <th></th>\n",
       "      <th>name</th>\n",
       "      <th>score</th>\n",
       "    </tr>\n",
       "  </thead>\n",
       "  <tbody>\n",
       "    <tr>\n",
       "      <th>0</th>\n",
       "      <td>0.0</td>\n",
       "      <td>29353.540234</td>\n",
       "    </tr>\n",
       "    <tr>\n",
       "      <th>1</th>\n",
       "      <td>0.1</td>\n",
       "      <td>8393.896387</td>\n",
       "    </tr>\n",
       "    <tr>\n",
       "      <th>2</th>\n",
       "      <td>0.2</td>\n",
       "      <td>39354.747852</td>\n",
       "    </tr>\n",
       "    <tr>\n",
       "      <th>3</th>\n",
       "      <td>0.3</td>\n",
       "      <td>69223.865234</td>\n",
       "    </tr>\n",
       "    <tr>\n",
       "      <th>4</th>\n",
       "      <td>0.4</td>\n",
       "      <td>38628.950781</td>\n",
       "    </tr>\n",
       "  </tbody>\n",
       "</table>\n",
       "</div>"
      ],
      "text/plain": [
       "   name         score\n",
       "0   0.0  29353.540234\n",
       "1   0.1   8393.896387\n",
       "2   0.2  39354.747852\n",
       "3   0.3  69223.865234\n",
       "4   0.4  38628.950781"
      ]
     },
     "execution_count": 3,
     "metadata": {},
     "output_type": "execute_result"
    }
   ],
   "source": [
    "tmp = pd.read_csv(\"./GAT_LSTMseq2seq_dropout.csv\", index_col=0)\n",
    "tmp.head()"
   ]
  },
  {
   "cell_type": "code",
   "execution_count": 14,
   "id": "cbd2e18b-924c-4c50-9725-d9b54803ac92",
   "metadata": {},
   "outputs": [
    {
     "data": {
      "image/png": "[encoded data removed]",
      "text/plain": [
       "<Figure size 640x480 with 1 Axes>"
      ]
     },
     "metadata": {},
     "output_type": "display_data"
    }
   ],
   "source": [
    "plt.plot(tmp.name, tmp.score)\n",
    "plt.axhline(100000, color = \"red\")\n",
    "plt.show()"
   ]
  }
 ],
 "metadata": {
  "kernelspec": {
   "display_name": "Python 3 (ipykernel)",
   "language": "python",
   "name": "python3"
  },
  "language_info": {
   "codemirror_mode": {
    "name": "ipython",
    "version": 3
   },
   "file_extension": ".py",
   "mimetype": "text/x-python",
   "name": "python",
   "nbconvert_exporter": "python",
   "pygments_lexer": "ipython3",
   "version": "3.11.5"
  }
 },
 "nbformat": 4,
 "nbformat_minor": 5
}
