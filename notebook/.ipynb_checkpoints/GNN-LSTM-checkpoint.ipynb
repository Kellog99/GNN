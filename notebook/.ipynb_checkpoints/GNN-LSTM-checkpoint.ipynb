{
 "cells": [
  {
   "cell_type": "code",
   "execution_count": 1,
   "id": "880f767c-063e-41ab-b717-159c314557f6",
   "metadata": {},
   "outputs": [],
   "source": [
    "import os\n",
    "import random\n",
    "import matplotlib.pyplot as plt\n",
    "import numpy as np\n",
    "import plotly.express as px\n",
    "import torch\n",
    "import torch.nn as nn\n",
    "import torch.nn.functional as F\n",
    "import pandas as pd\n",
    "from tqdm import tqdm\n",
    "import torch.optim as optim\n",
    "import yaml\n",
    "import pickle\n",
    "from torch.utils.data import Dataset, DataLoader\n",
    "from data import covid_dataset\n",
    "import pdb"
   ]
  },
  {
   "cell_type": "markdown",
   "id": "89286644-478c-45ea-b4c4-51357958de33",
   "metadata": {},
   "source": [
    "Carico il configuratore che tiene traccia di tutte le informazioni generali "
   ]
  },
  {
   "cell_type": "code",
   "execution_count": 2,
   "id": "70ea09f7-d49a-4aff-bcd2-e1bf7e5c97a2",
   "metadata": {},
   "outputs": [],
   "source": [
    "with open(\"./config.yaml\", 'r') as f:\n",
    "    config = yaml.safe_load(f)"
   ]
  },
  {
   "cell_type": "code",
   "execution_count": 3,
   "id": "cf7d157b-cf41-4236-99c3-335cceca7d44",
   "metadata": {},
   "outputs": [
    {
     "name": "stdout",
     "output_type": "stream",
     "text": [
      "torch.Size([80, 10, 107, 10])\n",
      "torch.Size([80, 4, 107])\n"
     ]
    }
   ],
   "source": [
    "past_step = config['setting']['past_step']\n",
    "future_step = config['setting']['future_step']\n",
    "batch_size= 80#config['setting']['batch_size']\n",
    "\n",
    "if config['dataset']['aggregate']:\n",
    "    dataset = torch.load(os.path.join(config['paths']['data'],f\"aggregate/dataset{past_step}_{future_step}.pt\"))\n",
    "    len_train = int(len(dataset)*0.75)\n",
    "    len_val = len(dataset)-len_train\n",
    "    df_train, df_val = torch.utils.data.random_split(dataset=dataset, lengths = [len_train, len_val])\n",
    "    dl_train = DataLoader(dataset=df_train, batch_size=batch_size, shuffle=True)\n",
    "    dl_val = DataLoader(dataset=df_val, batch_size=batch_size, shuffle=True)\n",
    "    batch, y, adj = next(iter(dl_train))\n",
    "    print(batch.shape)\n",
    "    print(y.shape)\n",
    "\n",
    "else:\n",
    "    dl_train = {}\n",
    "    dl_val = {}\n",
    "    for regione in df.codice_regione.unique():\n",
    "        dataset = torch.load(os.path.join(config['paths']['data'],f\"not_aggregate/dataset{regione}_{past_step}_{future_step}.pt\"))\n",
    "        len_train = int(len(dataset)*0.75)\n",
    "        len_val = len(dataset)-len_train\n",
    "        df_train, df_val = torch.utils.data.random_split(dataset=dataset, lengths = [len_train, len_val])\n",
    "        dl_train[regione] = DataLoader(dataset=df_train, batch_size=batch_size, shuffle=True)\n",
    "        dl_val[regione] = DataLoader(dataset=df_val, batch_size=batch_size, shuffle=True)\n",
    "    batch, y = next(iter(dl_train[regione]))"
   ]
  },
  {
   "cell_type": "code",
   "execution_count": 4,
   "id": "23b5eaa1-a59d-41a7-8960-cab807a39903",
   "metadata": {},
   "outputs": [
    {
     "data": {
      "text/plain": [
       "torch.Size([80, 4, 107])"
      ]
     },
     "execution_count": 4,
     "metadata": {},
     "output_type": "execute_result"
    }
   ],
   "source": [
    "class pre_processing(torch.nn.Module):\n",
    "    def __init__(self,\n",
    "                 in_feat:int, \n",
    "                 out_feat:int, \n",
    "                 categorical:list,\n",
    "                 dim_categorical:int, \n",
    "                 concat:bool, \n",
    "                 dropout:float, \n",
    "                 embedding: bool):\n",
    "        \n",
    "        super(pre_processing, self).__init__()\n",
    "        self.in_feat = in_feat\n",
    "        self.concat = concat\n",
    "        self.embedding = embedding\n",
    "        self.embedding = nn.ModuleList([nn.Embedding(categorical[i], dim_categorical) for i in range(len(categorical))])\n",
    "        out = in_feat + (dim_categorical-1)*len(categorical) if concat else in_feat + dim_categorical - len(categorical)\n",
    "        self.linear = nn.Sequential(nn.Linear(in_features = out, out_features = 128),\n",
    "                                    nn.ReLU(), \n",
    "                                    nn.Dropout(dropout),\n",
    "                                    nn.Linear(in_features = 128, out_features = 128),\n",
    "                                    nn.ReLU(),\n",
    "                                    nn.Dropout(dropout),\n",
    "                                    nn.Linear(in_features = 128, out_features = out_feat, bias=False))\n",
    "        \n",
    "        \n",
    "    def forward(self, x):\n",
    "        if self.embedding:\n",
    "            out = []\n",
    "            # Con l'unsqueeze creo una nuova dimensione ed è come se mi salvassi per ogni features di ogni nodo di ogni batch tutti gli embedding\n",
    "            # Questo solo se devo sommare tutti gli embedding\n",
    "            for i in range(len(self.embedding)):\n",
    "                if self.concat:\n",
    "                    cat_tmp = x[:, :, :, -len(self.embedding)+i].int()\n",
    "                else:\n",
    "                    cat_tmp = x[:, :,:, -len(self.embedding)+i].int().unsqueeze(-1)\n",
    "                out.append(self.embedding[i](cat_tmp))\n",
    "\n",
    "            out = torch.cat(out,-1 if self.concat else -2)\n",
    "            out = out if self.concat else torch.sum(out, -2)\n",
    "            out = torch.cat((x[:,:,:,:-len(self.embedding)], out), -1)\n",
    "  \n",
    "        out = self.linear(out.float())\n",
    "        \n",
    "        return out.float()\n",
    "\n",
    "    \n",
    "\n",
    "class my_gcnn(torch.nn.Module):\n",
    "\n",
    "    def __init__(self, \n",
    "                 in_channels: int, \n",
    "                 out_channels: int,\n",
    "                 past:int, \n",
    "                 dim_hidden_emb:int = 128):\n",
    "        super(my_gcnn, self).__init__()\n",
    "\n",
    "        self.in_channels = in_channels\n",
    "        self.out_channels = out_channels\n",
    "        self.past = past \n",
    "        self.lin = nn.Linear(in_channels, \n",
    "                             out_channels, \n",
    "                             bias = False)\n",
    "        self.emb = nn.Linear(in_features = in_channels, \n",
    "                             out_features = dim_hidden_emb, \n",
    "                             bias = False)\n",
    "        \n",
    "\n",
    "    def forward(self,\n",
    "                x0: tuple) -> torch.tensor:\n",
    "        \n",
    "        x, A = x0   \n",
    "        x_emb = self.emb(x)\n",
    "        pi = torch.einsum('bdjk,bdik->bdij', x_emb, x_emb)\n",
    "\n",
    "        # Apply the mask to fill values in the input tensor\n",
    "        # sigmoid(Pi*X*W)\n",
    "        pi = F.softmax(pi.masked_fill(A == 0., -float('infinity')), -1)\n",
    "        x = torch.einsum('bpik,bpkj->bpij', pi, x)\n",
    "        x = F.sigmoid(self.lin(x))\n",
    "        \n",
    "        return (x, A)\n",
    "\n",
    "class LSTMCell(nn.Module):\n",
    "    def __init__(self, input_size, hidden_size):\n",
    "        super(LSTMCell, self).__init__()\n",
    "\n",
    "        self.input_size = input_size\n",
    "        self.hidden_size = hidden_size\n",
    "\n",
    "        # LSTM weights and biases\n",
    "        self.W_i = nn.Linear(input_size + hidden_size, hidden_size)\n",
    "        self.W_f = nn.Linear(input_size + hidden_size, hidden_size)\n",
    "        self.W_o = nn.Linear(input_size + hidden_size, hidden_size)\n",
    "        self.W_g = nn.Linear(input_size + hidden_size, hidden_size)\n",
    "\n",
    "    def forward(self, x, hidden):\n",
    "        h_prev, c_prev = hidden\n",
    "        \n",
    "        # Concatenate input and previous hidden state\n",
    "        combined = torch.cat((x, h_prev), dim=-1)\n",
    "\n",
    "        # Compute the input, forget, output, and cell gates\n",
    "        i = torch.sigmoid(self.W_i(combined))\n",
    "        f = torch.sigmoid(self.W_f(combined))\n",
    "        o = torch.sigmoid(self.W_o(combined))\n",
    "        g = torch.tanh(self.W_g(combined))\n",
    "\n",
    "        # Update the cell state and hidden state\n",
    "        c = f * c_prev + i * g\n",
    "        h = o * torch.tanh(c)\n",
    "\n",
    "        return h, c\n",
    "        \n",
    "        \n",
    "class GLSTM(torch.nn.Module):\n",
    "    def __init__(self, \n",
    "                 in_feat:int, \n",
    "                 past: int, \n",
    "                 future: int,\n",
    "                 categorical:list,\n",
    "                 device, \n",
    "                 out_preprocess:int = 128, \n",
    "                 dropout: float = 0.1, \n",
    "                 embedding:bool = True, \n",
    "                 dim_categorical:int = 64, \n",
    "                 concat:bool = True,\n",
    "                 num_layer_gnn:int = 1,\n",
    "                 hidden_gnn:int = 128,\n",
    "                 hidden_lstm: int = 128, \n",
    "                 hidden_propagation:int = 128):\n",
    "        \n",
    "        super(GLSTM, self).__init__()\n",
    "        \n",
    "        self.in_feat = in_feat         # numero di features di ogni nodo prima del primo GAT        \n",
    "        self.past = past \n",
    "        self.future = future\n",
    "        self.embedding = embedding\n",
    "        self.hidden_gnn = hidden_gnn\n",
    "        self.hidden_lstm = hidden_lstm\n",
    "        self.device = device\n",
    "        ########## PREPROCESSING PART #############        \n",
    "        # preprossessing dell'input\n",
    "        self.out_preprocess = out_preprocess\n",
    "        self.pre_processing = pre_processing(in_feat = in_feat, \n",
    "                                             out_feat = out_preprocess, \n",
    "                                             categorical = categorical,\n",
    "                                             embedding = embedding, \n",
    "                                             dropout = dropout, \n",
    "                                             dim_categorical = dim_categorical, \n",
    "                                             concat = concat)\n",
    "        \n",
    "        ########## FIRST GNN PART #############\n",
    "        # LA CGNN mi permette di vedere spazialmente la situazione circostante\n",
    "        # più layer di CGNN più spazialmente distante arriva l'informazione\n",
    "        # B x P x N x F\n",
    "    \n",
    "        layers = []\n",
    "        \n",
    "        for i in range(num_layer_gnn):\n",
    "            in_channels = self.out_preprocess if i == 0 else hidden_gnn\n",
    "            layers.append(my_gcnn(in_channels = in_channels, \n",
    "                                  out_channels = hidden_gnn, \n",
    "                                  past = past))            \n",
    "        self.gnn = nn.Sequential(*layers)\n",
    "\n",
    "        self.lstm = LSTMCell(input_size = hidden_gnn, \n",
    "                             hidden_size = hidden_lstm)\n",
    "        self.lstm_future = LSTMCell(input_size = hidden_lstm, \n",
    "                                    hidden_size = hidden_lstm)\n",
    "        \n",
    "        self.decoding = nn.Sequential(nn.Linear(in_features = hidden_lstm, \n",
    "                                                out_features = hidden_propagation), \n",
    "                                      nn.ReLU(), \n",
    "                                      nn.Linear(in_features = hidden_propagation,\n",
    "                                                out_features = hidden_propagation),\n",
    "                                      nn.ReLU(),\n",
    "                                      nn.Linear(in_features = hidden_propagation,\n",
    "                                                out_features = self.future))\n",
    "               \n",
    "    def forward(self, x, adj):\n",
    "        ########### pre-processing dei dati ##########\n",
    "        x = self.pre_processing(x)\n",
    "        nodes = x.shape[-2]\n",
    "        ########## GNN processing ######################\n",
    "        x, _ = self.gnn((x, adj))\n",
    "        \n",
    "        batch_size, seq_len, nodes, features = x.size()\n",
    "\n",
    "        # Initialize hidden and cell states\n",
    "        h, c = [torch.zeros(batch_size, nodes, self.hidden_lstm).to(x.device)] * 2\n",
    "        for t in range(seq_len):\n",
    "            h, c = self.lstm(x[:, t], (h, c))  \n",
    "        x = self.decoding(h)\n",
    "        return  x.transpose(-2,-1)\n",
    "model = GLSTM(in_feat = batch.shape[-1], \n",
    "              past = past_step,\n",
    "              future = future_step,\n",
    "              categorical = config['model']['categorical'],\n",
    "              embedding = config['model']['embedding'],\n",
    "              device = torch.device('cpu'))\n",
    "yh = model(batch.to(model.device), adj.to(model.device))\n",
    "yh.shape"
   ]
  },
  {
   "cell_type": "code",
   "execution_count": 5,
   "id": "7af7b368-eb3d-4c38-8dc1-40e7caeba1d1",
   "metadata": {},
   "outputs": [],
   "source": [
    "def step(model, \n",
    "         dataloader,\n",
    "         optimizer,\n",
    "         criterion,\n",
    "         training: bool = False):\n",
    "\n",
    "    if training:\n",
    "        model.train()\n",
    "    else:\n",
    "        model.eval()\n",
    "    desc = \"training\" if training else \"validation\"\n",
    "    is_train = True if training else False\n",
    "    loss_epoch = 0.0\n",
    "    with torch.set_grad_enabled(is_train):\n",
    "        for x, y, adj in iter(dataloader):\n",
    "            x = x.to(model.device).float()\n",
    "            y = y.to(model.device).float()\n",
    "            yh = model(x, adj.to(model.device))\n",
    "            loss = criterion(yh, y)\n",
    "    \n",
    "            # Backward and optimize\n",
    "            if training:\n",
    "                loss.backward()\n",
    "                optimizer.step()\n",
    "                \n",
    "                # blocking the gradient summation \n",
    "                optimizer.zero_grad()\n",
    "    \n",
    "    \n",
    "            loss_epoch += loss.item()\n",
    "    loss_epoch/=len(dataloader)\n",
    "\n",
    "    return loss_epoch\n",
    "\n",
    "\n",
    "def training(model, \n",
    "             train_loader, \n",
    "             val_loader, \n",
    "             num_epochs, \n",
    "             criterion,\n",
    "             optimizer):\n",
    "    loss_train = []\n",
    "    loss_val = []\n",
    "    be = np.inf\n",
    "    bm = model\n",
    "    \n",
    "    for epoch in tqdm(range(num_epochs)):\n",
    "            \n",
    "        # Calculate average loss for the epoch\n",
    "        loss = step(model = model, \n",
    "                         dataloader = train_loader, \n",
    "                         optimizer = optimizer, \n",
    "                         criterion = criterion,\n",
    "                         training = True)\n",
    "        \n",
    "        loss_train.append(loss)\n",
    "        \n",
    "        loss = step(model = model, \n",
    "                         dataloader = val_loader, \n",
    "                         optimizer = optimizer, \n",
    "                         criterion = criterion,\n",
    "                         training = False)\n",
    "        \n",
    "        loss_val.append(loss)\n",
    "        \n",
    "        if (loss_val[-1]<be) & (epoch/num_epochs>0.15):\n",
    "            be = loss_val[-1]\n",
    "            bm = model\n",
    "        if (epoch+1)%10 == 0:\n",
    "            print(f\"loss train epoch {epoch+1} == {loss_train[-1]}\")\n",
    "            print(f\"loss val epoch {epoch+1} == {loss_val[-1]}\")\n",
    "    return bm, loss_train, loss_val\n",
    "\n",
    "def training_not_aggregate(model, \n",
    "                           dl_train:dict, \n",
    "                           dl_val:dict, \n",
    "                           num_epochs:int, \n",
    "                           criterion,\n",
    "                           device,\n",
    "                           optimizer):\n",
    "    loss_train = []\n",
    "    loss_val = []\n",
    "    be = np.inf\n",
    "    bm = model\n",
    "    \n",
    "    for epoch in tqdm(range(num_epochs)):\n",
    "        loss_train.append(0)\n",
    "        loss_val.append(0)\n",
    "        \n",
    "        for key in dl_val.keys():   \n",
    "            # Calculate average loss for the epoch\n",
    "            loss = step(model = model, \n",
    "                        dataloader = dl_train[key], \n",
    "                        optimizer = optimizer, \n",
    "                        device = device,\n",
    "                        criterion = criterion,\n",
    "                        training = True)\n",
    "            \n",
    "            loss_train[-1]+= loss\n",
    "            \n",
    "            loss = step(model = model, \n",
    "                             dataloader = dl_val[key], \n",
    "                             optimizer = optimizer, \n",
    "                             device = device,\n",
    "                             criterion = criterion,\n",
    "                             training = False)\n",
    "            \n",
    "            loss_val[-1]+= loss\n",
    "            \n",
    "        loss_train[-1] = loss_train[-1]/len(dl_val.keys())\n",
    "        loss_val[-1] = loss_val[-1]/len(dl_val.keys())\n",
    "        if (loss_val[-1]<be) & (epoch/num_epochs>0.15):\n",
    "            be = loss_val[-1]\n",
    "            bm = model\n",
    "        if (epoch+1)%10 == 0:\n",
    "            print(f\"loss train epoch {epoch+1} == {loss_train[-1]}\")\n",
    "            print(f\"loss val epoch {epoch+1} == {loss_val[-1]}\")\n",
    "    return bm, loss_train, loss_val\n"
   ]
  },
  {
   "cell_type": "markdown",
   "id": "6722b30e-158b-4a42-913d-f56aafcebf5b",
   "metadata": {},
   "source": [
    "## Loss of the model\n",
    "As always, the model must perform well on average on all points. \n",
    "$$\n",
    "\\frac{1}{n|T|}\\sum_{i=1}^n\\sum_{j}^{|T|}\\left|f\\left(t_j,x_{i,t_j}\\right)-\\hat{f}\\left(t_j,x_{i,t_j}\\right)\\right|\n",
    "$$\n",
    "In addition, it is important that the model did not have, at worst, too high an error.\n",
    "$$\n",
    "\\left(\\int_X\\left(\\int_T|f(t,x)-\\hat{f}(t,x)|\\,dt\\right)^p\\,dx\\right)^{\\frac{1}{p}}\\to\\max_{x\\in X}\\int_T|f(t,x)-\\hat{f}(t,x)|\\,dt\n",
    "$$"
   ]
  },
  {
   "cell_type": "code",
   "execution_count": 6,
   "id": "de605738-eb49-43f1-aa22-5444ffa41700",
   "metadata": {},
   "outputs": [],
   "source": [
    "#device = torch.device(\"cpu\")\n",
    "device = torch.device(\"cuda\" if torch.cuda.is_available() else \"cpu\")\n",
    "\n",
    "model = GLSTM(in_feat = batch.float().shape[-1], \n",
    "              past = past_step,\n",
    "              future = future_step,\n",
    "              categorical = config['model']['categorical'],\n",
    "              embedding = config['model']['embedding'],\n",
    "              device = device).to(device)"
   ]
  },
  {
   "cell_type": "code",
   "execution_count": null,
   "id": "ac8ebd3f-905f-4f17-8a1f-ca2e30fb1300",
   "metadata": {},
   "outputs": [
    {
     "name": "stderr",
     "output_type": "stream",
     "text": [
      "  0%|                                                   | 0/100 [00:00<?, ?it/s]"
     ]
    }
   ],
   "source": [
    "device = torch.device(\"cuda\" if torch.cuda.is_available() else \"cpu\")\n",
    "def linfty(y, yh, alpha = 7e-5):\n",
    "    out = F.l1_loss(y,yh, reduction = \"mean\")\n",
    "    #out += alpha*torch.max(torch.sum(torch.abs(y-yh), (-2,-1)))\n",
    "    out += alpha*torch.max(torch.abs(y-yh))\n",
    "    return out\n",
    "optimizer = optim.Adam(model.parameters(), \n",
    "                       lr = 1e-4, \n",
    "                       weight_decay = 2e-4)\n",
    "model.to(device)\n",
    "model.device = device\n",
    "model, loss_training, loss_validation = training(model, \n",
    "                                             train_loader = dl_train, \n",
    "                                             val_loader = dl_val, \n",
    "                                             num_epochs = 100, \n",
    "                                             criterion = linfty,\n",
    "                                             optimizer = optimizer)\n",
    "torch.save(model.state_dict(), os.path.join(config['paths']['models'], \"GLSTM.pt\"))"
   ]
  },
  {
   "cell_type": "code",
   "execution_count": 8,
   "id": "42db3198-91b0-4565-8454-130e4914a7ee",
   "metadata": {},
   "outputs": [],
   "source": [
    "def plot(model, \n",
    "         config,\n",
    "         loss_training, \n",
    "         loss_validation, \n",
    "         name,\n",
    "         dl_train = dl_train,\n",
    "         dl_val = dl_val, \n",
    "         show = False):\n",
    "    fig = px.line({\"epochs\": range(1,len(loss_training)+1), \n",
    "                                   \"train\": loss_training, \n",
    "                                   \"validation\": loss_validation}, \n",
    "                                  x = \"epochs\", \n",
    "                                  y = [\"train\", \"validation\"], \n",
    "                                  title= f\"training loss for {name}\")\n",
    "    fig.add_vline(x = np.argsort(loss_validation)[0]+1)\n",
    "    fig.add_hline(y = np.min(loss_validation))\n",
    "    fig.write_html(os.path.join(config['paths']['fig'],'covid', f\"loss_gnn_{name}.html\"))\n",
    "    if show:\n",
    "        fig.show()\n",
    "    model = model.cpu()\n",
    "    model.device = torch.device('cpu')\n",
    "    if config['dataset']['aggregate']:\n",
    "        batch_train, y_train, adj_train = next(iter(dl_train))\n",
    "        batch_val, y_val, adj_val = next(iter(dl_val))\n",
    "        yh_train = model(batch_train.float().to(model.device), adj_train.to(model.device)).detach().numpy()\n",
    "        yh_val = model(batch_val.float().to(model.device), adj_val.to(model.device)).detach().numpy()\n",
    "    else:\n",
    "        yh_train = []\n",
    "        yh_val = []\n",
    "        y_train = []\n",
    "        y_val = []\n",
    "        for key in dl_train.keys():\n",
    "            batch_train, yt, adj_train = next(iter(dl_train[key]))\n",
    "            batch_val, yv, adj_val = next(iter(dl_val[key]))\n",
    "            yh_train.append(model(batch_train.float().to(model.device), adj_train.to(model.device)).cpu())\n",
    "            yh_val.append(model(batch_val.float().to(model.device), adj_val.to(model.device)).cpu())\n",
    "            y_train.append(yt)\n",
    "            y_val.append(yv)\n",
    "        \n",
    "        yh_train = torch.cat(yh_train, -2).transpose(-1,-2)\n",
    "        yh_val = torch.cat(yh_val, -2).transpose(-1,-2).detach().numpy()\n",
    "        y_train = torch.cat(y_train, -1).detach().numpy()\n",
    "        y_val = torch.cat(y_val, -1).detach().numpy()\n",
    "    fig, ax = plt.subplots(nrows = y.shape[1], \n",
    "                           ncols = 2, \n",
    "                           constrained_layout = True,\n",
    "                           figsize = (20,10))\n",
    "    \n",
    "    for day in range(y.shape[1]):\n",
    "        ax[day, 0].plot(yh_train[0,day], label = \"estimate\")\n",
    "        ax[day, 0].plot(y_train[0,day], label =\"real\")\n",
    "    \n",
    "        ax[day, 1].plot(yh_val[0,day], label = \"estimate\")\n",
    "        ax[day, 1].plot(y_val[0,day], label =\"real\")\n",
    "        ax[day, 0].legend()\n",
    "        ax[day, 1].legend()\n",
    "    \n",
    "        ax[day, 0].title.set_text(f\"day {day +1} train\")\n",
    "        ax[day, 1].title.set_text(f\"day {day +1} validation\")\n",
    "    fig.suptitle(' Comparison between estimation and reality ', fontsize=20) \n",
    "    \n",
    "    path = os.path.join(config['paths']['fig'],'covid', f\"{name}.png\")\n",
    "    plt.savefig(path)\n",
    "    if show:\n",
    "        plt.show()\n",
    "    plt.close(fig)\n"
   ]
  },
  {
   "cell_type": "code",
   "execution_count": 11,
   "id": "30c4f5d1-6c33-4266-9905-7587bccadfe3",
   "metadata": {},
   "outputs": [
    {
     "data": {
      "application/vnd.plotly.v1+json": {
       "config": {
        "plotlyServerURL": "https://plot.ly"
       },
       "data": [
        {
         "hovertemplate": "variable=train<br>epochs=%{x}<br>value=%{y}<extra></extra>",
         "legendgroup": "train",
         "line": {
          "color": "#636efa",
          "dash": "solid"
         },
         "marker": {
          "symbol": "circle"
         },
         "mode": "lines",
         "name": "train",
         "orientation": "v",
         "showlegend": true,
         "type": "scatter",
         "x": [
          1,
          2,
          3,
          4,
          5,
          6,
          7,
          8,
          9,
          10,
          11,
          12,
          13,
          14,
          15,
          16,
          17,
          18,
          19,
          20,
          21,
          22,
          23,
          24,
          25,
          26,
          27,
          28,
          29,
          30,
          31,
          32,
          33,
          34,
          35,
          36,
          37,
          38,
          39,
          40,
          41,
          42,
          43,
          44,
          45,
          46,
          47,
          48,
          49,
          50,
          51,
          52,
          53,
          54,
          55,
          56,
          57,
          58,
          59,
          60,
          61,
          62,
          63,
          64,
          65,
          66,
          67,
          68,
          69,
          70,
          71,
          72,
          73,
          74,
          75,
          76,
          77,
          78,
          79,
          80,
          81,
          82,
          83,
          84,
          85,
          86,
          87,
          88,
          89,
          90,
          91,
          92,
          93,
          94,
          95,
          96,
          97,
          98,
          99,
          100,
          101,
          102,
          103,
          104,
          105,
          106,
          107,
          108,
          109,
          110,
          111,
          112,
          113,
          114,
          115,
          116,
          117,
          118,
          119,
          120,
          121,
          122,
          123,
          124,
          125,
          126,
          127,
          128,
          129,
          130,
          131,
          132,
          133,
          134,
          135,
          136,
          137,
          138,
          139,
          140,
          141,
          142,
          143,
          144,
          145,
          146,
          147,
          148,
          149,
          150,
          151,
          152,
          153,
          154,
          155,
          156,
          157,
          158,
          159,
          160,
          161,
          162,
          163,
          164,
          165,
          166,
          167,
          168,
          169,
          170,
          171,
          172,
          173,
          174,
          175,
          176,
          177,
          178,
          179,
          180,
          181,
          182,
          183,
          184,
          185,
          186,
          187,
          188,
          189,
          190,
          191,
          192,
          193,
          194,
          195,
          196,
          197,
          198,
          199,
          200,
          201,
          202,
          203,
          204,
          205,
          206,
          207,
          208,
          209,
          210,
          211,
          212,
          213,
          214,
          215,
          216,
          217,
          218,
          219,
          220,
          221,
          222,
          223,
          224,
          225,
          226,
          227,
          228,
          229,
          230,
          231,
          232,
          233,
          234,
          235,
          236,
          237,
          238,
          239,
          240,
          241,
          242,
          243,
          244,
          245,
          246,
          247,
          248,
          249,
          250,
          251,
          252,
          253,
          254,
          255,
          256,
          257,
          258,
          259,
          260,
          261,
          262,
          263,
          264,
          265,
          266,
          267,
          268,
          269,
          270,
          271,
          272,
          273,
          274,
          275,
          276,
          277,
          278,
          279,
          280,
          281,
          282,
          283,
          284,
          285,
          286,
          287,
          288,
          289,
          290,
          291,
          292,
          293,
          294,
          295,
          296,
          297,
          298,
          299,
          300
         ],
         "xaxis": "x",
         "y": [
          216.6118049621582,
          221.87784957885742,
          219.06819025675455,
          219.87682469685873,
          218.35811614990234,
          220.16656621297201,
          220.10124969482422,
          214.48819986979166,
          215.9478302001953,
          217.40702946980795,
          214.0682716369629,
          214.00844955444336,
          217.25306701660156,
          209.8025042215983,
          211.15858713785806,
          206.54410934448242,
          209.77448654174805,
          209.80004501342773,
          207.86493301391602,
          205.8742561340332,
          208.32172966003418,
          205.58505884806314,
          207.3960749308268,
          206.6089630126953,
          204.28558095296225,
          207.4078598022461,
          204.55871200561523,
          207.52878189086914,
          204.631223042806,
          206.69516881306967,
          205.78179168701172,
          205.6559855143229,
          206.60119756062826,
          208.81702931722006,
          206.08210881551108,
          203.14053344726562,
          204.3576405843099,
          205.80847803751627,
          201.72328313191733,
          200.02848180135092,
          203.7585131327311,
          203.89324824015299,
          203.21281560262045,
          202.7600975036621,
          196.99697875976562,
          200.62813313802084,
          198.12333297729492,
          199.98599751790366,
          199.94056193033853,
          197.62838999430338,
          197.24321746826172,
          197.12079747517905,
          196.70303344726562,
          194.64101791381836,
          194.03220240275064,
          197.42342249552408,
          197.98676172892252,
          197.36762110392252,
          196.81826400756836,
          196.3980280558268,
          194.19535064697266,
          194.85736846923828,
          196.44359970092773,
          195.2791862487793,
          195.12562561035156,
          195.34421412150064,
          197.18356450398764,
          194.60842895507812,
          196.9348004659017,
          195.00077946980795,
          192.86600748697916,
          196.90506490071616,
          198.40742619832358,
          195.87981033325195,
          194.00009155273438,
          193.46479670206705,
          192.8599535624186,
          197.05059560139975,
          197.9082514444987,
          197.45261255900064,
          196.37444241841635,
          193.0969556172689,
          199.71037801106772,
          197.78049341837564,
          194.21950022379556,
          191.66411463419595,
          196.1463851928711,
          190.15987269083658,
          199.70689900716147,
          196.3067512512207,
          188.95095189412436,
          195.15194193522134,
          194.89244969685873,
          197.40704218546549,
          193.68172200520834,
          197.75625228881836,
          196.28287760416666,
          196.75018692016602,
          196.51615397135416,
          196.6539649963379,
          194.63068135579428,
          193.0437863667806,
          193.31589889526367,
          195.28158060709634,
          190.76365915934244,
          191.86083984375,
          196.40867233276367,
          195.39190546671549,
          190.92172495524088,
          192.30669148763022,
          196.00066502888998,
          196.93635495503744,
          193.92367362976074,
          195.92160924275717,
          193.78997675577799,
          192.2307160695394,
          193.29698435465494,
          195.71455319722494,
          193.14400482177734,
          190.80154101053873,
          192.94777806599936,
          190.36474227905273,
          196.03517786661783,
          195.5713996887207,
          193.78220876057944,
          191.71417427062988,
          190.71979014078775,
          196.4754638671875,
          193.77741241455078,
          192.10484313964844,
          192.6927833557129,
          193.66984113057455,
          192.6717643737793,
          193.12216567993164,
          194.0189094543457,
          194.71797053019205,
          192.94645818074545,
          194.6177215576172,
          191.98441950480142,
          192.48443476359049,
          193.16257031758627,
          191.1172243754069,
          195.9245630900065,
          194.95509592692056,
          191.78518040974936,
          195.75963973999023,
          195.05934778849283,
          191.4178326924642,
          192.2369817097982,
          191.95446077982584,
          194.2649294535319,
          193.4160919189453,
          194.48571268717447,
          193.21116002400717,
          191.95775349934897,
          189.8006820678711,
          188.98895772298178,
          192.44842402140299,
          186.71610387166342,
          192.0327116648356,
          197.08760706583658,
          193.63254674275717,
          189.0039494832357,
          194.03015518188477,
          190.84743372599283,
          192.5640722910563,
          190.2064692179362,
          190.29425684611002,
          190.18882497151694,
          192.78942998250326,
          194.11005783081055,
          191.5257136027018,
          195.2467829386393,
          194.34952545166016,
          194.88834381103516,
          192.5160280863444,
          191.24093627929688,
          195.60210545857748,
          192.6075553894043,
          193.9323412577311,
          190.07766977945963,
          194.58913803100586,
          195.51181411743164,
          191.15907923380533,
          192.8661117553711,
          191.50304158528647,
          191.97088177998862,
          191.66257095336914,
          186.28206253051758,
          192.3052546183268,
          194.08733367919922,
          191.9657440185547,
          193.1884396870931,
          192.10673141479492,
          190.24100240071616,
          191.19184112548828,
          192.48563385009766,
          192.10247929890951,
          191.51882807413736,
          190.74001820882162,
          190.55286916097006,
          189.8058681488037,
          190.98625946044922,
          191.4560972849528,
          191.4635912577311,
          192.42639032999674,
          191.4704246520996,
          195.8371696472168,
          193.11589940388998,
          192.7112782796224,
          194.30901718139648,
          190.41160456339517,
          192.76368776957193,
          191.88822301228842,
          189.9207820892334,
          191.2046095530192,
          192.18031311035156,
          190.50133641560873,
          190.4342918395996,
          192.74017206827799,
          188.50083033243814,
          187.68162409464517,
          195.3595987955729,
          193.5651397705078,
          188.26791636149088,
          191.6520881652832,
          191.82896614074707,
          190.86754099527994,
          188.68642552693686,
          191.8281478881836,
          190.15478134155273,
          189.69233067830405,
          191.62118275960287,
          190.4581502278646,
          189.2362798055013,
          190.6201082865397,
          191.9297981262207,
          192.0553347269694,
          191.50270334879556,
          189.59312693277994,
          191.4660504659017,
          185.54574712117514,
          189.71087773640951,
          191.60684076944986,
          191.70216115315756,
          193.22295888264975,
          192.50803756713867,
          189.23345820109049,
          191.41593424479166,
          190.4861806233724,
          189.7048110961914,
          186.48562622070312,
          193.90032958984375,
          187.6548868815104,
          190.1786880493164,
          192.67849095662436,
          189.12872823079428,
          194.31839879353842,
          189.69329071044922,
          193.23707580566406,
          190.34996032714844,
          191.1707878112793,
          187.74249140421549,
          189.44436264038086,
          189.85900370279947,
          183.81697273254395,
          189.27916208902994,
          190.94953155517578,
          190.93618138631186,
          191.11393229166666,
          190.84394709269205,
          194.72003173828125,
          190.46001180013022,
          190.47802098592123,
          189.40308380126953,
          190.79903666178384,
          190.02445856730142,
          190.76898447672525,
          188.68922805786133,
          190.31058629353842,
          190.0297622680664,
          191.01669692993164,
          194.93570454915366,
          188.4359334309896,
          190.5561408996582,
          186.55560302734375,
          188.0195109049479,
          191.43128967285156,
          187.36502838134766,
          188.58769989013672,
          191.84756088256836,
          188.0984090169271,
          187.09881210327148,
          187.05915323893228,
          188.27665519714355,
          187.52670860290527,
          189.8785285949707,
          192.96555709838867,
          189.20173772176108,
          190.50632349650064
         ],
         "yaxis": "y"
        },
        {
         "hovertemplate": "variable=validation<br>epochs=%{x}<br>value=%{y}<extra></extra>",
         "legendgroup": "validation",
         "line": {
          "color": "#EF553B",
          "dash": "solid"
         },
         "marker": {
          "symbol": "circle"
         },
         "mode": "lines",
         "name": "validation",
         "orientation": "v",
         "showlegend": true,
         "type": "scatter",
         "x": [
          1,
          2,
          3,
          4,
          5,
          6,
          7,
          8,
          9,
          10,
          11,
          12,
          13,
          14,
          15,
          16,
          17,
          18,
          19,
          20,
          21,
          22,
          23,
          24,
          25,
          26,
          27,
          28,
          29,
          30,
          31,
          32,
          33,
          34,
          35,
          36,
          37,
          38,
          39,
          40,
          41,
          42,
          43,
          44,
          45,
          46,
          47,
          48,
          49,
          50,
          51,
          52,
          53,
          54,
          55,
          56,
          57,
          58,
          59,
          60,
          61,
          62,
          63,
          64,
          65,
          66,
          67,
          68,
          69,
          70,
          71,
          72,
          73,
          74,
          75,
          76,
          77,
          78,
          79,
          80,
          81,
          82,
          83,
          84,
          85,
          86,
          87,
          88,
          89,
          90,
          91,
          92,
          93,
          94,
          95,
          96,
          97,
          98,
          99,
          100,
          101,
          102,
          103,
          104,
          105,
          106,
          107,
          108,
          109,
          110,
          111,
          112,
          113,
          114,
          115,
          116,
          117,
          118,
          119,
          120,
          121,
          122,
          123,
          124,
          125,
          126,
          127,
          128,
          129,
          130,
          131,
          132,
          133,
          134,
          135,
          136,
          137,
          138,
          139,
          140,
          141,
          142,
          143,
          144,
          145,
          146,
          147,
          148,
          149,
          150,
          151,
          152,
          153,
          154,
          155,
          156,
          157,
          158,
          159,
          160,
          161,
          162,
          163,
          164,
          165,
          166,
          167,
          168,
          169,
          170,
          171,
          172,
          173,
          174,
          175,
          176,
          177,
          178,
          179,
          180,
          181,
          182,
          183,
          184,
          185,
          186,
          187,
          188,
          189,
          190,
          191,
          192,
          193,
          194,
          195,
          196,
          197,
          198,
          199,
          200,
          201,
          202,
          203,
          204,
          205,
          206,
          207,
          208,
          209,
          210,
          211,
          212,
          213,
          214,
          215,
          216,
          217,
          218,
          219,
          220,
          221,
          222,
          223,
          224,
          225,
          226,
          227,
          228,
          229,
          230,
          231,
          232,
          233,
          234,
          235,
          236,
          237,
          238,
          239,
          240,
          241,
          242,
          243,
          244,
          245,
          246,
          247,
          248,
          249,
          250,
          251,
          252,
          253,
          254,
          255,
          256,
          257,
          258,
          259,
          260,
          261,
          262,
          263,
          264,
          265,
          266,
          267,
          268,
          269,
          270,
          271,
          272,
          273,
          274,
          275,
          276,
          277,
          278,
          279,
          280,
          281,
          282,
          283,
          284,
          285,
          286,
          287,
          288,
          289,
          290,
          291,
          292,
          293,
          294,
          295,
          296,
          297,
          298,
          299,
          300
         ],
         "xaxis": "x",
         "y": [
          240.7251091003418,
          243.96758270263672,
          240.665283203125,
          229.28550720214844,
          240.4308853149414,
          229.30086517333984,
          225.76288604736328,
          230.73464965820312,
          238.49974060058594,
          231.0974349975586,
          226.50521850585938,
          241.63793182373047,
          235.48546600341797,
          230.82964324951172,
          226.5558624267578,
          231.45451736450195,
          232.15050506591797,
          233.45877838134766,
          236.5376091003418,
          237.44198989868164,
          230.1745491027832,
          212.59626388549805,
          222.8464584350586,
          225.95756912231445,
          229.45813751220703,
          229.3858642578125,
          232.59424591064453,
          229.51569747924805,
          227.7215232849121,
          218.79841232299805,
          234.76018905639648,
          234.74827194213867,
          224.96598434448242,
          236.0066795349121,
          225.35365676879883,
          217.9242172241211,
          228.1003875732422,
          220.54215621948242,
          226.03976440429688,
          217.03826904296875,
          230.36883163452148,
          223.9844570159912,
          229.18138122558594,
          223.78997039794922,
          222.87229919433594,
          213.57653045654297,
          220.44517135620117,
          221.29207611083984,
          221.23382949829102,
          213.69686126708984,
          226.40059280395508,
          220.52786254882812,
          220.4255256652832,
          206.72945404052734,
          223.37946319580078,
          226.9657745361328,
          206.31642150878906,
          219.84450912475586,
          219.80853271484375,
          212.7771224975586,
          214.59602737426758,
          212.4390926361084,
          218.3018913269043,
          216.26031112670898,
          223.12086486816406,
          212.97595977783203,
          210.57880783081055,
          218.36813735961914,
          217.15336990356445,
          219.01061248779297,
          211.62531852722168,
          221.48444366455078,
          224.88147354125977,
          221.14263534545898,
          218.2152805328369,
          218.3297348022461,
          211.02165603637695,
          224.85803604125977,
          212.39516067504883,
          219.0059471130371,
          218.99512481689453,
          209.95659255981445,
          218.95964813232422,
          210.6198616027832,
          217.9048957824707,
          218.9698944091797,
          212.46977996826172,
          220.01700973510742,
          224.2865333557129,
          211.76490783691406,
          211.2671241760254,
          224.0882797241211,
          210.94904708862305,
          214.77374649047852,
          225.1610450744629,
          217.09030151367188,
          210.0551300048828,
          207.49629974365234,
          216.75146102905273,
          218.20229721069336,
          221.85009765625,
          221.36789321899414,
          223.46236038208008,
          217.9823760986328,
          217.96497344970703,
          217.84667205810547,
          210.73392868041992,
          224.7046661376953,
          220.74869537353516,
          223.02667617797852,
          215.75548553466797,
          223.57452774047852,
          216.83114624023438,
          217.4041404724121,
          219.49632263183594,
          220.27735900878906,
          223.9780502319336,
          215.6403694152832,
          210.26153564453125,
          216.82353591918945,
          222.49875259399414,
          215.16171264648438,
          206.50535202026367,
          215.12134170532227,
          216.90336227416992,
          216.73967361450195,
          223.5719985961914,
          210.07184600830078,
          220.22008895874023,
          202.7449073791504,
          209.9930648803711,
          216.50491333007812,
          223.32379531860352,
          222.13236618041992,
          216.6415252685547,
          221.9391326904297,
          209.19761657714844,
          214.8985595703125,
          209.4398956298828,
          211.73142433166504,
          211.66852188110352,
          223.01071548461914,
          216.72161102294922,
          218.2216682434082,
          219.91086196899414,
          223.0829849243164,
          219.63531494140625,
          216.29318237304688,
          214.5248565673828,
          208.42150115966797,
          216.19940567016602,
          202.67441177368164,
          221.49453735351562,
          216.09415435791016,
          215.01284408569336,
          221.63203811645508,
          216.00521087646484,
          223.03511810302734,
          219.32744598388672,
          219.2669677734375,
          215.9816780090332,
          208.87284469604492,
          221.65975952148438,
          222.53640747070312,
          214.2862892150879,
          215.9591178894043,
          202.04071426391602,
          215.57892990112305,
          221.5493049621582,
          216.02064895629883,
          221.21213912963867,
          208.58432006835938,
          208.79558944702148,
          218.78257369995117,
          221.2259407043457,
          208.60327529907227,
          212.57647323608398,
          207.11334609985352,
          221.2905387878418,
          215.65723419189453,
          215.55188751220703,
          217.45004653930664,
          212.0052604675293,
          215.5472068786621,
          218.84189987182617,
          213.3747787475586,
          214.42277145385742,
          208.4426727294922,
          222.17504119873047,
          221.05482864379883,
          215.74759674072266,
          213.63843154907227,
          204.85742568969727,
          218.37053298950195,
          208.8938446044922,
          215.0669288635254,
          222.26174545288086,
          206.90247344970703,
          210.2642707824707,
          208.05399322509766,
          216.00503540039062,
          220.4192008972168,
          215.1594352722168,
          215.23154830932617,
          220.98788452148438,
          216.71818923950195,
          211.42335510253906,
          206.83135223388672,
          211.15365982055664,
          217.96256637573242,
          215.14100646972656,
          204.38805389404297,
          206.21388244628906,
          214.92237854003906,
          216.77091598510742,
          213.59239196777344,
          222.10803604125977,
          210.81118774414062,
          215.67639541625977,
          220.00477600097656,
          210.32464599609375,
          218.18968963623047,
          220.1413803100586,
          220.0245704650879,
          213.30456161499023,
          220.27509689331055,
          214.47708129882812,
          214.7692642211914,
          217.81798553466797,
          221.15151596069336,
          207.81786727905273,
          213.84347534179688,
          207.87001419067383,
          214.54618453979492,
          214.79938125610352,
          219.71427536010742,
          217.62524032592773,
          212.8475456237793,
          217.5282440185547,
          219.62937927246094,
          203.64003372192383,
          210.33813858032227,
          203.27262115478516,
          219.66106414794922,
          213.99616241455078,
          217.60984802246094,
          213.72819137573242,
          217.35285568237305,
          203.61957550048828,
          220.80067825317383,
          214.2629051208496,
          206.1811294555664,
          208.67845916748047,
          203.39522552490234,
          219.21789169311523,
          219.87893295288086,
          203.12636947631836,
          203.25340270996094,
          217.18707275390625,
          220.53023529052734,
          219.49985885620117,
          208.37530899047852,
          219.73851013183594,
          213.52404022216797,
          221.01923370361328,
          217.0811004638672,
          216.59999084472656,
          213.82541275024414,
          212.35512161254883,
          218.79951095581055,
          213.78339004516602,
          205.9739227294922,
          220.0684585571289,
          220.06356811523438,
          213.28297424316406,
          211.7737808227539,
          212.49446487426758,
          211.68631744384766,
          218.79753494262695,
          213.33670043945312,
          211.53102111816406,
          205.86412811279297,
          218.4953155517578,
          212.7039451599121,
          214.03277587890625,
          205.77467727661133,
          205.46118545532227,
          212.85735702514648,
          219.25316619873047,
          212.62589263916016,
          211.82342910766602,
          205.26092529296875,
          219.65855026245117,
          198.5516014099121,
          212.09177017211914,
          206.19200897216797,
          218.87706756591797,
          215.45394897460938,
          215.55720901489258,
          217.36992263793945
         ],
         "yaxis": "y"
        }
       ],
       "layout": {
        "autosize": true,
        "legend": {
         "title": {
          "text": "variable"
         },
         "tracegroupgap": 0
        },
        "shapes": [
         {
          "type": "line",
          "x0": 294,
          "x1": 294,
          "xref": "x",
          "y0": 0,
          "y1": 1,
          "yref": "y domain"
         },
         {
          "type": "line",
          "x0": 0,
          "x1": 1,
          "xref": "x domain",
          "y0": 198.5516014099121,
          "y1": 198.5516014099121,
          "yref": "y"
         }
        ],
        "template": {
         "data": {
          "bar": [
           {
            "error_x": {
             "color": "#2a3f5f"
            },
            "error_y": {
             "color": "#2a3f5f"
            },
            "marker": {
             "line": {
              "color": "#E5ECF6",
              "width": 0.5
             },
             "pattern": {
              "fillmode": "overlay",
              "size": 10,
              "solidity": 0.2
             }
            },
            "type": "bar"
           }
          ],
          "barpolar": [
           {
            "marker": {
             "line": {
              "color": "#E5ECF6",
              "width": 0.5
             },
             "pattern": {
              "fillmode": "overlay",
              "size": 10,
              "solidity": 0.2
             }
            },
            "type": "barpolar"
           }
          ],
          "carpet": [
           {
            "aaxis": {
             "endlinecolor": "#2a3f5f",
             "gridcolor": "white",
             "linecolor": "white",
             "minorgridcolor": "white",
             "startlinecolor": "#2a3f5f"
            },
            "baxis": {
             "endlinecolor": "#2a3f5f",
             "gridcolor": "white",
             "linecolor": "white",
             "minorgridcolor": "white",
             "startlinecolor": "#2a3f5f"
            },
            "type": "carpet"
           }
          ],
          "choropleth": [
           {
            "colorbar": {
             "outlinewidth": 0,
             "ticks": ""
            },
            "type": "choropleth"
           }
          ],
          "contour": [
           {
            "colorbar": {
             "outlinewidth": 0,
             "ticks": ""
            },
            "colorscale": [
             [
              0,
              "#0d0887"
             ],
             [
              0.1111111111111111,
              "#46039f"
             ],
             [
              0.2222222222222222,
              "#7201a8"
             ],
             [
              0.3333333333333333,
              "#9c179e"
             ],
             [
              0.4444444444444444,
              "#bd3786"
             ],
             [
              0.5555555555555556,
              "#d8576b"
             ],
             [
              0.6666666666666666,
              "#ed7953"
             ],
             [
              0.7777777777777778,
              "#fb9f3a"
             ],
             [
              0.8888888888888888,
              "#fdca26"
             ],
             [
              1,
              "#f0f921"
             ]
            ],
            "type": "contour"
           }
          ],
          "contourcarpet": [
           {
            "colorbar": {
             "outlinewidth": 0,
             "ticks": ""
            },
            "type": "contourcarpet"
           }
          ],
          "heatmap": [
           {
            "colorbar": {
             "outlinewidth": 0,
             "ticks": ""
            },
            "colorscale": [
             [
              0,
              "#0d0887"
             ],
             [
              0.1111111111111111,
              "#46039f"
             ],
             [
              0.2222222222222222,
              "#7201a8"
             ],
             [
              0.3333333333333333,
              "#9c179e"
             ],
             [
              0.4444444444444444,
              "#bd3786"
             ],
             [
              0.5555555555555556,
              "#d8576b"
             ],
             [
              0.6666666666666666,
              "#ed7953"
             ],
             [
              0.7777777777777778,
              "#fb9f3a"
             ],
             [
              0.8888888888888888,
              "#fdca26"
             ],
             [
              1,
              "#f0f921"
             ]
            ],
            "type": "heatmap"
           }
          ],
          "heatmapgl": [
           {
            "colorbar": {
             "outlinewidth": 0,
             "ticks": ""
            },
            "colorscale": [
             [
              0,
              "#0d0887"
             ],
             [
              0.1111111111111111,
              "#46039f"
             ],
             [
              0.2222222222222222,
              "#7201a8"
             ],
             [
              0.3333333333333333,
              "#9c179e"
             ],
             [
              0.4444444444444444,
              "#bd3786"
             ],
             [
              0.5555555555555556,
              "#d8576b"
             ],
             [
              0.6666666666666666,
              "#ed7953"
             ],
             [
              0.7777777777777778,
              "#fb9f3a"
             ],
             [
              0.8888888888888888,
              "#fdca26"
             ],
             [
              1,
              "#f0f921"
             ]
            ],
            "type": "heatmapgl"
           }
          ],
          "histogram": [
           {
            "marker": {
             "pattern": {
              "fillmode": "overlay",
              "size": 10,
              "solidity": 0.2
             }
            },
            "type": "histogram"
           }
          ],
          "histogram2d": [
           {
            "colorbar": {
             "outlinewidth": 0,
             "ticks": ""
            },
            "colorscale": [
             [
              0,
              "#0d0887"
             ],
             [
              0.1111111111111111,
              "#46039f"
             ],
             [
              0.2222222222222222,
              "#7201a8"
             ],
             [
              0.3333333333333333,
              "#9c179e"
             ],
             [
              0.4444444444444444,
              "#bd3786"
             ],
             [
              0.5555555555555556,
              "#d8576b"
             ],
             [
              0.6666666666666666,
              "#ed7953"
             ],
             [
              0.7777777777777778,
              "#fb9f3a"
             ],
             [
              0.8888888888888888,
              "#fdca26"
             ],
             [
              1,
              "#f0f921"
             ]
            ],
            "type": "histogram2d"
           }
          ],
          "histogram2dcontour": [
           {
            "colorbar": {
             "outlinewidth": 0,
             "ticks": ""
            },
            "colorscale": [
             [
              0,
              "#0d0887"
             ],
             [
              0.1111111111111111,
              "#46039f"
             ],
             [
              0.2222222222222222,
              "#7201a8"
             ],
             [
              0.3333333333333333,
              "#9c179e"
             ],
             [
              0.4444444444444444,
              "#bd3786"
             ],
             [
              0.5555555555555556,
              "#d8576b"
             ],
             [
              0.6666666666666666,
              "#ed7953"
             ],
             [
              0.7777777777777778,
              "#fb9f3a"
             ],
             [
              0.8888888888888888,
              "#fdca26"
             ],
             [
              1,
              "#f0f921"
             ]
            ],
            "type": "histogram2dcontour"
           }
          ],
          "mesh3d": [
           {
            "colorbar": {
             "outlinewidth": 0,
             "ticks": ""
            },
            "type": "mesh3d"
           }
          ],
          "parcoords": [
           {
            "line": {
             "colorbar": {
              "outlinewidth": 0,
              "ticks": ""
             }
            },
            "type": "parcoords"
           }
          ],
          "pie": [
           {
            "automargin": true,
            "type": "pie"
           }
          ],
          "scatter": [
           {
            "fillpattern": {
             "fillmode": "overlay",
             "size": 10,
             "solidity": 0.2
            },
            "type": "scatter"
           }
          ],
          "scatter3d": [
           {
            "line": {
             "colorbar": {
              "outlinewidth": 0,
              "ticks": ""
             }
            },
            "marker": {
             "colorbar": {
              "outlinewidth": 0,
              "ticks": ""
             }
            },
            "type": "scatter3d"
           }
          ],
          "scattercarpet": [
           {
            "marker": {
             "colorbar": {
              "outlinewidth": 0,
              "ticks": ""
             }
            },
            "type": "scattercarpet"
           }
          ],
          "scattergeo": [
           {
            "marker": {
             "colorbar": {
              "outlinewidth": 0,
              "ticks": ""
             }
            },
            "type": "scattergeo"
           }
          ],
          "scattergl": [
           {
            "marker": {
             "colorbar": {
              "outlinewidth": 0,
              "ticks": ""
             }
            },
            "type": "scattergl"
           }
          ],
          "scattermapbox": [
           {
            "marker": {
             "colorbar": {
              "outlinewidth": 0,
              "ticks": ""
             }
            },
            "type": "scattermapbox"
           }
          ],
          "scatterpolar": [
           {
            "marker": {
             "colorbar": {
              "outlinewidth": 0,
              "ticks": ""
             }
            },
            "type": "scatterpolar"
           }
          ],
          "scatterpolargl": [
           {
            "marker": {
             "colorbar": {
              "outlinewidth": 0,
              "ticks": ""
             }
            },
            "type": "scatterpolargl"
           }
          ],
          "scatterternary": [
           {
            "marker": {
             "colorbar": {
              "outlinewidth": 0,
              "ticks": ""
             }
            },
            "type": "scatterternary"
           }
          ],
          "surface": [
           {
            "colorbar": {
             "outlinewidth": 0,
             "ticks": ""
            },
            "colorscale": [
             [
              0,
              "#0d0887"
             ],
             [
              0.1111111111111111,
              "#46039f"
             ],
             [
              0.2222222222222222,
              "#7201a8"
             ],
             [
              0.3333333333333333,
              "#9c179e"
             ],
             [
              0.4444444444444444,
              "#bd3786"
             ],
             [
              0.5555555555555556,
              "#d8576b"
             ],
             [
              0.6666666666666666,
              "#ed7953"
             ],
             [
              0.7777777777777778,
              "#fb9f3a"
             ],
             [
              0.8888888888888888,
              "#fdca26"
             ],
             [
              1,
              "#f0f921"
             ]
            ],
            "type": "surface"
           }
          ],
          "table": [
           {
            "cells": {
             "fill": {
              "color": "#EBF0F8"
             },
             "line": {
              "color": "white"
             }
            },
            "header": {
             "fill": {
              "color": "#C8D4E3"
             },
             "line": {
              "color": "white"
             }
            },
            "type": "table"
           }
          ]
         },
         "layout": {
          "annotationdefaults": {
           "arrowcolor": "#2a3f5f",
           "arrowhead": 0,
           "arrowwidth": 1
          },
          "autotypenumbers": "strict",
          "coloraxis": {
           "colorbar": {
            "outlinewidth": 0,
            "ticks": ""
           }
          },
          "colorscale": {
           "diverging": [
            [
             0,
             "#8e0152"
            ],
            [
             0.1,
             "#c51b7d"
            ],
            [
             0.2,
             "#de77ae"
            ],
            [
             0.3,
             "#f1b6da"
            ],
            [
             0.4,
             "#fde0ef"
            ],
            [
             0.5,
             "#f7f7f7"
            ],
            [
             0.6,
             "#e6f5d0"
            ],
            [
             0.7,
             "#b8e186"
            ],
            [
             0.8,
             "#7fbc41"
            ],
            [
             0.9,
             "#4d9221"
            ],
            [
             1,
             "#276419"
            ]
           ],
           "sequential": [
            [
             0,
             "#0d0887"
            ],
            [
             0.1111111111111111,
             "#46039f"
            ],
            [
             0.2222222222222222,
             "#7201a8"
            ],
            [
             0.3333333333333333,
             "#9c179e"
            ],
            [
             0.4444444444444444,
             "#bd3786"
            ],
            [
             0.5555555555555556,
             "#d8576b"
            ],
            [
             0.6666666666666666,
             "#ed7953"
            ],
            [
             0.7777777777777778,
             "#fb9f3a"
            ],
            [
             0.8888888888888888,
             "#fdca26"
            ],
            [
             1,
             "#f0f921"
            ]
           ],
           "sequentialminus": [
            [
             0,
             "#0d0887"
            ],
            [
             0.1111111111111111,
             "#46039f"
            ],
            [
             0.2222222222222222,
             "#7201a8"
            ],
            [
             0.3333333333333333,
             "#9c179e"
            ],
            [
             0.4444444444444444,
             "#bd3786"
            ],
            [
             0.5555555555555556,
             "#d8576b"
            ],
            [
             0.6666666666666666,
             "#ed7953"
            ],
            [
             0.7777777777777778,
             "#fb9f3a"
            ],
            [
             0.8888888888888888,
             "#fdca26"
            ],
            [
             1,
             "#f0f921"
            ]
           ]
          },
          "colorway": [
           "#636efa",
           "#EF553B",
           "#00cc96",
           "#ab63fa",
           "#FFA15A",
           "#19d3f3",
           "#FF6692",
           "#B6E880",
           "#FF97FF",
           "#FECB52"
          ],
          "font": {
           "color": "#2a3f5f"
          },
          "geo": {
           "bgcolor": "white",
           "lakecolor": "white",
           "landcolor": "#E5ECF6",
           "showlakes": true,
           "showland": true,
           "subunitcolor": "white"
          },
          "hoverlabel": {
           "align": "left"
          },
          "hovermode": "closest",
          "mapbox": {
           "style": "light"
          },
          "paper_bgcolor": "white",
          "plot_bgcolor": "#E5ECF6",
          "polar": {
           "angularaxis": {
            "gridcolor": "white",
            "linecolor": "white",
            "ticks": ""
           },
           "bgcolor": "#E5ECF6",
           "radialaxis": {
            "gridcolor": "white",
            "linecolor": "white",
            "ticks": ""
           }
          },
          "scene": {
           "xaxis": {
            "backgroundcolor": "#E5ECF6",
            "gridcolor": "white",
            "gridwidth": 2,
            "linecolor": "white",
            "showbackground": true,
            "ticks": "",
            "zerolinecolor": "white"
           },
           "yaxis": {
            "backgroundcolor": "#E5ECF6",
            "gridcolor": "white",
            "gridwidth": 2,
            "linecolor": "white",
            "showbackground": true,
            "ticks": "",
            "zerolinecolor": "white"
           },
           "zaxis": {
            "backgroundcolor": "#E5ECF6",
            "gridcolor": "white",
            "gridwidth": 2,
            "linecolor": "white",
            "showbackground": true,
            "ticks": "",
            "zerolinecolor": "white"
           }
          },
          "shapedefaults": {
           "line": {
            "color": "#2a3f5f"
           }
          },
          "ternary": {
           "aaxis": {
            "gridcolor": "white",
            "linecolor": "white",
            "ticks": ""
           },
           "baxis": {
            "gridcolor": "white",
            "linecolor": "white",
            "ticks": ""
           },
           "bgcolor": "#E5ECF6",
           "caxis": {
            "gridcolor": "white",
            "linecolor": "white",
            "ticks": ""
           }
          },
          "title": {
           "x": 0.05
          },
          "xaxis": {
           "automargin": true,
           "gridcolor": "white",
           "linecolor": "white",
           "ticks": "",
           "title": {
            "standoff": 15
           },
           "zerolinecolor": "white",
           "zerolinewidth": 2
          },
          "yaxis": {
           "automargin": true,
           "gridcolor": "white",
           "linecolor": "white",
           "ticks": "",
           "title": {
            "standoff": 15
           },
           "zerolinecolor": "white",
           "zerolinewidth": 2
          }
         }
        },
        "title": {
         "text": "training loss for GLSTM2"
        },
        "xaxis": {
         "anchor": "y",
         "autorange": true,
         "domain": [
          0,
          1
         ],
         "range": [
          1,
          300
         ],
         "title": {
          "text": "epochs"
         },
         "type": "linear"
        },
        "yaxis": {
         "anchor": "x",
         "autorange": true,
         "domain": [
          0,
          1
         ],
         "range": [
          180.4752721786499,
          247.30928325653076
         ],
         "title": {
          "text": "value"
         },
         "type": "linear"
        }
       }
      },
      "image/png": "[encoded data removed]",
      "text/html": [
       "<div>                            <div id=\"575fb6cf-fa91-450e-a220-51ace1a8dc8a\" class=\"plotly-graph-div\" style=\"height:525px; width:100%;\"></div>            <script type=\"text/javascript\">                require([\"plotly\"], function(Plotly) {                    window.PLOTLYENV=window.PLOTLYENV || {};                                    if (document.getElementById(\"575fb6cf-fa91-450e-a220-51ace1a8dc8a\")) {                    Plotly.newPlot(                        \"575fb6cf-fa91-450e-a220-51ace1a8dc8a\",                        [{\"hovertemplate\":\"variable=train\\u003cbr\\u003eepochs=%{x}\\u003cbr\\u003evalue=%{y}\\u003cextra\\u003e\\u003c\\u002fextra\\u003e\",\"legendgroup\":\"train\",\"line\":{\"color\":\"#636efa\",\"dash\":\"solid\"},\"marker\":{\"symbol\":\"circle\"},\"mode\":\"lines\",\"name\":\"train\",\"orientation\":\"v\",\"showlegend\":true,\"x\":[1,2,3,4,5,6,7,8,9,10,11,12,13,14,15,16,17,18,19,20,21,22,23,24,25,26,27,28,29,30,31,32,33,34,35,36,37,38,39,40,41,42,43,44,45,46,47,48,49,50,51,52,53,54,55,56,57,58,59,60,61,62,63,64,65,66,67,68,69,70,71,72,73,74,75,76,77,78,79,80,81,82,83,84,85,86,87,88,89,90,91,92,93,94,95,96,97,98,99,100,101,102,103,104,105,106,107,108,109,110,111,112,113,114,115,116,117,118,119,120,121,122,123,124,125,126,127,128,129,130,131,132,133,134,135,136,137,138,139,140,141,142,143,144,145,146,147,148,149,150,151,152,153,154,155,156,157,158,159,160,161,162,163,164,165,166,167,168,169,170,171,172,173,174,175,176,177,178,179,180,181,182,183,184,185,186,187,188,189,190,191,192,193,194,195,196,197,198,199,200,201,202,203,204,205,206,207,208,209,210,211,212,213,214,215,216,217,218,219,220,221,222,223,224,225,226,227,228,229,230,231,232,233,234,235,236,237,238,239,240,241,242,243,244,245,246,247,248,249,250,251,252,253,254,255,256,257,258,259,260,261,262,263,264,265,266,267,268,269,270,271,272,273,274,275,276,277,278,279,280,281,282,283,284,285,286,287,288,289,290,291,292,293,294,295,296,297,298,299,300],\"xaxis\":\"x\",\"y\":[216.6118049621582,221.87784957885742,219.06819025675455,219.87682469685873,218.35811614990234,220.16656621297201,220.10124969482422,214.48819986979166,215.9478302001953,217.40702946980795,214.0682716369629,214.00844955444336,217.25306701660156,209.8025042215983,211.15858713785806,206.54410934448242,209.77448654174805,209.80004501342773,207.86493301391602,205.8742561340332,208.32172966003418,205.58505884806314,207.3960749308268,206.6089630126953,204.28558095296225,207.4078598022461,204.55871200561523,207.52878189086914,204.631223042806,206.69516881306967,205.78179168701172,205.6559855143229,206.60119756062826,208.81702931722006,206.08210881551108,203.14053344726562,204.3576405843099,205.80847803751627,201.72328313191733,200.02848180135092,203.7585131327311,203.89324824015299,203.21281560262045,202.7600975036621,196.99697875976562,200.62813313802084,198.12333297729492,199.98599751790366,199.94056193033853,197.62838999430338,197.24321746826172,197.12079747517905,196.70303344726562,194.64101791381836,194.03220240275064,197.42342249552408,197.98676172892252,197.36762110392252,196.81826400756836,196.3980280558268,194.19535064697266,194.85736846923828,196.44359970092773,195.2791862487793,195.12562561035156,195.34421412150064,197.18356450398764,194.60842895507812,196.9348004659017,195.00077946980795,192.86600748697916,196.90506490071616,198.40742619832358,195.87981033325195,194.00009155273438,193.46479670206705,192.8599535624186,197.05059560139975,197.9082514444987,197.45261255900064,196.37444241841635,193.0969556172689,199.71037801106772,197.78049341837564,194.21950022379556,191.66411463419595,196.1463851928711,190.15987269083658,199.70689900716147,196.3067512512207,188.95095189412436,195.15194193522134,194.89244969685873,197.40704218546549,193.68172200520834,197.75625228881836,196.28287760416666,196.75018692016602,196.51615397135416,196.6539649963379,194.63068135579428,193.0437863667806,193.31589889526367,195.28158060709634,190.76365915934244,191.86083984375,196.40867233276367,195.39190546671549,190.92172495524088,192.30669148763022,196.00066502888998,196.93635495503744,193.92367362976074,195.92160924275717,193.78997675577799,192.2307160695394,193.29698435465494,195.71455319722494,193.14400482177734,190.80154101053873,192.94777806599936,190.36474227905273,196.03517786661783,195.5713996887207,193.78220876057944,191.71417427062988,190.71979014078775,196.4754638671875,193.77741241455078,192.10484313964844,192.6927833557129,193.66984113057455,192.6717643737793,193.12216567993164,194.0189094543457,194.71797053019205,192.94645818074545,194.6177215576172,191.98441950480142,192.48443476359049,193.16257031758627,191.1172243754069,195.9245630900065,194.95509592692056,191.78518040974936,195.75963973999023,195.05934778849283,191.4178326924642,192.2369817097982,191.95446077982584,194.2649294535319,193.4160919189453,194.48571268717447,193.21116002400717,191.95775349934897,189.8006820678711,188.98895772298178,192.44842402140299,186.71610387166342,192.0327116648356,197.08760706583658,193.63254674275717,189.0039494832357,194.03015518188477,190.84743372599283,192.5640722910563,190.2064692179362,190.29425684611002,190.18882497151694,192.78942998250326,194.11005783081055,191.5257136027018,195.2467829386393,194.34952545166016,194.88834381103516,192.5160280863444,191.24093627929688,195.60210545857748,192.6075553894043,193.9323412577311,190.07766977945963,194.58913803100586,195.51181411743164,191.15907923380533,192.8661117553711,191.50304158528647,191.97088177998862,191.66257095336914,186.28206253051758,192.3052546183268,194.08733367919922,191.9657440185547,193.1884396870931,192.10673141479492,190.24100240071616,191.19184112548828,192.48563385009766,192.10247929890951,191.51882807413736,190.74001820882162,190.55286916097006,189.8058681488037,190.98625946044922,191.4560972849528,191.4635912577311,192.42639032999674,191.4704246520996,195.8371696472168,193.11589940388998,192.7112782796224,194.30901718139648,190.41160456339517,192.76368776957193,191.88822301228842,189.9207820892334,191.2046095530192,192.18031311035156,190.50133641560873,190.4342918395996,192.74017206827799,188.50083033243814,187.68162409464517,195.3595987955729,193.5651397705078,188.26791636149088,191.6520881652832,191.82896614074707,190.86754099527994,188.68642552693686,191.8281478881836,190.15478134155273,189.69233067830405,191.62118275960287,190.4581502278646,189.2362798055013,190.6201082865397,191.9297981262207,192.0553347269694,191.50270334879556,189.59312693277994,191.4660504659017,185.54574712117514,189.71087773640951,191.60684076944986,191.70216115315756,193.22295888264975,192.50803756713867,189.23345820109049,191.41593424479166,190.4861806233724,189.7048110961914,186.48562622070312,193.90032958984375,187.6548868815104,190.1786880493164,192.67849095662436,189.12872823079428,194.31839879353842,189.69329071044922,193.23707580566406,190.34996032714844,191.1707878112793,187.74249140421549,189.44436264038086,189.85900370279947,183.81697273254395,189.27916208902994,190.94953155517578,190.93618138631186,191.11393229166666,190.84394709269205,194.72003173828125,190.46001180013022,190.47802098592123,189.40308380126953,190.79903666178384,190.02445856730142,190.76898447672525,188.68922805786133,190.31058629353842,190.0297622680664,191.01669692993164,194.93570454915366,188.4359334309896,190.5561408996582,186.55560302734375,188.0195109049479,191.43128967285156,187.36502838134766,188.58769989013672,191.84756088256836,188.0984090169271,187.09881210327148,187.05915323893228,188.27665519714355,187.52670860290527,189.8785285949707,192.96555709838867,189.20173772176108,190.50632349650064],\"yaxis\":\"y\",\"type\":\"scatter\"},{\"hovertemplate\":\"variable=validation\\u003cbr\\u003eepochs=%{x}\\u003cbr\\u003evalue=%{y}\\u003cextra\\u003e\\u003c\\u002fextra\\u003e\",\"legendgroup\":\"validation\",\"line\":{\"color\":\"#EF553B\",\"dash\":\"solid\"},\"marker\":{\"symbol\":\"circle\"},\"mode\":\"lines\",\"name\":\"validation\",\"orientation\":\"v\",\"showlegend\":true,\"x\":[1,2,3,4,5,6,7,8,9,10,11,12,13,14,15,16,17,18,19,20,21,22,23,24,25,26,27,28,29,30,31,32,33,34,35,36,37,38,39,40,41,42,43,44,45,46,47,48,49,50,51,52,53,54,55,56,57,58,59,60,61,62,63,64,65,66,67,68,69,70,71,72,73,74,75,76,77,78,79,80,81,82,83,84,85,86,87,88,89,90,91,92,93,94,95,96,97,98,99,100,101,102,103,104,105,106,107,108,109,110,111,112,113,114,115,116,117,118,119,120,121,122,123,124,125,126,127,128,129,130,131,132,133,134,135,136,137,138,139,140,141,142,143,144,145,146,147,148,149,150,151,152,153,154,155,156,157,158,159,160,161,162,163,164,165,166,167,168,169,170,171,172,173,174,175,176,177,178,179,180,181,182,183,184,185,186,187,188,189,190,191,192,193,194,195,196,197,198,199,200,201,202,203,204,205,206,207,208,209,210,211,212,213,214,215,216,217,218,219,220,221,222,223,224,225,226,227,228,229,230,231,232,233,234,235,236,237,238,239,240,241,242,243,244,245,246,247,248,249,250,251,252,253,254,255,256,257,258,259,260,261,262,263,264,265,266,267,268,269,270,271,272,273,274,275,276,277,278,279,280,281,282,283,284,285,286,287,288,289,290,291,292,293,294,295,296,297,298,299,300],\"xaxis\":\"x\",\"y\":[240.7251091003418,243.96758270263672,240.665283203125,229.28550720214844,240.4308853149414,229.30086517333984,225.76288604736328,230.73464965820312,238.49974060058594,231.0974349975586,226.50521850585938,241.63793182373047,235.48546600341797,230.82964324951172,226.5558624267578,231.45451736450195,232.15050506591797,233.45877838134766,236.5376091003418,237.44198989868164,230.1745491027832,212.59626388549805,222.8464584350586,225.95756912231445,229.45813751220703,229.3858642578125,232.59424591064453,229.51569747924805,227.7215232849121,218.79841232299805,234.76018905639648,234.74827194213867,224.96598434448242,236.0066795349121,225.35365676879883,217.9242172241211,228.1003875732422,220.54215621948242,226.03976440429688,217.03826904296875,230.36883163452148,223.9844570159912,229.18138122558594,223.78997039794922,222.87229919433594,213.57653045654297,220.44517135620117,221.29207611083984,221.23382949829102,213.69686126708984,226.40059280395508,220.52786254882812,220.4255256652832,206.72945404052734,223.37946319580078,226.9657745361328,206.31642150878906,219.84450912475586,219.80853271484375,212.7771224975586,214.59602737426758,212.4390926361084,218.3018913269043,216.26031112670898,223.12086486816406,212.97595977783203,210.57880783081055,218.36813735961914,217.15336990356445,219.01061248779297,211.62531852722168,221.48444366455078,224.88147354125977,221.14263534545898,218.2152805328369,218.3297348022461,211.02165603637695,224.85803604125977,212.39516067504883,219.0059471130371,218.99512481689453,209.95659255981445,218.95964813232422,210.6198616027832,217.9048957824707,218.9698944091797,212.46977996826172,220.01700973510742,224.2865333557129,211.76490783691406,211.2671241760254,224.0882797241211,210.94904708862305,214.77374649047852,225.1610450744629,217.09030151367188,210.0551300048828,207.49629974365234,216.75146102905273,218.20229721069336,221.85009765625,221.36789321899414,223.46236038208008,217.9823760986328,217.96497344970703,217.84667205810547,210.73392868041992,224.7046661376953,220.74869537353516,223.02667617797852,215.75548553466797,223.57452774047852,216.83114624023438,217.4041404724121,219.49632263183594,220.27735900878906,223.9780502319336,215.6403694152832,210.26153564453125,216.82353591918945,222.49875259399414,215.16171264648438,206.50535202026367,215.12134170532227,216.90336227416992,216.73967361450195,223.5719985961914,210.07184600830078,220.22008895874023,202.7449073791504,209.9930648803711,216.50491333007812,223.32379531860352,222.13236618041992,216.6415252685547,221.9391326904297,209.19761657714844,214.8985595703125,209.4398956298828,211.73142433166504,211.66852188110352,223.01071548461914,216.72161102294922,218.2216682434082,219.91086196899414,223.0829849243164,219.63531494140625,216.29318237304688,214.5248565673828,208.42150115966797,216.19940567016602,202.67441177368164,221.49453735351562,216.09415435791016,215.01284408569336,221.63203811645508,216.00521087646484,223.03511810302734,219.32744598388672,219.2669677734375,215.9816780090332,208.87284469604492,221.65975952148438,222.53640747070312,214.2862892150879,215.9591178894043,202.04071426391602,215.57892990112305,221.5493049621582,216.02064895629883,221.21213912963867,208.58432006835938,208.79558944702148,218.78257369995117,221.2259407043457,208.60327529907227,212.57647323608398,207.11334609985352,221.2905387878418,215.65723419189453,215.55188751220703,217.45004653930664,212.0052604675293,215.5472068786621,218.84189987182617,213.3747787475586,214.42277145385742,208.4426727294922,222.17504119873047,221.05482864379883,215.74759674072266,213.63843154907227,204.85742568969727,218.37053298950195,208.8938446044922,215.0669288635254,222.26174545288086,206.90247344970703,210.2642707824707,208.05399322509766,216.00503540039062,220.4192008972168,215.1594352722168,215.23154830932617,220.98788452148438,216.71818923950195,211.42335510253906,206.83135223388672,211.15365982055664,217.96256637573242,215.14100646972656,204.38805389404297,206.21388244628906,214.92237854003906,216.77091598510742,213.59239196777344,222.10803604125977,210.81118774414062,215.67639541625977,220.00477600097656,210.32464599609375,218.18968963623047,220.1413803100586,220.0245704650879,213.30456161499023,220.27509689331055,214.47708129882812,214.7692642211914,217.81798553466797,221.15151596069336,207.81786727905273,213.84347534179688,207.87001419067383,214.54618453979492,214.79938125610352,219.71427536010742,217.62524032592773,212.8475456237793,217.5282440185547,219.62937927246094,203.64003372192383,210.33813858032227,203.27262115478516,219.66106414794922,213.99616241455078,217.60984802246094,213.72819137573242,217.35285568237305,203.61957550048828,220.80067825317383,214.2629051208496,206.1811294555664,208.67845916748047,203.39522552490234,219.21789169311523,219.87893295288086,203.12636947631836,203.25340270996094,217.18707275390625,220.53023529052734,219.49985885620117,208.37530899047852,219.73851013183594,213.52404022216797,221.01923370361328,217.0811004638672,216.59999084472656,213.82541275024414,212.35512161254883,218.79951095581055,213.78339004516602,205.9739227294922,220.0684585571289,220.06356811523438,213.28297424316406,211.7737808227539,212.49446487426758,211.68631744384766,218.79753494262695,213.33670043945312,211.53102111816406,205.86412811279297,218.4953155517578,212.7039451599121,214.03277587890625,205.77467727661133,205.46118545532227,212.85735702514648,219.25316619873047,212.62589263916016,211.82342910766602,205.26092529296875,219.65855026245117,198.5516014099121,212.09177017211914,206.19200897216797,218.87706756591797,215.45394897460938,215.55720901489258,217.36992263793945],\"yaxis\":\"y\",\"type\":\"scatter\"}],                        {\"template\":{\"data\":{\"histogram2dcontour\":[{\"type\":\"histogram2dcontour\",\"colorbar\":{\"outlinewidth\":0,\"ticks\":\"\"},\"colorscale\":[[0.0,\"#0d0887\"],[0.1111111111111111,\"#46039f\"],[0.2222222222222222,\"#7201a8\"],[0.3333333333333333,\"#9c179e\"],[0.4444444444444444,\"#bd3786\"],[0.5555555555555556,\"#d8576b\"],[0.6666666666666666,\"#ed7953\"],[0.7777777777777778,\"#fb9f3a\"],[0.8888888888888888,\"#fdca26\"],[1.0,\"#f0f921\"]]}],\"choropleth\":[{\"type\":\"choropleth\",\"colorbar\":{\"outlinewidth\":0,\"ticks\":\"\"}}],\"histogram2d\":[{\"type\":\"histogram2d\",\"colorbar\":{\"outlinewidth\":0,\"ticks\":\"\"},\"colorscale\":[[0.0,\"#0d0887\"],[0.1111111111111111,\"#46039f\"],[0.2222222222222222,\"#7201a8\"],[0.3333333333333333,\"#9c179e\"],[0.4444444444444444,\"#bd3786\"],[0.5555555555555556,\"#d8576b\"],[0.6666666666666666,\"#ed7953\"],[0.7777777777777778,\"#fb9f3a\"],[0.8888888888888888,\"#fdca26\"],[1.0,\"#f0f921\"]]}],\"heatmap\":[{\"type\":\"heatmap\",\"colorbar\":{\"outlinewidth\":0,\"ticks\":\"\"},\"colorscale\":[[0.0,\"#0d0887\"],[0.1111111111111111,\"#46039f\"],[0.2222222222222222,\"#7201a8\"],[0.3333333333333333,\"#9c179e\"],[0.4444444444444444,\"#bd3786\"],[0.5555555555555556,\"#d8576b\"],[0.6666666666666666,\"#ed7953\"],[0.7777777777777778,\"#fb9f3a\"],[0.8888888888888888,\"#fdca26\"],[1.0,\"#f0f921\"]]}],\"heatmapgl\":[{\"type\":\"heatmapgl\",\"colorbar\":{\"outlinewidth\":0,\"ticks\":\"\"},\"colorscale\":[[0.0,\"#0d0887\"],[0.1111111111111111,\"#46039f\"],[0.2222222222222222,\"#7201a8\"],[0.3333333333333333,\"#9c179e\"],[0.4444444444444444,\"#bd3786\"],[0.5555555555555556,\"#d8576b\"],[0.6666666666666666,\"#ed7953\"],[0.7777777777777778,\"#fb9f3a\"],[0.8888888888888888,\"#fdca26\"],[1.0,\"#f0f921\"]]}],\"contourcarpet\":[{\"type\":\"contourcarpet\",\"colorbar\":{\"outlinewidth\":0,\"ticks\":\"\"}}],\"contour\":[{\"type\":\"contour\",\"colorbar\":{\"outlinewidth\":0,\"ticks\":\"\"},\"colorscale\":[[0.0,\"#0d0887\"],[0.1111111111111111,\"#46039f\"],[0.2222222222222222,\"#7201a8\"],[0.3333333333333333,\"#9c179e\"],[0.4444444444444444,\"#bd3786\"],[0.5555555555555556,\"#d8576b\"],[0.6666666666666666,\"#ed7953\"],[0.7777777777777778,\"#fb9f3a\"],[0.8888888888888888,\"#fdca26\"],[1.0,\"#f0f921\"]]}],\"surface\":[{\"type\":\"surface\",\"colorbar\":{\"outlinewidth\":0,\"ticks\":\"\"},\"colorscale\":[[0.0,\"#0d0887\"],[0.1111111111111111,\"#46039f\"],[0.2222222222222222,\"#7201a8\"],[0.3333333333333333,\"#9c179e\"],[0.4444444444444444,\"#bd3786\"],[0.5555555555555556,\"#d8576b\"],[0.6666666666666666,\"#ed7953\"],[0.7777777777777778,\"#fb9f3a\"],[0.8888888888888888,\"#fdca26\"],[1.0,\"#f0f921\"]]}],\"mesh3d\":[{\"type\":\"mesh3d\",\"colorbar\":{\"outlinewidth\":0,\"ticks\":\"\"}}],\"scatter\":[{\"fillpattern\":{\"fillmode\":\"overlay\",\"size\":10,\"solidity\":0.2},\"type\":\"scatter\"}],\"parcoords\":[{\"type\":\"parcoords\",\"line\":{\"colorbar\":{\"outlinewidth\":0,\"ticks\":\"\"}}}],\"scatterpolargl\":[{\"type\":\"scatterpolargl\",\"marker\":{\"colorbar\":{\"outlinewidth\":0,\"ticks\":\"\"}}}],\"bar\":[{\"error_x\":{\"color\":\"#2a3f5f\"},\"error_y\":{\"color\":\"#2a3f5f\"},\"marker\":{\"line\":{\"color\":\"#E5ECF6\",\"width\":0.5},\"pattern\":{\"fillmode\":\"overlay\",\"size\":10,\"solidity\":0.2}},\"type\":\"bar\"}],\"scattergeo\":[{\"type\":\"scattergeo\",\"marker\":{\"colorbar\":{\"outlinewidth\":0,\"ticks\":\"\"}}}],\"scatterpolar\":[{\"type\":\"scatterpolar\",\"marker\":{\"colorbar\":{\"outlinewidth\":0,\"ticks\":\"\"}}}],\"histogram\":[{\"marker\":{\"pattern\":{\"fillmode\":\"overlay\",\"size\":10,\"solidity\":0.2}},\"type\":\"histogram\"}],\"scattergl\":[{\"type\":\"scattergl\",\"marker\":{\"colorbar\":{\"outlinewidth\":0,\"ticks\":\"\"}}}],\"scatter3d\":[{\"type\":\"scatter3d\",\"line\":{\"colorbar\":{\"outlinewidth\":0,\"ticks\":\"\"}},\"marker\":{\"colorbar\":{\"outlinewidth\":0,\"ticks\":\"\"}}}],\"scattermapbox\":[{\"type\":\"scattermapbox\",\"marker\":{\"colorbar\":{\"outlinewidth\":0,\"ticks\":\"\"}}}],\"scatterternary\":[{\"type\":\"scatterternary\",\"marker\":{\"colorbar\":{\"outlinewidth\":0,\"ticks\":\"\"}}}],\"scattercarpet\":[{\"type\":\"scattercarpet\",\"marker\":{\"colorbar\":{\"outlinewidth\":0,\"ticks\":\"\"}}}],\"carpet\":[{\"aaxis\":{\"endlinecolor\":\"#2a3f5f\",\"gridcolor\":\"white\",\"linecolor\":\"white\",\"minorgridcolor\":\"white\",\"startlinecolor\":\"#2a3f5f\"},\"baxis\":{\"endlinecolor\":\"#2a3f5f\",\"gridcolor\":\"white\",\"linecolor\":\"white\",\"minorgridcolor\":\"white\",\"startlinecolor\":\"#2a3f5f\"},\"type\":\"carpet\"}],\"table\":[{\"cells\":{\"fill\":{\"color\":\"#EBF0F8\"},\"line\":{\"color\":\"white\"}},\"header\":{\"fill\":{\"color\":\"#C8D4E3\"},\"line\":{\"color\":\"white\"}},\"type\":\"table\"}],\"barpolar\":[{\"marker\":{\"line\":{\"color\":\"#E5ECF6\",\"width\":0.5},\"pattern\":{\"fillmode\":\"overlay\",\"size\":10,\"solidity\":0.2}},\"type\":\"barpolar\"}],\"pie\":[{\"automargin\":true,\"type\":\"pie\"}]},\"layout\":{\"autotypenumbers\":\"strict\",\"colorway\":[\"#636efa\",\"#EF553B\",\"#00cc96\",\"#ab63fa\",\"#FFA15A\",\"#19d3f3\",\"#FF6692\",\"#B6E880\",\"#FF97FF\",\"#FECB52\"],\"font\":{\"color\":\"#2a3f5f\"},\"hovermode\":\"closest\",\"hoverlabel\":{\"align\":\"left\"},\"paper_bgcolor\":\"white\",\"plot_bgcolor\":\"#E5ECF6\",\"polar\":{\"bgcolor\":\"#E5ECF6\",\"angularaxis\":{\"gridcolor\":\"white\",\"linecolor\":\"white\",\"ticks\":\"\"},\"radialaxis\":{\"gridcolor\":\"white\",\"linecolor\":\"white\",\"ticks\":\"\"}},\"ternary\":{\"bgcolor\":\"#E5ECF6\",\"aaxis\":{\"gridcolor\":\"white\",\"linecolor\":\"white\",\"ticks\":\"\"},\"baxis\":{\"gridcolor\":\"white\",\"linecolor\":\"white\",\"ticks\":\"\"},\"caxis\":{\"gridcolor\":\"white\",\"linecolor\":\"white\",\"ticks\":\"\"}},\"coloraxis\":{\"colorbar\":{\"outlinewidth\":0,\"ticks\":\"\"}},\"colorscale\":{\"sequential\":[[0.0,\"#0d0887\"],[0.1111111111111111,\"#46039f\"],[0.2222222222222222,\"#7201a8\"],[0.3333333333333333,\"#9c179e\"],[0.4444444444444444,\"#bd3786\"],[0.5555555555555556,\"#d8576b\"],[0.6666666666666666,\"#ed7953\"],[0.7777777777777778,\"#fb9f3a\"],[0.8888888888888888,\"#fdca26\"],[1.0,\"#f0f921\"]],\"sequentialminus\":[[0.0,\"#0d0887\"],[0.1111111111111111,\"#46039f\"],[0.2222222222222222,\"#7201a8\"],[0.3333333333333333,\"#9c179e\"],[0.4444444444444444,\"#bd3786\"],[0.5555555555555556,\"#d8576b\"],[0.6666666666666666,\"#ed7953\"],[0.7777777777777778,\"#fb9f3a\"],[0.8888888888888888,\"#fdca26\"],[1.0,\"#f0f921\"]],\"diverging\":[[0,\"#8e0152\"],[0.1,\"#c51b7d\"],[0.2,\"#de77ae\"],[0.3,\"#f1b6da\"],[0.4,\"#fde0ef\"],[0.5,\"#f7f7f7\"],[0.6,\"#e6f5d0\"],[0.7,\"#b8e186\"],[0.8,\"#7fbc41\"],[0.9,\"#4d9221\"],[1,\"#276419\"]]},\"xaxis\":{\"gridcolor\":\"white\",\"linecolor\":\"white\",\"ticks\":\"\",\"title\":{\"standoff\":15},\"zerolinecolor\":\"white\",\"automargin\":true,\"zerolinewidth\":2},\"yaxis\":{\"gridcolor\":\"white\",\"linecolor\":\"white\",\"ticks\":\"\",\"title\":{\"standoff\":15},\"zerolinecolor\":\"white\",\"automargin\":true,\"zerolinewidth\":2},\"scene\":{\"xaxis\":{\"backgroundcolor\":\"#E5ECF6\",\"gridcolor\":\"white\",\"linecolor\":\"white\",\"showbackground\":true,\"ticks\":\"\",\"zerolinecolor\":\"white\",\"gridwidth\":2},\"yaxis\":{\"backgroundcolor\":\"#E5ECF6\",\"gridcolor\":\"white\",\"linecolor\":\"white\",\"showbackground\":true,\"ticks\":\"\",\"zerolinecolor\":\"white\",\"gridwidth\":2},\"zaxis\":{\"backgroundcolor\":\"#E5ECF6\",\"gridcolor\":\"white\",\"linecolor\":\"white\",\"showbackground\":true,\"ticks\":\"\",\"zerolinecolor\":\"white\",\"gridwidth\":2}},\"shapedefaults\":{\"line\":{\"color\":\"#2a3f5f\"}},\"annotationdefaults\":{\"arrowcolor\":\"#2a3f5f\",\"arrowhead\":0,\"arrowwidth\":1},\"geo\":{\"bgcolor\":\"white\",\"landcolor\":\"#E5ECF6\",\"subunitcolor\":\"white\",\"showland\":true,\"showlakes\":true,\"lakecolor\":\"white\"},\"title\":{\"x\":0.05},\"mapbox\":{\"style\":\"light\"}}},\"xaxis\":{\"anchor\":\"y\",\"domain\":[0.0,1.0],\"title\":{\"text\":\"epochs\"}},\"yaxis\":{\"anchor\":\"x\",\"domain\":[0.0,1.0],\"title\":{\"text\":\"value\"}},\"legend\":{\"title\":{\"text\":\"variable\"},\"tracegroupgap\":0},\"title\":{\"text\":\"training loss for GLSTM2\"},\"shapes\":[{\"type\":\"line\",\"x0\":294,\"x1\":294,\"xref\":\"x\",\"y0\":0,\"y1\":1,\"yref\":\"y domain\"},{\"type\":\"line\",\"x0\":0,\"x1\":1,\"xref\":\"x domain\",\"y0\":198.5516014099121,\"y1\":198.5516014099121,\"yref\":\"y\"}]},                        {\"responsive\": true}                    ).then(function(){\n",
       "                            \n",
       "var gd = document.getElementById('575fb6cf-fa91-450e-a220-51ace1a8dc8a');\n",
       "var x = new MutationObserver(function (mutations, observer) {{\n",
       "        var display = window.getComputedStyle(gd).display;\n",
       "        if (!display || display === 'none') {{\n",
       "            console.log([gd, 'removed!']);\n",
       "            Plotly.purge(gd);\n",
       "            observer.disconnect();\n",
       "        }}\n",
       "}});\n",
       "\n",
       "// Listen for the removal of the full notebook cells\n",
       "var notebookContainer = gd.closest('#notebook-container');\n",
       "if (notebookContainer) {{\n",
       "    x.observe(notebookContainer, {childList: true});\n",
       "}}\n",
       "\n",
       "// Listen for the clearing of the current output cell\n",
       "var outputEl = gd.closest('.output');\n",
       "if (outputEl) {{\n",
       "    x.observe(outputEl, {childList: true});\n",
       "}}\n",
       "\n",
       "                        })                };                });            </script>        </div>"
      ]
     },
     "metadata": {},
     "output_type": "display_data"
    },
    {
     "data": {
      "image/png": "[encoded data removed]",
      "text/plain": [
       "<Figure size 2000x1000 with 8 Axes>"
      ]
     },
     "metadata": {},
     "output_type": "display_data"
    }
   ],
   "source": [
    "plot(model,\n",
    "     config,\n",
    "     loss_training, \n",
    "     loss_validation, \n",
    "     \"GLSTM2\", \n",
    "     show = True)"
   ]
  },
  {
   "cell_type": "code",
   "execution_count": 10,
   "id": "8a28b25a-6f13-49f3-a078-a13a1ba194ef",
   "metadata": {},
   "outputs": [],
   "source": [
    "grid_search = False\n",
    "if grid_search:\n",
    "    path = os.path.join(config['paths']['models'], \"score.csv\")\n",
    "    if os.path.exists(path):\n",
    "        ord = pd.read_csv(path, index_col=0)\n",
    "        tmp = ord.to_dict('index')\n",
    "        score = {}\n",
    "        for k in tmp.keys():\n",
    "            score[tmp[k]['name']] = tmp[k]['score']\n",
    "    else:\n",
    "        score = {}\n",
    "    keys = config['grid_search'].keys()\n",
    "    def dfs(i:int, t:tuple, keys:list, config, comb:list):\n",
    "        if i == len(keys):\n",
    "            comb.append(t)\n",
    "        if i < len(keys):\n",
    "            if keys[i] == 'embedding':\n",
    "                comb.append(t+(False, ))\n",
    "                dfs(i+1, t+(True, ), keys, config, comb)\n",
    "            else:\n",
    "                for element in config['model'][keys[i]]:\n",
    "                    dfs(i+1, t+(element, ), keys, config, comb)\n",
    "    combs = []\n",
    "    dfs(0,(), keys, config, combs) \n",
    "    print(device)\n",
    "    for comb in combs:\n",
    "        name = f\"model_{config['setting']['past_step']}_{config['setting']['future_step']}_\"\n",
    "        for f in comb[:-1]:\n",
    "            name += f\"{f}_\"\n",
    "        name += f\"{comb[-1]}\"\n",
    "        if name not in list(score.keys()):\n",
    "            model = GNN(in_feat = batch.float().shape[-1], \n",
    "                        past = past_step,\n",
    "                        future = future_step,\n",
    "                        categorical = categorical,\n",
    "                        dropout = comb[0],\n",
    "                        out_preprocess = comb[1],\n",
    "                        num_layer_gnn = comb[2],\n",
    "                        hidden_propagation = comb[3],\n",
    "                        embedding = comb[4], \n",
    "                        concat = comb[5] if comb[4] else True,\n",
    "                        dim_categorical = comb[6] if comb[4] else 128,\n",
    "                        nodes = len(codice_reg_prov),\n",
    "                        adj = L).to(device)\n",
    "                    \n",
    "            optimizer = optim.Adam(model.parameters(), lr = 3e-4)\n",
    "            print(name)\n",
    "            model, loss_training, loss_validation = training(model, \n",
    "                                                             train_loader = dl_train, \n",
    "                                                             val_loader = dl_val, \n",
    "                                                             num_epochs = 100, \n",
    "                                                             criterion = nn.L1Loss(reduction=\"mean\"),\n",
    "                                                             optimizer = optimizer, \n",
    "                                                             device = device)\n",
    "            score[name] = np.min(loss_validation)\n",
    "            plot(model, \n",
    "                 config,\n",
    "                 loss_training, \n",
    "                 loss_validation, \n",
    "                 name)\n",
    "    ord = pd.DataFrame(score.items(), columns = [\"name\", \"score\"])\n",
    "    ord.sort_values(by = \"score\").reset_index(drop= True)\n",
    "    ord.to_csv(os.path.join(config['paths']['models'], \"score.csv\"))"
   ]
  }
 ],
 "metadata": {
  "kernelspec": {
   "display_name": "Python 3 (ipykernel)",
   "language": "python",
   "name": "python3"
  },
  "language_info": {
   "codemirror_mode": {
    "name": "ipython",
    "version": 3
   },
   "file_extension": ".py",
   "mimetype": "text/x-python",
   "name": "python",
   "nbconvert_exporter": "python",
   "pygments_lexer": "ipython3",
   "version": "3.11.5"
  }
 },
 "nbformat": 4,
 "nbformat_minor": 5
}
