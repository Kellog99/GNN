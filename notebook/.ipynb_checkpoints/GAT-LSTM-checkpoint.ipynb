{
 "cells": [
  {
   "cell_type": "code",
   "execution_count": 1,
   "id": "880f767c-063e-41ab-b717-159c314557f6",
   "metadata": {},
   "outputs": [],
   "source": [
    "import os\n",
    "import matplotlib.pyplot as plt\n",
    "import numpy as np\n",
    "import plotly.express as px\n",
    "import torch\n",
    "import torch.nn as nn\n",
    "import torch.nn.functional as F\n",
    "import pandas as pd\n",
    "from tqdm import tqdm\n",
    "import torch.optim as optim\n",
    "import yaml\n",
    "import pickle\n",
    "from torch.utils.data import DataLoader\n",
    "from data import covid_dataset\n",
    "import pdb"
   ]
  },
  {
   "cell_type": "markdown",
   "id": "89286644-478c-45ea-b4c4-51357958de33",
   "metadata": {},
   "source": [
    "Carico il configuratore che tiene traccia di tutte le informazioni generali "
   ]
  },
  {
   "cell_type": "code",
   "execution_count": 2,
   "id": "70ea09f7-d49a-4aff-bcd2-e1bf7e5c97a2",
   "metadata": {},
   "outputs": [],
   "source": [
    "with open(\"./config.yaml\", 'r') as f:\n",
    "    config = yaml.safe_load(f)"
   ]
  },
  {
   "cell_type": "code",
   "execution_count": 3,
   "id": "cf7d157b-cf41-4236-99c3-335cceca7d44",
   "metadata": {},
   "outputs": [
    {
     "name": "stdout",
     "output_type": "stream",
     "text": [
      "torch.Size([50, 20, 107, 10])\n",
      "torch.Size([50, 10, 107])\n"
     ]
    }
   ],
   "source": [
    "past_step = config['setting']['past_step']\n",
    "future_step = config['setting']['future_step']\n",
    "batch_size = 50#config['setting']['batch_size']\n",
    "\n",
    "\n",
    "with open( os.path.join(config['paths']['data'],f\"aggregate/dataset{past_step}_{future_step}.pkl\"), 'rb') as f:\n",
    "    dataset = pickle.load(f)\n",
    "len_train = int(len(dataset)*0.75)\n",
    "len_val = len(dataset)-len_train\n",
    "df_train, df_val = torch.utils.data.random_split(dataset=dataset, lengths = [len_train, len_val])\n",
    "dl_train = DataLoader(dataset=df_train, batch_size=batch_size, shuffle=True)\n",
    "dl_val = DataLoader(dataset=df_val, batch_size=batch_size, shuffle=True)\n",
    "batch, y, adj = next(iter(dl_train))\n",
    "print(batch.shape)\n",
    "print(y.shape)"
   ]
  },
  {
   "cell_type": "code",
   "execution_count": 4,
   "id": "2c856a05-a91e-4deb-8b6e-dfb41017f6a8",
   "metadata": {},
   "outputs": [
    {
     "data": {
      "text/plain": [
       "tensor([[[[-0.4457],\n",
       "          [-0.7996],\n",
       "          [ 0.5363],\n",
       "          [-0.9545]],\n",
       "\n",
       "         [[-1.0157],\n",
       "          [-0.6500],\n",
       "          [ 1.1867],\n",
       "          [ 0.0906]]],\n",
       "\n",
       "\n",
       "        [[[ 0.1803],\n",
       "          [-1.0317],\n",
       "          [-0.3262],\n",
       "          [ 0.6259]],\n",
       "\n",
       "         [[ 1.1257],\n",
       "          [ 0.5336],\n",
       "          [ 1.6856],\n",
       "          [ 0.0216]]],\n",
       "\n",
       "\n",
       "        [[[-0.9557],\n",
       "          [-0.9612],\n",
       "          [-0.4841],\n",
       "          [-0.5066]],\n",
       "\n",
       "         [[-0.4341],\n",
       "          [ 0.3791],\n",
       "          [ 1.4563],\n",
       "          [-1.6051]]]])"
      ]
     },
     "execution_count": 4,
     "metadata": {},
     "output_type": "execute_result"
    }
   ],
   "source": [
    "x= torch.randn(3,2,4,1)\n",
    "x"
   ]
  },
  {
   "cell_type": "code",
   "execution_count": 5,
   "id": "3e9917f4-9f21-4ddd-89d2-9b6ad2cf10b9",
   "metadata": {},
   "outputs": [
    {
     "data": {
      "text/plain": [
       "tensor([[[[-0.4457, -0.7996,  0.5363, -0.9545],\n",
       "          [-0.4457, -0.7996,  0.5363, -0.9545],\n",
       "          [-0.4457, -0.7996,  0.5363, -0.9545],\n",
       "          [-0.4457, -0.7996,  0.5363, -0.9545]],\n",
       "\n",
       "         [[-1.0157, -0.6500,  1.1867,  0.0906],\n",
       "          [-1.0157, -0.6500,  1.1867,  0.0906],\n",
       "          [-1.0157, -0.6500,  1.1867,  0.0906],\n",
       "          [-1.0157, -0.6500,  1.1867,  0.0906]]],\n",
       "\n",
       "\n",
       "        [[[ 0.1803, -1.0317, -0.3262,  0.6259],\n",
       "          [ 0.1803, -1.0317, -0.3262,  0.6259],\n",
       "          [ 0.1803, -1.0317, -0.3262,  0.6259],\n",
       "          [ 0.1803, -1.0317, -0.3262,  0.6259]],\n",
       "\n",
       "         [[ 1.1257,  0.5336,  1.6856,  0.0216],\n",
       "          [ 1.1257,  0.5336,  1.6856,  0.0216],\n",
       "          [ 1.1257,  0.5336,  1.6856,  0.0216],\n",
       "          [ 1.1257,  0.5336,  1.6856,  0.0216]]],\n",
       "\n",
       "\n",
       "        [[[-0.9557, -0.9612, -0.4841, -0.5066],\n",
       "          [-0.9557, -0.9612, -0.4841, -0.5066],\n",
       "          [-0.9557, -0.9612, -0.4841, -0.5066],\n",
       "          [-0.9557, -0.9612, -0.4841, -0.5066]],\n",
       "\n",
       "         [[-0.4341,  0.3791,  1.4563, -1.6051],\n",
       "          [-0.4341,  0.3791,  1.4563, -1.6051],\n",
       "          [-0.4341,  0.3791,  1.4563, -1.6051],\n",
       "          [-0.4341,  0.3791,  1.4563, -1.6051]]]])"
      ]
     },
     "execution_count": 5,
     "metadata": {},
     "output_type": "execute_result"
    }
   ],
   "source": [
    "x.transpose(-2,-1).repeat(1,1,4,1)"
   ]
  },
  {
   "cell_type": "code",
   "execution_count": 6,
   "id": "cd50d61a-1240-4db0-b427-90b5af7647cd",
   "metadata": {},
   "outputs": [
    {
     "data": {
      "text/plain": [
       "tensor([[[[-0.4457, -0.4457, -0.4457, -0.4457],\n",
       "          [-0.7996, -0.7996, -0.7996, -0.7996],\n",
       "          [ 0.5363,  0.5363,  0.5363,  0.5363],\n",
       "          [-0.9545, -0.9545, -0.9545, -0.9545]],\n",
       "\n",
       "         [[-1.0157, -1.0157, -1.0157, -1.0157],\n",
       "          [-0.6500, -0.6500, -0.6500, -0.6500],\n",
       "          [ 1.1867,  1.1867,  1.1867,  1.1867],\n",
       "          [ 0.0906,  0.0906,  0.0906,  0.0906]]],\n",
       "\n",
       "\n",
       "        [[[ 0.1803,  0.1803,  0.1803,  0.1803],\n",
       "          [-1.0317, -1.0317, -1.0317, -1.0317],\n",
       "          [-0.3262, -0.3262, -0.3262, -0.3262],\n",
       "          [ 0.6259,  0.6259,  0.6259,  0.6259]],\n",
       "\n",
       "         [[ 1.1257,  1.1257,  1.1257,  1.1257],\n",
       "          [ 0.5336,  0.5336,  0.5336,  0.5336],\n",
       "          [ 1.6856,  1.6856,  1.6856,  1.6856],\n",
       "          [ 0.0216,  0.0216,  0.0216,  0.0216]]],\n",
       "\n",
       "\n",
       "        [[[-0.9557, -0.9557, -0.9557, -0.9557],\n",
       "          [-0.9612, -0.9612, -0.9612, -0.9612],\n",
       "          [-0.4841, -0.4841, -0.4841, -0.4841],\n",
       "          [-0.5066, -0.5066, -0.5066, -0.5066]],\n",
       "\n",
       "         [[-0.4341, -0.4341, -0.4341, -0.4341],\n",
       "          [ 0.3791,  0.3791,  0.3791,  0.3791],\n",
       "          [ 1.4563,  1.4563,  1.4563,  1.4563],\n",
       "          [-1.6051, -1.6051, -1.6051, -1.6051]]]])"
      ]
     },
     "execution_count": 6,
     "metadata": {},
     "output_type": "execute_result"
    }
   ],
   "source": [
    "x.repeat(1,1,1,4)"
   ]
  },
  {
   "cell_type": "code",
   "execution_count": 13,
   "id": "23b5eaa1-a59d-41a7-8960-cab807a39903",
   "metadata": {},
   "outputs": [
    {
     "data": {
      "text/plain": [
       "torch.Size([50, 10, 107])"
      ]
     },
     "execution_count": 13,
     "metadata": {},
     "output_type": "execute_result"
    }
   ],
   "source": [
    "class embedding_layer(torch.nn.Module):\n",
    "    def __init__(self,\n",
    "                 categorical:list,\n",
    "                 dim_categorical:int, \n",
    "                 concat:bool):\n",
    "        \n",
    "        super(embedding_layer, self).__init__()\n",
    "        self.concat = concat\n",
    "        self.embedding = nn.ModuleList([nn.Embedding(categorical[i], dim_categorical) for i in range(len(categorical))])\n",
    "\n",
    "        \n",
    "    def forward(self, x):\n",
    "    \n",
    "        out = []\n",
    "        # Con l'unsqueeze creo una nuova dimensione ed è come se mi salvassi per ogni features di ogni nodo di ogni batch tutti gli embedding\n",
    "        # Questo solo se devo sommare tutti gli embedding\n",
    "        for i in range(len(self.embedding)):\n",
    "            if self.concat:\n",
    "                cat_tmp = x[:, :, :, -len(self.embedding)+i].int()\n",
    "            else:\n",
    "                cat_tmp = x[:, :,:, -len(self.embedding)+i].int().unsqueeze(-1)\n",
    "            out.append(self.embedding[i](cat_tmp))\n",
    "\n",
    "        out = torch.cat(out,-1 if self.concat else -2)\n",
    "        out = out if self.concat else torch.sum(out, -2)\n",
    "        out = torch.cat((x[:,:,:,:-len(self.embedding)], out), -1)\n",
    "        \n",
    "        return out.float()\n",
    "        \n",
    "class pre_processing(torch.nn.Module):\n",
    "    def __init__(self,\n",
    "                 in_feat:int, \n",
    "                 out_feat:int, \n",
    "                 dropout:float):\n",
    "        \n",
    "        super(pre_processing, self).__init__()\n",
    "        self.linear = nn.Sequential(nn.Linear(in_features = in_feat, out_features = 128),\n",
    "                                    nn.ReLU(), \n",
    "                                    nn.Dropout(dropout),\n",
    "                                    nn.Linear(in_features = 128, out_features = 128),\n",
    "                                    nn.ReLU(),\n",
    "                                    nn.Dropout(dropout),\n",
    "                                    nn.Linear(in_features = 128, out_features = out_feat, bias=False))\n",
    "        \n",
    "        \n",
    "    def forward(self, x):  \n",
    "        return self.linear(x.float())\n",
    "\n",
    "class my_gat(torch.nn.Module):\n",
    "\n",
    "    def __init__(self, \n",
    "                 in_channels: int, \n",
    "                 out_channels: int,\n",
    "                 past:int, \n",
    "                 dim_hidden_emb:int = 128):\n",
    "        super(my_gat, self).__init__()\n",
    "\n",
    "        self.in_channels = in_channels\n",
    "        self.out_channels = out_channels\n",
    "        self.past = past \n",
    "        self.lin = nn.Linear(in_channels, \n",
    "                             out_channels, \n",
    "                             bias = False)\n",
    "        self.a1 = nn.Parameter(torch.randn(in_channels))\n",
    "        self.a2 = nn.Parameter(torch.randn(in_channels))\n",
    "        self.emb = nn.Linear(in_features = in_channels, \n",
    "                             out_features = dim_hidden_emb, \n",
    "                             bias = False)\n",
    "        \n",
    "\n",
    "    def forward(self,\n",
    "                x0: tuple) -> torch.tensor:\n",
    "        \n",
    "        x, A = x0   \n",
    "        x_emb = self.emb(x)\n",
    "        B, S, N, _ = x_emb.shape\n",
    "        ## <a,(h_i||h_j)>\n",
    "        a1 = torch.matmul(x_emb, self.a1).unsqueeze(-1).repeat(1,1,1,N)\n",
    "        a2 = torch.matmul(x_emb, self.a2).unsqueeze(-1).transpose(-2,-1).repeat(1,1,N, 1)\n",
    "        z = F.leaky_relu(a1+a2)\n",
    "\n",
    "        # Apply the mask to fill values in the input tensor\n",
    "        # sigmoid(Pi*X*W)\n",
    "        pi = F.softmax(z.masked_fill(A == 0., -float('infinity')), -1)\n",
    "        x = torch.einsum('bpik,bpkj->bpij', pi, x)\n",
    "        x = F.sigmoid(self.lin(x))\n",
    "        \n",
    "        return (x, A)\n",
    "\n",
    "class LSTMCell(nn.Module):\n",
    "    def __init__(self, input_size, hidden_size):\n",
    "        super(LSTMCell, self).__init__()\n",
    "\n",
    "        self.input_size = input_size\n",
    "        self.hidden_size = hidden_size\n",
    "\n",
    "        # LSTM weights and biases\n",
    "        self.W_i = nn.Linear(input_size + hidden_size, hidden_size)\n",
    "        self.W_f = nn.Linear(input_size + hidden_size, hidden_size)\n",
    "        self.W_o = nn.Linear(input_size + hidden_size, hidden_size)\n",
    "        self.W_g = nn.Linear(input_size + hidden_size, hidden_size)\n",
    "\n",
    "    def forward(self, x, hidden):\n",
    "        h_prev, c_prev = hidden\n",
    "        \n",
    "        # Concatenate input and previous hidden state\n",
    "        combined = torch.cat((x, h_prev), dim=-1)\n",
    "\n",
    "        # Compute the input, forget, output, and cell gates\n",
    "        i = torch.sigmoid(self.W_i(combined))\n",
    "        f = torch.sigmoid(self.W_f(combined))\n",
    "        o = torch.sigmoid(self.W_o(combined))\n",
    "        g = torch.tanh(self.W_g(combined))\n",
    "\n",
    "        # Update the cell state and hidden state\n",
    "        c = f * c_prev + i * g\n",
    "        h = o * torch.tanh(c)\n",
    "\n",
    "        return h, c\n",
    "        \n",
    "        \n",
    "class GAT_LSTM(torch.nn.Module):\n",
    "    def __init__(self, \n",
    "                 in_feat:int, \n",
    "                 past: int, \n",
    "                 future: int,\n",
    "                 categorical:list,\n",
    "                 device, \n",
    "                 out_preprocess:int = 128, \n",
    "                 dropout: float = 0.1, \n",
    "                 dim_categorical:int = 64, \n",
    "                 concat:bool = True,\n",
    "                 num_layer_gnn:int = 1,\n",
    "                 hidden_gnn:int = 128,\n",
    "                 hidden_lstm: int = 128, \n",
    "                 hidden_propagation:int = 128):\n",
    "        \n",
    "        super(GAT_LSTM, self).__init__()\n",
    "        \n",
    "        self.in_feat = in_feat         # numero di features di ogni nodo prima del primo GAT        \n",
    "        self.past = past \n",
    "        self.future = future\n",
    "        self.hidden_gnn = hidden_gnn\n",
    "        self.hidden_lstm = hidden_lstm\n",
    "        self.device = device\n",
    "        ########## PREPROCESSING PART #############        \n",
    "        # preprossessing dell'input\n",
    "    \n",
    "        self.embedding = embedding_layer(categorical = categorical,\n",
    "                                           dim_categorical = dim_categorical, \n",
    "                                           concat = concat)\n",
    "        self.out_preprocess = out_preprocess\n",
    "        in_feat_preprocessing = in_feat + (dim_categorical-1)*len(categorical) if concat else in_feat + dim_categorical - len(categorical)\n",
    "        self.cat_index = in_feat-len(categorical)\n",
    "        self.pre_processing = pre_processing(in_feat = in_feat_preprocessing, \n",
    "                                             out_feat = out_preprocess,\n",
    "                                             dropout = dropout)\n",
    "        \n",
    "        ########## FIRST GNN PART #############\n",
    "        # LA CGNN mi permette di vedere spazialmente la situazione circostante\n",
    "        # più layer di CGNN più spazialmente distante arriva l'informazione\n",
    "        # B x P x N x F\n",
    "    \n",
    "        layers = []\n",
    "        \n",
    "        for i in range(num_layer_gnn):\n",
    "            in_channels = self.out_preprocess if i == 0 else hidden_gnn\n",
    "            layers.append(my_gat(in_channels = in_channels, \n",
    "                                  out_channels = hidden_gnn, \n",
    "                                  past = past))            \n",
    "        self.gnn = nn.Sequential(*layers)\n",
    "\n",
    "        self.lstm = LSTMCell(input_size = hidden_gnn, \n",
    "                             hidden_size = hidden_lstm)\n",
    "        \n",
    "        self.decoding = nn.Sequential(nn.Linear(in_features = hidden_lstm, \n",
    "                                                out_features = hidden_propagation), \n",
    "                                      nn.ReLU(), \n",
    "                                      nn.Linear(in_features = hidden_propagation,\n",
    "                                                out_features = hidden_propagation),\n",
    "                                      nn.ReLU(),\n",
    "                                      nn.Linear(in_features = hidden_propagation,\n",
    "                                                out_features = future))\n",
    "               \n",
    "    def forward(self, input, adj):\n",
    "        ########### pre-processing dei dati ##########\n",
    "        x = input \n",
    "        emb = self.embedding(x)\n",
    "        x = self.pre_processing(emb)\n",
    "\n",
    "        ########## GAT processing ######################\n",
    "        x, _ = self.gnn((x, adj))\n",
    "        \n",
    "        batch_size, seq_len, nodes, features = x.size()\n",
    "\n",
    "        # Initialize hidden and cell states\n",
    "        \n",
    "        h, c = [torch.zeros(batch_size, nodes, self.hidden_lstm).to(x.device)] * 2\n",
    "        for t in range(seq_len):\n",
    "            h, c = self.lstm(x[:, t], (h, c))  \n",
    "        out = self.decoding(h).transpose(-2,-1)\n",
    "        \n",
    "        return  out\n",
    "        \n",
    "model = GAT_LSTM(in_feat = batch.shape[-1], \n",
    "              past = past_step,\n",
    "              future = future_step,\n",
    "              categorical = config['model']['categorical'],\n",
    "              device = torch.device('cpu'))\n",
    "yh = model(batch.to(model.device), adj.to(model.device))\n",
    "yh.shape"
   ]
  },
  {
   "cell_type": "code",
   "execution_count": 14,
   "id": "7af7b368-eb3d-4c38-8dc1-40e7caeba1d1",
   "metadata": {},
   "outputs": [],
   "source": [
    "def step(model, \n",
    "         dataloader,\n",
    "         optimizer,\n",
    "         criterion,\n",
    "         training: bool = False):\n",
    "\n",
    "    if training:\n",
    "        model.train()\n",
    "    else:\n",
    "        model.eval()\n",
    "\n",
    "    is_train = True if training else False\n",
    "    loss_epoch = 0.0\n",
    "    with torch.set_grad_enabled(is_train):\n",
    "        for x, y, adj in iter(dataloader):\n",
    "            x = x.to(model.device).float()\n",
    "            y = y.float().to(model.device)\n",
    "            yh = model(x, adj.to(model.device))\n",
    "            loss = criterion(yh, y)\n",
    "    \n",
    "            # Backward and optimize\n",
    "            if training:\n",
    "                loss.backward()\n",
    "                optimizer.step()\n",
    "                \n",
    "                # blocking the gradient summation \n",
    "                optimizer.zero_grad()\n",
    "    \n",
    "    \n",
    "            loss_epoch += loss.item()\n",
    "    loss_epoch/=len(dataloader)\n",
    "\n",
    "    return loss_epoch\n",
    "\n",
    "\n",
    "def training(model, \n",
    "             train_loader, \n",
    "             val_loader, \n",
    "             num_epochs, \n",
    "             criterion,\n",
    "             optimizer):\n",
    "    loss_train = []\n",
    "    loss_val = []\n",
    "    be = np.inf\n",
    "    bm = model\n",
    "    \n",
    "    for epoch in tqdm(range(num_epochs)):\n",
    "            \n",
    "        # Calculate average loss for the epoch\n",
    "        loss = step(model = model, \n",
    "                         dataloader = train_loader, \n",
    "                         optimizer = optimizer, \n",
    "                         criterion = criterion,\n",
    "                         training = True)\n",
    "        \n",
    "        loss_train.append(loss)\n",
    "        \n",
    "        loss = step(model = model, \n",
    "                         dataloader = val_loader, \n",
    "                         optimizer = optimizer, \n",
    "                         criterion = criterion,\n",
    "                         training = False)\n",
    "        \n",
    "        loss_val.append(loss)\n",
    "        \n",
    "        if (loss_val[-1]<be) & (epoch/num_epochs>0.15):\n",
    "            be = loss_val[-1]\n",
    "            bm = model\n",
    "        if (epoch+1)%10 == 0:\n",
    "            print(f\"loss train epoch {epoch+1} == {loss_train[-1]}\")\n",
    "            print(f\"loss val epoch {epoch+1} == {loss_val[-1]}\")\n",
    "    return bm, loss_train, loss_val\n",
    "\n",
    "def training_not_aggregate(model, \n",
    "                           dl_train:dict, \n",
    "                           dl_val:dict, \n",
    "                           num_epochs:int, \n",
    "                           criterion,\n",
    "                           device,\n",
    "                           optimizer):\n",
    "    loss_train = []\n",
    "    loss_val = []\n",
    "    be = np.inf\n",
    "    bm = model\n",
    "    \n",
    "    for epoch in tqdm(range(num_epochs)):\n",
    "        loss_train.append(0)\n",
    "        loss_val.append(0)\n",
    "        \n",
    "        for key in dl_val.keys():   \n",
    "            # Calculate average loss for the epoch\n",
    "            loss = step(model = model, \n",
    "                        dataloader = dl_train[key], \n",
    "                        optimizer = optimizer, \n",
    "                        device = device,\n",
    "                        criterion = criterion,\n",
    "                        training = True)\n",
    "            \n",
    "            loss_train[-1]+= loss\n",
    "            \n",
    "            loss = step(model = model, \n",
    "                             dataloader = dl_val[key], \n",
    "                             optimizer = optimizer, \n",
    "                             device = device,\n",
    "                             criterion = criterion,\n",
    "                             training = False)\n",
    "            \n",
    "            loss_val[-1]+= loss\n",
    "            \n",
    "        loss_train[-1] = loss_train[-1]/len(dl_val.keys())\n",
    "        loss_val[-1] = loss_val[-1]/len(dl_val.keys())\n",
    "        if (loss_val[-1]<be) & (epoch/num_epochs>0.15):\n",
    "            be = loss_val[-1]\n",
    "            bm = model\n",
    "        if (epoch+1)%10 == 0:\n",
    "            print(f\"loss train epoch {epoch+1} == {loss_train[-1]}\")\n",
    "            print(f\"loss val epoch {epoch+1} == {loss_val[-1]}\")\n",
    "    return bm, loss_train, loss_val\n"
   ]
  },
  {
   "cell_type": "markdown",
   "id": "6722b30e-158b-4a42-913d-f56aafcebf5b",
   "metadata": {},
   "source": [
    "## Loss of the model\n",
    "As always, the model must perform well on average on all points. \n",
    "$$\n",
    "\\frac{1}{n|T|}\\sum_{i=1}^n\\sum_{j}^{|T|}\\left|f\\left(t_j,x_{i,t_j}\\right)-\\hat{f}\\left(t_j,x_{i,t_j}\\right)\\right|\n",
    "$$\n",
    "In addition, it is important that the model did not have, at worst, too high an error.\n",
    "$$\n",
    "\\left(\\int_X\\left(\\int_T|f(t,x)-\\hat{f}(t,x)|\\,dt\\right)^p\\,dx\\right)^{\\frac{1}{p}}\\to\\max_{x\\in X}\\int_T|f(t,x)-\\hat{f}(t,x)|\\,dt\n",
    "$$"
   ]
  },
  {
   "cell_type": "code",
   "execution_count": 15,
   "id": "de605738-eb49-43f1-aa22-5444ffa41700",
   "metadata": {},
   "outputs": [],
   "source": [
    "#device = torch.device(\"cpu\")\n",
    "device = torch.device(\"cuda\" if torch.cuda.is_available() else \"cpu\")\n",
    "\n",
    "model = GAT_LSTM(in_feat = batch.float().shape[-1], \n",
    "              past = past_step,\n",
    "              future = future_step,\n",
    "              categorical = config['model']['categorical'],\n",
    "              device = device).to(device)"
   ]
  },
  {
   "cell_type": "code",
   "execution_count": 16,
   "id": "ac8ebd3f-905f-4f17-8a1f-ca2e30fb1300",
   "metadata": {},
   "outputs": [
    {
     "name": "stderr",
     "output_type": "stream",
     "text": [
      "100%|███████████████████████████████████████████████████████████████████| 1/1 [00:36<00:00, 36.02s/it]\n"
     ]
    }
   ],
   "source": [
    "device = torch.device(\"cuda\" if torch.cuda.is_available() else \"cpu\")\n",
    "def linfty(y, yh, alpha = 7e-5):\n",
    "    out = F.l1_loss(y,yh, reduction = \"mean\")\n",
    "    out += alpha*torch.max(torch.abs(y-yh))\n",
    "    return out\n",
    "optimizer = optim.Adam(model.parameters(), \n",
    "                       lr = 1e-4, \n",
    "                       weight_decay = 2e-4)\n",
    "model.to(device)\n",
    "model.device = device\n",
    "model, loss_training, loss_validation = training(model, \n",
    "                                             train_loader = dl_train, \n",
    "                                             val_loader = dl_val, \n",
    "                                             num_epochs = 1, \n",
    "                                             criterion = linfty,\n",
    "                                             optimizer = optimizer)\n",
    "torch.save(model.state_dict(), os.path.join(config['paths']['models'], f\"GAT_LSTM_{past_step}_{future_step}.pt\"))\n"
   ]
  },
  {
   "cell_type": "code",
   "execution_count": 17,
   "id": "42db3198-91b0-4565-8454-130e4914a7ee",
   "metadata": {},
   "outputs": [],
   "source": [
    "def plot(model, \n",
    "         config,\n",
    "         loss_training, \n",
    "         loss_validation, \n",
    "         name,\n",
    "         dl_train = dl_train,\n",
    "         dl_val = dl_val, \n",
    "         show = False):\n",
    "    fig = px.line({\"epochs\": range(1,len(loss_training)+1), \n",
    "                                   \"train\": loss_training, \n",
    "                                   \"validation\": loss_validation}, \n",
    "                                  x = \"epochs\", \n",
    "                                  y = [\"train\", \"validation\"], \n",
    "                                  title= f\"training loss for {name}\")\n",
    "    fig.add_vline(x = np.argsort(loss_validation)[0]+1)\n",
    "    fig.add_hline(y = np.min(loss_validation))\n",
    "    fig.write_html(os.path.join(config['paths']['fig'],'covid', f\"loss_gnn_{name}.html\"))\n",
    "    if show:\n",
    "        fig.show()\n",
    "    model = model.cpu()\n",
    "    model.device = torch.device('cpu')\n",
    "    if config['dataset']['aggregate']:\n",
    "        batch_train, y_train, adj_train = next(iter(dl_train))\n",
    "        batch_val, y_val, adj_val = next(iter(dl_val))\n",
    "        yh_train = model(batch_train.float().to(model.device), adj_train.to(model.device)).detach().numpy()\n",
    "        yh_val = model(batch_val.float().to(model.device), adj_val.to(model.device)).detach().numpy()\n",
    "    else:\n",
    "        yh_train = []\n",
    "        yh_val = []\n",
    "        y_train = []\n",
    "        y_val = []\n",
    "        for key in dl_train.keys():\n",
    "            batch_train, yt, adj_train = next(iter(dl_train[key]))\n",
    "            batch_val, yv, adj_val = next(iter(dl_val[key]))\n",
    "            yh_train.append(model(batch_train.float().to(model.device), adj_train.to(model.device)).cpu())\n",
    "            yh_val.append(model(batch_val.float().to(model.device), adj_val.to(model.device)).cpu())\n",
    "            y_train.append(yt)\n",
    "            y_val.append(yv)\n",
    "        \n",
    "        yh_train = torch.cat(yh_train, -2).transpose(-1,-2)\n",
    "        yh_val = torch.cat(yh_val, -2).transpose(-1,-2).detach().numpy()\n",
    "        y_train = torch.cat(y_train, -1).detach().numpy()\n",
    "        y_val = torch.cat(y_val, -1).detach().numpy()\n",
    "\n",
    "    lenght = 3*y.shape[1]\n",
    "    fig, ax = plt.subplots(nrows = y.shape[1], \n",
    "                           ncols = 2, \n",
    "                           constrained_layout = True,\n",
    "                           figsize = (20,lenght))\n",
    "    \n",
    "    for day in range(y.shape[1]):\n",
    "        ax[day, 0].plot(yh_train[0,day], label = \"estimate\")\n",
    "        ax[day, 0].plot(y_train[0,day], label =\"real\")\n",
    "    \n",
    "        ax[day, 1].plot(yh_val[0,day], label = \"estimate\")\n",
    "        ax[day, 1].plot(y_val[0,day], label =\"real\")\n",
    "        ax[day, 0].legend()\n",
    "        ax[day, 1].legend()\n",
    "    \n",
    "        ax[day, 0].title.set_text(f\"day {day +1} train\")\n",
    "        ax[day, 1].title.set_text(f\"day {day +1} validation\")\n",
    "    fig.suptitle(' Comparison between estimation and reality ', fontsize=20) \n",
    "    \n",
    "    path = os.path.join(config['paths']['fig'],'covid', f\"{name}.png\")\n",
    "    plt.savefig(path)\n",
    "    if show:\n",
    "        plt.show()\n",
    "    plt.close(fig)\n"
   ]
  },
  {
   "cell_type": "code",
   "execution_count": null,
   "id": "30c4f5d1-6c33-4266-9905-7587bccadfe3",
   "metadata": {},
   "outputs": [
    {
     "data": {
      "application/vnd.plotly.v1+json": {
       "config": {
        "plotlyServerURL": "https://plot.ly"
       },
       "data": [
        {
         "hovertemplate": "variable=train<br>epochs=%{x}<br>value=%{y}<extra></extra>",
         "legendgroup": "train",
         "line": {
          "color": "#636efa",
          "dash": "solid"
         },
         "marker": {
          "symbol": "circle"
         },
         "mode": "lines",
         "name": "train",
         "orientation": "v",
         "showlegend": true,
         "type": "scatter",
         "x": [
          1
         ],
         "xaxis": "x",
         "y": [
          192.4596131977282
         ],
         "yaxis": "y"
        },
        {
         "hovertemplate": "variable=validation<br>epochs=%{x}<br>value=%{y}<extra></extra>",
         "legendgroup": "validation",
         "line": {
          "color": "#EF553B",
          "dash": "solid"
         },
         "marker": {
          "symbol": "circle"
         },
         "mode": "lines",
         "name": "validation",
         "orientation": "v",
         "showlegend": true,
         "type": "scatter",
         "x": [
          1
         ],
         "xaxis": "x",
         "y": [
          211.65884835379464
         ],
         "yaxis": "y"
        }
       ],
       "layout": {
        "height": 360,
        "legend": {
         "title": {
          "text": "variable"
         },
         "tracegroupgap": 0
        },
        "shapes": [
         {
          "type": "line",
          "x0": 1,
          "x1": 1,
          "xref": "x",
          "y0": 0,
          "y1": 1,
          "yref": "y domain"
         },
         {
          "type": "line",
          "x0": 0,
          "x1": 1,
          "xref": "x domain",
          "y0": 211.65884835379464,
          "y1": 211.65884835379464,
          "yref": "y"
         }
        ],
        "template": {
         "data": {
          "bar": [
           {
            "error_x": {
             "color": "#2a3f5f"
            },
            "error_y": {
             "color": "#2a3f5f"
            },
            "marker": {
             "line": {
              "color": "#E5ECF6",
              "width": 0.5
             },
             "pattern": {
              "fillmode": "overlay",
              "size": 10,
              "solidity": 0.2
             }
            },
            "type": "bar"
           }
          ],
          "barpolar": [
           {
            "marker": {
             "line": {
              "color": "#E5ECF6",
              "width": 0.5
             },
             "pattern": {
              "fillmode": "overlay",
              "size": 10,
              "solidity": 0.2
             }
            },
            "type": "barpolar"
           }
          ],
          "carpet": [
           {
            "aaxis": {
             "endlinecolor": "#2a3f5f",
             "gridcolor": "white",
             "linecolor": "white",
             "minorgridcolor": "white",
             "startlinecolor": "#2a3f5f"
            },
            "baxis": {
             "endlinecolor": "#2a3f5f",
             "gridcolor": "white",
             "linecolor": "white",
             "minorgridcolor": "white",
             "startlinecolor": "#2a3f5f"
            },
            "type": "carpet"
           }
          ],
          "choropleth": [
           {
            "colorbar": {
             "outlinewidth": 0,
             "ticks": ""
            },
            "type": "choropleth"
           }
          ],
          "contour": [
           {
            "colorbar": {
             "outlinewidth": 0,
             "ticks": ""
            },
            "colorscale": [
             [
              0,
              "#0d0887"
             ],
             [
              0.1111111111111111,
              "#46039f"
             ],
             [
              0.2222222222222222,
              "#7201a8"
             ],
             [
              0.3333333333333333,
              "#9c179e"
             ],
             [
              0.4444444444444444,
              "#bd3786"
             ],
             [
              0.5555555555555556,
              "#d8576b"
             ],
             [
              0.6666666666666666,
              "#ed7953"
             ],
             [
              0.7777777777777778,
              "#fb9f3a"
             ],
             [
              0.8888888888888888,
              "#fdca26"
             ],
             [
              1,
              "#f0f921"
             ]
            ],
            "type": "contour"
           }
          ],
          "contourcarpet": [
           {
            "colorbar": {
             "outlinewidth": 0,
             "ticks": ""
            },
            "type": "contourcarpet"
           }
          ],
          "heatmap": [
           {
            "colorbar": {
             "outlinewidth": 0,
             "ticks": ""
            },
            "colorscale": [
             [
              0,
              "#0d0887"
             ],
             [
              0.1111111111111111,
              "#46039f"
             ],
             [
              0.2222222222222222,
              "#7201a8"
             ],
             [
              0.3333333333333333,
              "#9c179e"
             ],
             [
              0.4444444444444444,
              "#bd3786"
             ],
             [
              0.5555555555555556,
              "#d8576b"
             ],
             [
              0.6666666666666666,
              "#ed7953"
             ],
             [
              0.7777777777777778,
              "#fb9f3a"
             ],
             [
              0.8888888888888888,
              "#fdca26"
             ],
             [
              1,
              "#f0f921"
             ]
            ],
            "type": "heatmap"
           }
          ],
          "heatmapgl": [
           {
            "colorbar": {
             "outlinewidth": 0,
             "ticks": ""
            },
            "colorscale": [
             [
              0,
              "#0d0887"
             ],
             [
              0.1111111111111111,
              "#46039f"
             ],
             [
              0.2222222222222222,
              "#7201a8"
             ],
             [
              0.3333333333333333,
              "#9c179e"
             ],
             [
              0.4444444444444444,
              "#bd3786"
             ],
             [
              0.5555555555555556,
              "#d8576b"
             ],
             [
              0.6666666666666666,
              "#ed7953"
             ],
             [
              0.7777777777777778,
              "#fb9f3a"
             ],
             [
              0.8888888888888888,
              "#fdca26"
             ],
             [
              1,
              "#f0f921"
             ]
            ],
            "type": "heatmapgl"
           }
          ],
          "histogram": [
           {
            "marker": {
             "pattern": {
              "fillmode": "overlay",
              "size": 10,
              "solidity": 0.2
             }
            },
            "type": "histogram"
           }
          ],
          "histogram2d": [
           {
            "colorbar": {
             "outlinewidth": 0,
             "ticks": ""
            },
            "colorscale": [
             [
              0,
              "#0d0887"
             ],
             [
              0.1111111111111111,
              "#46039f"
             ],
             [
              0.2222222222222222,
              "#7201a8"
             ],
             [
              0.3333333333333333,
              "#9c179e"
             ],
             [
              0.4444444444444444,
              "#bd3786"
             ],
             [
              0.5555555555555556,
              "#d8576b"
             ],
             [
              0.6666666666666666,
              "#ed7953"
             ],
             [
              0.7777777777777778,
              "#fb9f3a"
             ],
             [
              0.8888888888888888,
              "#fdca26"
             ],
             [
              1,
              "#f0f921"
             ]
            ],
            "type": "histogram2d"
           }
          ],
          "histogram2dcontour": [
           {
            "colorbar": {
             "outlinewidth": 0,
             "ticks": ""
            },
            "colorscale": [
             [
              0,
              "#0d0887"
             ],
             [
              0.1111111111111111,
              "#46039f"
             ],
             [
              0.2222222222222222,
              "#7201a8"
             ],
             [
              0.3333333333333333,
              "#9c179e"
             ],
             [
              0.4444444444444444,
              "#bd3786"
             ],
             [
              0.5555555555555556,
              "#d8576b"
             ],
             [
              0.6666666666666666,
              "#ed7953"
             ],
             [
              0.7777777777777778,
              "#fb9f3a"
             ],
             [
              0.8888888888888888,
              "#fdca26"
             ],
             [
              1,
              "#f0f921"
             ]
            ],
            "type": "histogram2dcontour"
           }
          ],
          "mesh3d": [
           {
            "colorbar": {
             "outlinewidth": 0,
             "ticks": ""
            },
            "type": "mesh3d"
           }
          ],
          "parcoords": [
           {
            "line": {
             "colorbar": {
              "outlinewidth": 0,
              "ticks": ""
             }
            },
            "type": "parcoords"
           }
          ],
          "pie": [
           {
            "automargin": true,
            "type": "pie"
           }
          ],
          "scatter": [
           {
            "fillpattern": {
             "fillmode": "overlay",
             "size": 10,
             "solidity": 0.2
            },
            "type": "scatter"
           }
          ],
          "scatter3d": [
           {
            "line": {
             "colorbar": {
              "outlinewidth": 0,
              "ticks": ""
             }
            },
            "marker": {
             "colorbar": {
              "outlinewidth": 0,
              "ticks": ""
             }
            },
            "type": "scatter3d"
           }
          ],
          "scattercarpet": [
           {
            "marker": {
             "colorbar": {
              "outlinewidth": 0,
              "ticks": ""
             }
            },
            "type": "scattercarpet"
           }
          ],
          "scattergeo": [
           {
            "marker": {
             "colorbar": {
              "outlinewidth": 0,
              "ticks": ""
             }
            },
            "type": "scattergeo"
           }
          ],
          "scattergl": [
           {
            "marker": {
             "colorbar": {
              "outlinewidth": 0,
              "ticks": ""
             }
            },
            "type": "scattergl"
           }
          ],
          "scattermapbox": [
           {
            "marker": {
             "colorbar": {
              "outlinewidth": 0,
              "ticks": ""
             }
            },
            "type": "scattermapbox"
           }
          ],
          "scatterpolar": [
           {
            "marker": {
             "colorbar": {
              "outlinewidth": 0,
              "ticks": ""
             }
            },
            "type": "scatterpolar"
           }
          ],
          "scatterpolargl": [
           {
            "marker": {
             "colorbar": {
              "outlinewidth": 0,
              "ticks": ""
             }
            },
            "type": "scatterpolargl"
           }
          ],
          "scatterternary": [
           {
            "marker": {
             "colorbar": {
              "outlinewidth": 0,
              "ticks": ""
             }
            },
            "type": "scatterternary"
           }
          ],
          "surface": [
           {
            "colorbar": {
             "outlinewidth": 0,
             "ticks": ""
            },
            "colorscale": [
             [
              0,
              "#0d0887"
             ],
             [
              0.1111111111111111,
              "#46039f"
             ],
             [
              0.2222222222222222,
              "#7201a8"
             ],
             [
              0.3333333333333333,
              "#9c179e"
             ],
             [
              0.4444444444444444,
              "#bd3786"
             ],
             [
              0.5555555555555556,
              "#d8576b"
             ],
             [
              0.6666666666666666,
              "#ed7953"
             ],
             [
              0.7777777777777778,
              "#fb9f3a"
             ],
             [
              0.8888888888888888,
              "#fdca26"
             ],
             [
              1,
              "#f0f921"
             ]
            ],
            "type": "surface"
           }
          ],
          "table": [
           {
            "cells": {
             "fill": {
              "color": "#EBF0F8"
             },
             "line": {
              "color": "white"
             }
            },
            "header": {
             "fill": {
              "color": "#C8D4E3"
             },
             "line": {
              "color": "white"
             }
            },
            "type": "table"
           }
          ]
         },
         "layout": {
          "annotationdefaults": {
           "arrowcolor": "#2a3f5f",
           "arrowhead": 0,
           "arrowwidth": 1
          },
          "autotypenumbers": "strict",
          "coloraxis": {
           "colorbar": {
            "outlinewidth": 0,
            "ticks": ""
           }
          },
          "colorscale": {
           "diverging": [
            [
             0,
             "#8e0152"
            ],
            [
             0.1,
             "#c51b7d"
            ],
            [
             0.2,
             "#de77ae"
            ],
            [
             0.3,
             "#f1b6da"
            ],
            [
             0.4,
             "#fde0ef"
            ],
            [
             0.5,
             "#f7f7f7"
            ],
            [
             0.6,
             "#e6f5d0"
            ],
            [
             0.7,
             "#b8e186"
            ],
            [
             0.8,
             "#7fbc41"
            ],
            [
             0.9,
             "#4d9221"
            ],
            [
             1,
             "#276419"
            ]
           ],
           "sequential": [
            [
             0,
             "#0d0887"
            ],
            [
             0.1111111111111111,
             "#46039f"
            ],
            [
             0.2222222222222222,
             "#7201a8"
            ],
            [
             0.3333333333333333,
             "#9c179e"
            ],
            [
             0.4444444444444444,
             "#bd3786"
            ],
            [
             0.5555555555555556,
             "#d8576b"
            ],
            [
             0.6666666666666666,
             "#ed7953"
            ],
            [
             0.7777777777777778,
             "#fb9f3a"
            ],
            [
             0.8888888888888888,
             "#fdca26"
            ],
            [
             1,
             "#f0f921"
            ]
           ],
           "sequentialminus": [
            [
             0,
             "#0d0887"
            ],
            [
             0.1111111111111111,
             "#46039f"
            ],
            [
             0.2222222222222222,
             "#7201a8"
            ],
            [
             0.3333333333333333,
             "#9c179e"
            ],
            [
             0.4444444444444444,
             "#bd3786"
            ],
            [
             0.5555555555555556,
             "#d8576b"
            ],
            [
             0.6666666666666666,
             "#ed7953"
            ],
            [
             0.7777777777777778,
             "#fb9f3a"
            ],
            [
             0.8888888888888888,
             "#fdca26"
            ],
            [
             1,
             "#f0f921"
            ]
           ]
          },
          "colorway": [
           "#636efa",
           "#EF553B",
           "#00cc96",
           "#ab63fa",
           "#FFA15A",
           "#19d3f3",
           "#FF6692",
           "#B6E880",
           "#FF97FF",
           "#FECB52"
          ],
          "font": {
           "color": "#2a3f5f"
          },
          "geo": {
           "bgcolor": "white",
           "lakecolor": "white",
           "landcolor": "#E5ECF6",
           "showlakes": true,
           "showland": true,
           "subunitcolor": "white"
          },
          "hoverlabel": {
           "align": "left"
          },
          "hovermode": "closest",
          "mapbox": {
           "style": "light"
          },
          "paper_bgcolor": "white",
          "plot_bgcolor": "#E5ECF6",
          "polar": {
           "angularaxis": {
            "gridcolor": "white",
            "linecolor": "white",
            "ticks": ""
           },
           "bgcolor": "#E5ECF6",
           "radialaxis": {
            "gridcolor": "white",
            "linecolor": "white",
            "ticks": ""
           }
          },
          "scene": {
           "xaxis": {
            "backgroundcolor": "#E5ECF6",
            "gridcolor": "white",
            "gridwidth": 2,
            "linecolor": "white",
            "showbackground": true,
            "ticks": "",
            "zerolinecolor": "white"
           },
           "yaxis": {
            "backgroundcolor": "#E5ECF6",
            "gridcolor": "white",
            "gridwidth": 2,
            "linecolor": "white",
            "showbackground": true,
            "ticks": "",
            "zerolinecolor": "white"
           },
           "zaxis": {
            "backgroundcolor": "#E5ECF6",
            "gridcolor": "white",
            "gridwidth": 2,
            "linecolor": "white",
            "showbackground": true,
            "ticks": "",
            "zerolinecolor": "white"
           }
          },
          "shapedefaults": {
           "line": {
            "color": "#2a3f5f"
           }
          },
          "ternary": {
           "aaxis": {
            "gridcolor": "white",
            "linecolor": "white",
            "ticks": ""
           },
           "baxis": {
            "gridcolor": "white",
            "linecolor": "white",
            "ticks": ""
           },
           "bgcolor": "#E5ECF6",
           "caxis": {
            "gridcolor": "white",
            "linecolor": "white",
            "ticks": ""
           }
          },
          "title": {
           "x": 0.05
          },
          "xaxis": {
           "automargin": true,
           "gridcolor": "white",
           "linecolor": "white",
           "ticks": "",
           "title": {
            "standoff": 15
           },
           "zerolinecolor": "white",
           "zerolinewidth": 2
          },
          "yaxis": {
           "automargin": true,
           "gridcolor": "white",
           "linecolor": "white",
           "ticks": "",
           "title": {
            "standoff": 15
           },
           "zerolinecolor": "white",
           "zerolinewidth": 2
          }
         }
        },
        "title": {
         "text": "training loss for GLSTMseq2seq_20_10"
        },
        "xaxis": {
         "anchor": "y",
         "autorange": true,
         "domain": [
          0,
          1
         ],
         "range": [
          0,
          2
         ],
         "title": {
          "text": "epochs"
         },
         "type": "linear"
        },
        "yaxis": {
         "anchor": "x",
         "autorange": true,
         "domain": [
          0,
          1
         ],
         "range": [
          191.3929890223912,
          212.72547252913165
         ],
         "title": {
          "text": "value"
         },
         "type": "linear"
        }
       }
      },
      "image/png": "[encoded data removed]",
      "text/html": [
       "<div>                            <div id=\"a19a39ae-4003-4278-b034-0c9778a9a3e8\" class=\"plotly-graph-div\" style=\"height:525px; width:100%;\"></div>            <script type=\"text/javascript\">                require([\"plotly\"], function(Plotly) {                    window.PLOTLYENV=window.PLOTLYENV || {};                                    if (document.getElementById(\"a19a39ae-4003-4278-b034-0c9778a9a3e8\")) {                    Plotly.newPlot(                        \"a19a39ae-4003-4278-b034-0c9778a9a3e8\",                        [{\"hovertemplate\":\"variable=train\\u003cbr\\u003eepochs=%{x}\\u003cbr\\u003evalue=%{y}\\u003cextra\\u003e\\u003c\\u002fextra\\u003e\",\"legendgroup\":\"train\",\"line\":{\"color\":\"#636efa\",\"dash\":\"solid\"},\"marker\":{\"symbol\":\"circle\"},\"mode\":\"lines\",\"name\":\"train\",\"orientation\":\"v\",\"showlegend\":true,\"x\":[1],\"xaxis\":\"x\",\"y\":[192.4596131977282],\"yaxis\":\"y\",\"type\":\"scatter\"},{\"hovertemplate\":\"variable=validation\\u003cbr\\u003eepochs=%{x}\\u003cbr\\u003evalue=%{y}\\u003cextra\\u003e\\u003c\\u002fextra\\u003e\",\"legendgroup\":\"validation\",\"line\":{\"color\":\"#EF553B\",\"dash\":\"solid\"},\"marker\":{\"symbol\":\"circle\"},\"mode\":\"lines\",\"name\":\"validation\",\"orientation\":\"v\",\"showlegend\":true,\"x\":[1],\"xaxis\":\"x\",\"y\":[211.65884835379464],\"yaxis\":\"y\",\"type\":\"scatter\"}],                        {\"template\":{\"data\":{\"histogram2dcontour\":[{\"type\":\"histogram2dcontour\",\"colorbar\":{\"outlinewidth\":0,\"ticks\":\"\"},\"colorscale\":[[0.0,\"#0d0887\"],[0.1111111111111111,\"#46039f\"],[0.2222222222222222,\"#7201a8\"],[0.3333333333333333,\"#9c179e\"],[0.4444444444444444,\"#bd3786\"],[0.5555555555555556,\"#d8576b\"],[0.6666666666666666,\"#ed7953\"],[0.7777777777777778,\"#fb9f3a\"],[0.8888888888888888,\"#fdca26\"],[1.0,\"#f0f921\"]]}],\"choropleth\":[{\"type\":\"choropleth\",\"colorbar\":{\"outlinewidth\":0,\"ticks\":\"\"}}],\"histogram2d\":[{\"type\":\"histogram2d\",\"colorbar\":{\"outlinewidth\":0,\"ticks\":\"\"},\"colorscale\":[[0.0,\"#0d0887\"],[0.1111111111111111,\"#46039f\"],[0.2222222222222222,\"#7201a8\"],[0.3333333333333333,\"#9c179e\"],[0.4444444444444444,\"#bd3786\"],[0.5555555555555556,\"#d8576b\"],[0.6666666666666666,\"#ed7953\"],[0.7777777777777778,\"#fb9f3a\"],[0.8888888888888888,\"#fdca26\"],[1.0,\"#f0f921\"]]}],\"heatmap\":[{\"type\":\"heatmap\",\"colorbar\":{\"outlinewidth\":0,\"ticks\":\"\"},\"colorscale\":[[0.0,\"#0d0887\"],[0.1111111111111111,\"#46039f\"],[0.2222222222222222,\"#7201a8\"],[0.3333333333333333,\"#9c179e\"],[0.4444444444444444,\"#bd3786\"],[0.5555555555555556,\"#d8576b\"],[0.6666666666666666,\"#ed7953\"],[0.7777777777777778,\"#fb9f3a\"],[0.8888888888888888,\"#fdca26\"],[1.0,\"#f0f921\"]]}],\"heatmapgl\":[{\"type\":\"heatmapgl\",\"colorbar\":{\"outlinewidth\":0,\"ticks\":\"\"},\"colorscale\":[[0.0,\"#0d0887\"],[0.1111111111111111,\"#46039f\"],[0.2222222222222222,\"#7201a8\"],[0.3333333333333333,\"#9c179e\"],[0.4444444444444444,\"#bd3786\"],[0.5555555555555556,\"#d8576b\"],[0.6666666666666666,\"#ed7953\"],[0.7777777777777778,\"#fb9f3a\"],[0.8888888888888888,\"#fdca26\"],[1.0,\"#f0f921\"]]}],\"contourcarpet\":[{\"type\":\"contourcarpet\",\"colorbar\":{\"outlinewidth\":0,\"ticks\":\"\"}}],\"contour\":[{\"type\":\"contour\",\"colorbar\":{\"outlinewidth\":0,\"ticks\":\"\"},\"colorscale\":[[0.0,\"#0d0887\"],[0.1111111111111111,\"#46039f\"],[0.2222222222222222,\"#7201a8\"],[0.3333333333333333,\"#9c179e\"],[0.4444444444444444,\"#bd3786\"],[0.5555555555555556,\"#d8576b\"],[0.6666666666666666,\"#ed7953\"],[0.7777777777777778,\"#fb9f3a\"],[0.8888888888888888,\"#fdca26\"],[1.0,\"#f0f921\"]]}],\"surface\":[{\"type\":\"surface\",\"colorbar\":{\"outlinewidth\":0,\"ticks\":\"\"},\"colorscale\":[[0.0,\"#0d0887\"],[0.1111111111111111,\"#46039f\"],[0.2222222222222222,\"#7201a8\"],[0.3333333333333333,\"#9c179e\"],[0.4444444444444444,\"#bd3786\"],[0.5555555555555556,\"#d8576b\"],[0.6666666666666666,\"#ed7953\"],[0.7777777777777778,\"#fb9f3a\"],[0.8888888888888888,\"#fdca26\"],[1.0,\"#f0f921\"]]}],\"mesh3d\":[{\"type\":\"mesh3d\",\"colorbar\":{\"outlinewidth\":0,\"ticks\":\"\"}}],\"scatter\":[{\"fillpattern\":{\"fillmode\":\"overlay\",\"size\":10,\"solidity\":0.2},\"type\":\"scatter\"}],\"parcoords\":[{\"type\":\"parcoords\",\"line\":{\"colorbar\":{\"outlinewidth\":0,\"ticks\":\"\"}}}],\"scatterpolargl\":[{\"type\":\"scatterpolargl\",\"marker\":{\"colorbar\":{\"outlinewidth\":0,\"ticks\":\"\"}}}],\"bar\":[{\"error_x\":{\"color\":\"#2a3f5f\"},\"error_y\":{\"color\":\"#2a3f5f\"},\"marker\":{\"line\":{\"color\":\"#E5ECF6\",\"width\":0.5},\"pattern\":{\"fillmode\":\"overlay\",\"size\":10,\"solidity\":0.2}},\"type\":\"bar\"}],\"scattergeo\":[{\"type\":\"scattergeo\",\"marker\":{\"colorbar\":{\"outlinewidth\":0,\"ticks\":\"\"}}}],\"scatterpolar\":[{\"type\":\"scatterpolar\",\"marker\":{\"colorbar\":{\"outlinewidth\":0,\"ticks\":\"\"}}}],\"histogram\":[{\"marker\":{\"pattern\":{\"fillmode\":\"overlay\",\"size\":10,\"solidity\":0.2}},\"type\":\"histogram\"}],\"scattergl\":[{\"type\":\"scattergl\",\"marker\":{\"colorbar\":{\"outlinewidth\":0,\"ticks\":\"\"}}}],\"scatter3d\":[{\"type\":\"scatter3d\",\"line\":{\"colorbar\":{\"outlinewidth\":0,\"ticks\":\"\"}},\"marker\":{\"colorbar\":{\"outlinewidth\":0,\"ticks\":\"\"}}}],\"scattermapbox\":[{\"type\":\"scattermapbox\",\"marker\":{\"colorbar\":{\"outlinewidth\":0,\"ticks\":\"\"}}}],\"scatterternary\":[{\"type\":\"scatterternary\",\"marker\":{\"colorbar\":{\"outlinewidth\":0,\"ticks\":\"\"}}}],\"scattercarpet\":[{\"type\":\"scattercarpet\",\"marker\":{\"colorbar\":{\"outlinewidth\":0,\"ticks\":\"\"}}}],\"carpet\":[{\"aaxis\":{\"endlinecolor\":\"#2a3f5f\",\"gridcolor\":\"white\",\"linecolor\":\"white\",\"minorgridcolor\":\"white\",\"startlinecolor\":\"#2a3f5f\"},\"baxis\":{\"endlinecolor\":\"#2a3f5f\",\"gridcolor\":\"white\",\"linecolor\":\"white\",\"minorgridcolor\":\"white\",\"startlinecolor\":\"#2a3f5f\"},\"type\":\"carpet\"}],\"table\":[{\"cells\":{\"fill\":{\"color\":\"#EBF0F8\"},\"line\":{\"color\":\"white\"}},\"header\":{\"fill\":{\"color\":\"#C8D4E3\"},\"line\":{\"color\":\"white\"}},\"type\":\"table\"}],\"barpolar\":[{\"marker\":{\"line\":{\"color\":\"#E5ECF6\",\"width\":0.5},\"pattern\":{\"fillmode\":\"overlay\",\"size\":10,\"solidity\":0.2}},\"type\":\"barpolar\"}],\"pie\":[{\"automargin\":true,\"type\":\"pie\"}]},\"layout\":{\"autotypenumbers\":\"strict\",\"colorway\":[\"#636efa\",\"#EF553B\",\"#00cc96\",\"#ab63fa\",\"#FFA15A\",\"#19d3f3\",\"#FF6692\",\"#B6E880\",\"#FF97FF\",\"#FECB52\"],\"font\":{\"color\":\"#2a3f5f\"},\"hovermode\":\"closest\",\"hoverlabel\":{\"align\":\"left\"},\"paper_bgcolor\":\"white\",\"plot_bgcolor\":\"#E5ECF6\",\"polar\":{\"bgcolor\":\"#E5ECF6\",\"angularaxis\":{\"gridcolor\":\"white\",\"linecolor\":\"white\",\"ticks\":\"\"},\"radialaxis\":{\"gridcolor\":\"white\",\"linecolor\":\"white\",\"ticks\":\"\"}},\"ternary\":{\"bgcolor\":\"#E5ECF6\",\"aaxis\":{\"gridcolor\":\"white\",\"linecolor\":\"white\",\"ticks\":\"\"},\"baxis\":{\"gridcolor\":\"white\",\"linecolor\":\"white\",\"ticks\":\"\"},\"caxis\":{\"gridcolor\":\"white\",\"linecolor\":\"white\",\"ticks\":\"\"}},\"coloraxis\":{\"colorbar\":{\"outlinewidth\":0,\"ticks\":\"\"}},\"colorscale\":{\"sequential\":[[0.0,\"#0d0887\"],[0.1111111111111111,\"#46039f\"],[0.2222222222222222,\"#7201a8\"],[0.3333333333333333,\"#9c179e\"],[0.4444444444444444,\"#bd3786\"],[0.5555555555555556,\"#d8576b\"],[0.6666666666666666,\"#ed7953\"],[0.7777777777777778,\"#fb9f3a\"],[0.8888888888888888,\"#fdca26\"],[1.0,\"#f0f921\"]],\"sequentialminus\":[[0.0,\"#0d0887\"],[0.1111111111111111,\"#46039f\"],[0.2222222222222222,\"#7201a8\"],[0.3333333333333333,\"#9c179e\"],[0.4444444444444444,\"#bd3786\"],[0.5555555555555556,\"#d8576b\"],[0.6666666666666666,\"#ed7953\"],[0.7777777777777778,\"#fb9f3a\"],[0.8888888888888888,\"#fdca26\"],[1.0,\"#f0f921\"]],\"diverging\":[[0,\"#8e0152\"],[0.1,\"#c51b7d\"],[0.2,\"#de77ae\"],[0.3,\"#f1b6da\"],[0.4,\"#fde0ef\"],[0.5,\"#f7f7f7\"],[0.6,\"#e6f5d0\"],[0.7,\"#b8e186\"],[0.8,\"#7fbc41\"],[0.9,\"#4d9221\"],[1,\"#276419\"]]},\"xaxis\":{\"gridcolor\":\"white\",\"linecolor\":\"white\",\"ticks\":\"\",\"title\":{\"standoff\":15},\"zerolinecolor\":\"white\",\"automargin\":true,\"zerolinewidth\":2},\"yaxis\":{\"gridcolor\":\"white\",\"linecolor\":\"white\",\"ticks\":\"\",\"title\":{\"standoff\":15},\"zerolinecolor\":\"white\",\"automargin\":true,\"zerolinewidth\":2},\"scene\":{\"xaxis\":{\"backgroundcolor\":\"#E5ECF6\",\"gridcolor\":\"white\",\"linecolor\":\"white\",\"showbackground\":true,\"ticks\":\"\",\"zerolinecolor\":\"white\",\"gridwidth\":2},\"yaxis\":{\"backgroundcolor\":\"#E5ECF6\",\"gridcolor\":\"white\",\"linecolor\":\"white\",\"showbackground\":true,\"ticks\":\"\",\"zerolinecolor\":\"white\",\"gridwidth\":2},\"zaxis\":{\"backgroundcolor\":\"#E5ECF6\",\"gridcolor\":\"white\",\"linecolor\":\"white\",\"showbackground\":true,\"ticks\":\"\",\"zerolinecolor\":\"white\",\"gridwidth\":2}},\"shapedefaults\":{\"line\":{\"color\":\"#2a3f5f\"}},\"annotationdefaults\":{\"arrowcolor\":\"#2a3f5f\",\"arrowhead\":0,\"arrowwidth\":1},\"geo\":{\"bgcolor\":\"white\",\"landcolor\":\"#E5ECF6\",\"subunitcolor\":\"white\",\"showland\":true,\"showlakes\":true,\"lakecolor\":\"white\"},\"title\":{\"x\":0.05},\"mapbox\":{\"style\":\"light\"}}},\"xaxis\":{\"anchor\":\"y\",\"domain\":[0.0,1.0],\"title\":{\"text\":\"epochs\"}},\"yaxis\":{\"anchor\":\"x\",\"domain\":[0.0,1.0],\"title\":{\"text\":\"value\"}},\"legend\":{\"title\":{\"text\":\"variable\"},\"tracegroupgap\":0},\"title\":{\"text\":\"training loss for GLSTMseq2seq_20_10\"},\"shapes\":[{\"type\":\"line\",\"x0\":1,\"x1\":1,\"xref\":\"x\",\"y0\":0,\"y1\":1,\"yref\":\"y domain\"},{\"type\":\"line\",\"x0\":0,\"x1\":1,\"xref\":\"x domain\",\"y0\":211.65884835379464,\"y1\":211.65884835379464,\"yref\":\"y\"}]},                        {\"responsive\": true}                    ).then(function(){\n",
       "                            \n",
       "var gd = document.getElementById('a19a39ae-4003-4278-b034-0c9778a9a3e8');\n",
       "var x = new MutationObserver(function (mutations, observer) {{\n",
       "        var display = window.getComputedStyle(gd).display;\n",
       "        if (!display || display === 'none') {{\n",
       "            console.log([gd, 'removed!']);\n",
       "            Plotly.purge(gd);\n",
       "            observer.disconnect();\n",
       "        }}\n",
       "}});\n",
       "\n",
       "// Listen for the removal of the full notebook cells\n",
       "var notebookContainer = gd.closest('#notebook-container');\n",
       "if (notebookContainer) {{\n",
       "    x.observe(notebookContainer, {childList: true});\n",
       "}}\n",
       "\n",
       "// Listen for the clearing of the current output cell\n",
       "var outputEl = gd.closest('.output');\n",
       "if (outputEl) {{\n",
       "    x.observe(outputEl, {childList: true});\n",
       "}}\n",
       "\n",
       "                        })                };                });            </script>        </div>"
      ]
     },
     "metadata": {},
     "output_type": "display_data"
    }
   ],
   "source": [
    "plot(model,\n",
    "     config,\n",
    "     loss_training, \n",
    "     loss_validation, \n",
    "     f\"GLSTMseq2seq_{past_step}_{future_step}\", \n",
    "     show = True)"
   ]
  },
  {
   "cell_type": "code",
   "execution_count": null,
   "id": "17696f50-a174-4561-9f76-71bf32ce5b9f",
   "metadata": {},
   "outputs": [],
   "source": []
  }
 ],
 "metadata": {
  "kernelspec": {
   "display_name": "Python 3 (ipykernel)",
   "language": "python",
   "name": "python3"
  },
  "language_info": {
   "codemirror_mode": {
    "name": "ipython",
    "version": 3
   },
   "file_extension": ".py",
   "mimetype": "text/x-python",
   "name": "python",
   "nbconvert_exporter": "python",
   "pygments_lexer": "ipython3",
   "version": "3.11.5"
  }
 },
 "nbformat": 4,
 "nbformat_minor": 5
}
